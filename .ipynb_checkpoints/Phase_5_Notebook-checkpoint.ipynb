{
 "cells": [
  {
   "cell_type": "markdown",
   "metadata": {},
   "source": [
    "## Introduction\n",
    "\n",
    "Research Question: How does the level of debt owed to the World Bank, intellectual property, and balance of payments correlate with the GDP growth rates of countries, and are there distinguishable patterns or differences in this relationship when comparing developed and developing nations?\n",
    "\n",
    "Our project aims to research the relationship between a Country’s GDP and their debt to the World Bank Group and the International Monetary Fund. The World Bank’s mission is to “end extreme poverty and promote shared prosperity in a sustainable way” (World Bank Group, 2023). However, there is extreme controversy on whether their involvement in developing countries’ economic development is positive or exploitative (Nagle, 2019). Seeing whether there is a relationship between a country’s economic prosperity (measured by GDP) and the pattern of loans(\"Borrower's Obligation\") received from these Multi-Governmental Organizations would provide an interesting insight into whether countries's economic livelihood is more negatively affected by the involvement of these MGOs. There is detailed and immensely available data that correlates to this topic because there is information on GDP and Debt for all countries, also broken down by developing versus developed countries. \n"
   ]
  },
  {
   "cell_type": "markdown",
   "metadata": {},
   "source": [
    "## Data Description\n",
    "We have four data tables for this phase: The GDP data for countries around the world, Loans/debt owed to the World Bank by countries, a dataset containing a list of developed countries (as classified biy the UN), and the Intellectual Property of countries for years 2000 to 2022.\n",
    "\n",
    "The GDP Dataset details the gross domestic product for individual countries across a set of years. Specifically, the dataset contains years from 1960 to 2022 with the respective GDPs - in USD dollars - for 267 countries around the world.\n",
    "\n",
    "The loans/debt dataset discusses a given amount of money loaned to a country from the World Bank and what how that money has been handled since. This particular dataset contains 148 countries and their original principal amount,canceled amount, undisbursed amount, disbursed amount, and borrower's obligation.\n",
    "\n",
    "For the intellectual property dataset it pertains to transactions between residents and non-residents concerning the authorized utilization of intellectual property rights. This encompasses rights like patents, trademarks, copyrights, industrial designs, trade secrets, and franchises. Additionally, it covers the usage of original productions or prototypes, which include copyrights on literature, software, films, and audio recordings, as well as associated rights for live events and various broadcast methods. The monetary values provided in the dataset are presented in contemporary U.S. dollars (World Bank, 2023). \n",
    "\n",
    "There is also a datset containing developed countries based on the United Nations classification. This is going to be used to compare if there are any patterns or trends with the dependent variables discussed previously and developing and developed nations.\n",
    "\n",
    "Link to balance of payments of countries owed to World Bank: https://finances.worldbank.org/Loans-and-Credits/IBRD-Country-wise-Loan-summary/5xqk-t59j\n",
    "\n",
    "Link to intellectual property: https://data.worldbank.org/indicator/BM.GSR.ROYL.CD?locations=SV\n",
    "\n",
    "Link to GDP: https://data.worldbank.org/indicator/NY.GDP.MKTP.CD?end=2022&start=2022&view=bar\n",
    "\n",
    "Link to Developed Countries Dataset: https://worldpopulationreview.com/country-rankings/developed-countries\n"
   ]
  },
  {
   "cell_type": "markdown",
   "metadata": {},
   "source": [
    "## Preregistration of Hypothesis"
   ]
  },
  {
   "cell_type": "markdown",
   "metadata": {},
   "source": [
    "Hypothesis 1: If a country’s borrower's obligation is greater, then they will be more likely to be a developed country. \n",
    "\n",
    "Analysis: We will conduct a logistic regression where we output whether or not a country is developed or developing (a dummy variable) based on an input of the borrower’s obligation (in USD dollars). The developed country dummy will be the reference variable, so we will test whether $e^\\beta$, where $\\beta$ is the coefficient output by the regression equation for the 'Borrower's Obligation' variable, is greater than 1. The analysis is important to economists and stakeholders who are invested in determining the impact of financial debt on a countries development status. If a higher borrower's obligation produces an output that a country is developing then that may influence lenders perception on loaning money to those countries. \n",
    "\n",
    "Hypothesis 2: The higher a country’s GDP (in USD Dollars), the higher the intellectual property charges (in USD Dollars). \n",
    "\n",
    "Analysis: We will conduct a linear regression where we input the GDP of a country and output the intellectual property charges. We would test whether  (the regression coefficient of GDP in our equation) is greater than 0 (if an increase in GDP causes an increase in Intellectual Property Charges). The reasons this analysis is important is because it may establish a link between innovation and economic/socioeconomic growth. It also can lead to policy development because a correlation could lead to policymakers to invest more in intellectual property in hopes that the GDP could grow. \n",
    "\n",
    "Hypothesis 3: For both developed and developing countries, as the number of years since 2000 increases, the intellectual property charges will increase as well. We will see a higher increase in intellectual property charges for developing countries rather than developed because developing countries have more potential for rapid growth. \n",
    "\n",
    "Analysis: We will conduct two linear regressions: one for developed and developing. The input is years since 2000 and the output is intellectual property changes in USD dollars. We will test whether the coefficient is a significant number, and this determines the impact of years on intellectual property changes for different countries (and their economic status). This analysis is important because it provides economists and investors more information on whether intellectual property changes are influenced by years (time) and how the status of developed or developing impacts the overall output as well. Understanding these patterns can help investors and innovators to predict the market (based on previous years) and plan for the future of innovation. \n"
   ]
  },
  {
   "cell_type": "markdown",
   "metadata": {},
   "source": [
    "## Data Cleaning "
   ]
  },
  {
   "cell_type": "code",
   "execution_count": 2,
   "metadata": {},
   "outputs": [
    {
     "ename": "ModuleNotFoundError",
     "evalue": "No module named 'duckdb'",
     "output_type": "error",
     "traceback": [
      "\u001b[0;31m---------------------------------------------------------------------------\u001b[0m",
      "\u001b[0;31mModuleNotFoundError\u001b[0m                       Traceback (most recent call last)",
      "Input \u001b[0;32mIn [2]\u001b[0m, in \u001b[0;36m<cell line: 9>\u001b[0;34m()\u001b[0m\n\u001b[1;32m      5\u001b[0m \u001b[38;5;28;01mfrom\u001b[39;00m \u001b[38;5;21;01msklearn\u001b[39;00m\u001b[38;5;21;01m.\u001b[39;00m\u001b[38;5;21;01mmodel_selection\u001b[39;00m \u001b[38;5;28;01mimport\u001b[39;00m train_test_split, KFold, cross_val_score\n\u001b[1;32m      7\u001b[0m \u001b[38;5;28;01mfrom\u001b[39;00m \u001b[38;5;21;01mscipy\u001b[39;00m \u001b[38;5;28;01mimport\u001b[39;00m stats\n\u001b[0;32m----> 9\u001b[0m \u001b[38;5;28;01mimport\u001b[39;00m \u001b[38;5;21;01mduckdb\u001b[39;00m\n\u001b[1;32m     11\u001b[0m \u001b[38;5;28;01mimport\u001b[39;00m \u001b[38;5;21;01mseaborn\u001b[39;00m \u001b[38;5;28;01mas\u001b[39;00m \u001b[38;5;21;01msns\u001b[39;00m\n\u001b[1;32m     12\u001b[0m \u001b[38;5;28;01mimport\u001b[39;00m \u001b[38;5;21;01mmatplotlib\u001b[39;00m\u001b[38;5;21;01m.\u001b[39;00m\u001b[38;5;21;01mpyplot\u001b[39;00m \u001b[38;5;28;01mas\u001b[39;00m \u001b[38;5;21;01mplt\u001b[39;00m\n",
      "\u001b[0;31mModuleNotFoundError\u001b[0m: No module named 'duckdb'"
     ]
    }
   ],
   "source": [
    "import pandas as pd\n",
    "import numpy as np\n",
    "import math as math\n",
    "from sklearn.linear_model import LinearRegression, LogisticRegression\n",
    "from sklearn.model_selection import train_test_split, KFold, cross_val_score\n",
    "\n",
    "from scipy import stats\n",
    "\n",
    "import duckdb\n",
    "\n",
    "import seaborn as sns\n",
    "import matplotlib.pyplot as plt\n",
    "import statsmodels.api as sm "
   ]
  },
  {
   "cell_type": "code",
   "execution_count": null,
   "metadata": {},
   "outputs": [],
   "source": [
    "int_property_df = pd.read_csv(\"Intellectual_Property_Table.csv\")\n",
    "gdp_df = pd.read_csv(\"GDP_Table.csv\", delimiter = \",\")\n",
    "debt_df = pd.read_csv(\"IBRD_Country-wise_Loan_summary.csv\")\n",
    "developed_countries_df = pd.read_csv(\"developed-countries-2023.csv\")"
   ]
  },
  {
   "cell_type": "markdown",
   "metadata": {},
   "source": [
    "We now look at the shapes of all of our dataframes. We know that all of our data is heavily based on the country/code -- printing the dataframe's shapes helped us see that the Intellectual Property, GDP, and Debt dataframes had different row amounts. Knowing there are 195 countries, this means that for the Debt dataframe, not all countries have debt data, and for the IP and GDP dataframes, world regions may also be included in addition to just countries as table entries. This will come into play later in the data cleaning, to ensure we are able to do analysis using all of our variables.\n"
   ]
  },
  {
   "cell_type": "code",
   "execution_count": null,
   "metadata": {},
   "outputs": [],
   "source": [
    "print(\"Intellectual Property dataframe shape\" + str(int_property_df.shape))\n",
    "print(\"GDP dataframe shape\" + str(gdp_df.shape))\n",
    "print(\"Debt dataframe shape\" + str(debt_df.shape))\n",
    "print(\"Developed Countries dataframe shape\" + str(developed_countries_df.shape))\n"
   ]
  },
  {
   "cell_type": "markdown",
   "metadata": {},
   "source": [
    "In our analysis, we decided that we do not want to consider years before 2000 due to large changes that were happening due to world events such as conflict and large changes in technology. We want to only consider years after 1999 because our data concerning countries' debt to the World Bank is current, meaning modern times' gdp and debt data will likely be more accurate.For this portion of data cleaning we create a list named unwanted_years that contains unwanted years that will then be removed from gdp_df dataframe. We then save this new gdp_df with the dropped columns to a csv file. We also drop the unwanted years from the int_property_df (intellectual property dataframe). We then save this to a new csv file as well. The reason we are dropping these specific years is because they are included in the dataframes we researched but the scope of time we are analyzing across as investigators only starts after 1999 (not including)."
   ]
  },
  {
   "cell_type": "code",
   "execution_count": null,
   "metadata": {},
   "outputs": [],
   "source": [
    "#years we do not want to consider\n",
    "unwanted_years = ['1960', '1961', '1962', '1963', '1964', '1965', '1966', '1967',\n",
    "                  '1968','1969', '1970', '1971', '1972', '1973', '1974', '1975', \n",
    "                  '1976', '1977','1978', '1979', '1980', '1981', '1982', '1983', \n",
    "                  '1984', '1985', '1986','1987', '1988', '1989', '1990', '1991', \n",
    "                  '1992', '1993', '1994', '1995','1996', '1997', '1998', '1999']\n",
    "\n",
    "#reducing GDP dataframe, saving to new csv\n",
    "filtered_gdp_df = gdp_df.drop(columns=unwanted_years)\n",
    "print(\"New GDP DF Columns:\" + str(filtered_gdp_df.columns))\n",
    "\n",
    "#saving to new csv file\n",
    "filtered_gdp_df.to_csv(\"Filtered_GDP.csv\", index=False)\n",
    "\n",
    "#reducing Intellectual Property dataframe, saving to new csv\n",
    "filtered_int_prop_df = int_property_df.drop(columns=unwanted_years)\n",
    "print(\"New Intellectual Property DF Columns:\" + str(filtered_int_prop_df.columns))\n",
    "\n",
    "#saving to new csv file\n",
    "filtered_int_prop_df.to_csv(\"Filtered_Int_Prop.csv\", index=False)"
   ]
  },
  {
   "cell_type": "markdown",
   "metadata": {},
   "source": [
    "For the developed countries CSV, we only need the country names and whether they are developed or not. Since all the countries in the CSV are developed, we can simply drop one of the year colulmns containing the human development index value, and fill the other one with ones to represent a binary variable where 1 = developed and 0 = not developed."
   ]
  },
  {
   "cell_type": "code",
   "execution_count": null,
   "metadata": {},
   "outputs": [],
   "source": [
    "#dropping year columns containing HDI values\n",
    "developed_countries_df = developed_countries_df.drop(\n",
    "    columns = ['Hdi2021','Hdi2020'])\n",
    "\n",
    "#adding column of all ones\n",
    "developed_countries_df['developed'] = 1\n",
    "\n",
    "developed_countries_df.head(10)"
   ]
  },
  {
   "cell_type": "markdown",
   "metadata": {},
   "source": [
    "We want to check the datatypes of our columns in each of our dataframes, to ensure that they are satisfactory for later analysis and comparison."
   ]
  },
  {
   "cell_type": "code",
   "execution_count": null,
   "metadata": {},
   "outputs": [],
   "source": [
    "print(\"GDP df datatypes\\n\" + str(filtered_gdp_df.dtypes))\n",
    "print(\"Intellectual Property df datatypes\\n\" + str(filtered_int_prop_df.dtypes))\n",
    "print(\"Debt df datatypes\\n\" + str(debt_df.dtypes))\n",
    "print(\"Developed Countries datatypes\\n\" + str(developed_countries_df.dtypes))"
   ]
  },
  {
   "cell_type": "markdown",
   "metadata": {},
   "source": [
    "Since all of the datatypes are able to be analyzed through regression without missing data-- year columns containing numbers representing money are floats and all other columns are objects -- we can move onto missing data.\n",
    "For this portion of data cleaning, we are ensuring that there is no missing data or NaNs in the dataframes. We are replacing these with 0.0. This ensures that we do not have abnormal graphs that have missing sections. For the GDP and Intellectual dataframes specifically, cells with missing data are represented using \"..\". For future analysis, we want to replace these values with 0 since these cells represent monetary values. The debt dataframe already uses 0 rather than NaN so it doesn't need this.\n"
   ]
  },
  {
   "cell_type": "code",
   "execution_count": null,
   "metadata": {},
   "outputs": [],
   "source": [
    "#Fill nans in GDP and Intellectual Property dataframes with 0\n",
    "filtered_gdp_df.replace(np.nan, 0.0, inplace=True)\n",
    "filtered_gdp_df.replace(\"..\", 0.0, inplace=True)\n",
    "\n",
    "filtered_int_prop_df.replace(np.nan, 0.0, inplace=True)\n",
    "filtered_int_prop_df.replace(\"..\", 0.0, inplace=True)"
   ]
  },
  {
   "cell_type": "markdown",
   "metadata": {},
   "source": [
    "\n",
    "In order to later compare and analyze countries' gdp and intellectual property in relation to debt and developed status, we want to add the contents of the Debt and Developed Country dataframes to both the GDP and Intellectual Property dataframes. Since we only want to analyze countries which we have all variables for as stated before, we will Inner Join on the Debt dataframe since it has the least amount of rows and therefore countries. This will prevent duplicated countries & countries with no data pertaining to some of our variables."
   ]
  },
  {
   "cell_type": "code",
   "execution_count": null,
   "metadata": {},
   "outputs": [],
   "source": [
    "#inner joining GDP df on Debt df\n",
    "gdp_debt_df = duckdb.sql(\"\"\"SELECT * FROM\n",
    "                         debt_df INNER JOIN filtered_gdp_df\n",
    "                         ON \n",
    "                         debt_df.Country \n",
    "                         = filtered_gdp_df.Country_Name\"\"\").df()\n",
    "\n",
    "#Dropping the redundant Country_Name column\n",
    "gdp_debt_df = gdp_debt_df.drop(\"Country_Name\", axis = 1)\n",
    "\n",
    "#inner joining Intellectual Property df on Debt df\n",
    "int_property_debt_df = duckdb.sql(\"\"\"SELECT * FROM\n",
    "                         debt_df INNER JOIN filtered_int_prop_df\n",
    "                         ON \n",
    "                         debt_df.Country \n",
    "                         = filtered_int_prop_df.Country_Name\"\"\").df()\n",
    "\n",
    "#Dropping the redundant Country_Name column\n",
    "int_property_debt_df = int_property_debt_df.drop(\"Country_Name\", axis = 1)\n",
    "\n",
    "print(gdp_debt_df.head(5))\n",
    "print(int_property_debt_df.head(5))"
   ]
  },
  {
   "cell_type": "markdown",
   "metadata": {},
   "source": [
    "Now we will add the Developed Countries dataframe to the two dataframes we just created above. We will left join the developed_countries_df on these dataframes, as sql will automatically just put the countries that are not in the developed_countries_df as having a value of NaN for the developed column."
   ]
  },
  {
   "cell_type": "code",
   "execution_count": null,
   "metadata": {},
   "outputs": [],
   "source": [
    "#adding developed countries df to gdp_debt_df\n",
    "gdp_dbt_dev_df = duckdb.sql(\"\"\"SELECT * FROM\n",
    "                         gdp_debt_df LEFT JOIN developed_countries_df\n",
    "                         ON gdp_debt_df.Country \n",
    "                         = developed_countries_df.country\"\"\").df()\n",
    "\n",
    "gdp_dbt_dev_df = gdp_dbt_dev_df.drop(columns = 'country')\n",
    "\n",
    "#adding developed countries df to int_prop_dbt_dev_df\n",
    "int_prop_dbt_dev_df = duckdb.sql(\"\"\"SELECT * FROM\n",
    "                         int_property_debt_df LEFT JOIN developed_countries_df\n",
    "                         ON int_property_debt_df.Country \n",
    "                         = developed_countries_df.country\"\"\").df()\n",
    "\n",
    "int_prop_dbt_dev_df = int_prop_dbt_dev_df.drop(columns = 'country')\n",
    "\n",
    "print(gdp_dbt_dev_df.head(5))\n",
    "print(int_prop_dbt_dev_df.head(5))"
   ]
  },
  {
   "cell_type": "markdown",
   "metadata": {},
   "source": [
    "Now, we will fill the NaN's in the 'developed' columns of these two data frames with 0s, so it is a binary column where 0 = not developed and 1 = developed."
   ]
  },
  {
   "cell_type": "code",
   "execution_count": null,
   "metadata": {},
   "outputs": [],
   "source": [
    "#filling NaN values in 'developed' columns of both dataframes with 0\n",
    "gdp_dbt_dev_df['developed'].replace(np.nan, value= 0, inplace = True)\n",
    "int_prop_dbt_dev_df['developed'].replace(np.nan, value= 0, inplace = True)\n",
    "\n",
    "\n",
    "int_prop_dbt_dev_df.to_csv(\"Int_Prop_Debt_Combined.csv\", index=False)\n",
    "gdp_dbt_dev_df.to_csv(\"GDP_Debt_Combined.csv\", index=False)\n",
    "\n",
    "\n",
    "print(gdp_dbt_dev_df.head(5))\n",
    "print(int_prop_dbt_dev_df.head(5))"
   ]
  },
  {
   "cell_type": "markdown",
   "metadata": {},
   "source": [
    "We will do some final checks for column datatypes -- All the year columns and columns having to do with the countries' debt to the World Bank (barring label columns such as country name and series label) should be float64."
   ]
  },
  {
   "cell_type": "code",
   "execution_count": null,
   "metadata": {},
   "outputs": [],
   "source": [
    "print(int_prop_dbt_dev_df.dtypes)\n",
    "print(gdp_dbt_dev_df.dtypes)"
   ]
  },
  {
   "cell_type": "markdown",
   "metadata": {},
   "source": [
    "The datatypes of the year columns in the Intellectual Property/Debt dataframe are objects when they should be floats. We will now rectify this."
   ]
  },
  {
   "cell_type": "code",
   "execution_count": null,
   "metadata": {},
   "outputs": [],
   "source": [
    "cols_to_fix = ['2000', '2001', '2002',\n",
    "       '2003', '2004', '2005', '2006', '2007', '2008', '2009', '2010', '2011',\n",
    "       '2012', '2013', '2014', '2015', '2016', '2017', '2018', '2019', '2020',\n",
    "       '2021', '2022']\n",
    "\n",
    "for col in cols_to_fix:\n",
    "  int_prop_dbt_dev_df[col] = int_prop_dbt_dev_df[col].astype(np.float64)"
   ]
  },
  {
   "cell_type": "markdown",
   "metadata": {},
   "source": [
    "## Preregistration of Analysis"
   ]
  },
  {
   "cell_type": "code",
   "execution_count": null,
   "metadata": {},
   "outputs": [],
   "source": [
    "#checking the columns existing in the df to conduct the data analysis\n",
    "print(gdp_dbt_dev_df.columns)"
   ]
  },
  {
   "cell_type": "markdown",
   "metadata": {},
   "source": [
    "We are now going to collect basic summary statistics on our dataset containing Countries' GDP & Debt to The World Bank."
   ]
  },
  {
   "cell_type": "code",
   "execution_count": null,
   "metadata": {},
   "outputs": [],
   "source": [
    "#collecting the summary statistics related to GDP & Debt\n",
    "print(gdp_dbt_dev_df.describe(include='all'))"
   ]
  },
  {
   "cell_type": "markdown",
   "metadata": {},
   "source": [
    "We will do the same for the dataset pertaining to Intellectual Property & Debt"
   ]
  },
  {
   "cell_type": "code",
   "execution_count": null,
   "metadata": {},
   "outputs": [],
   "source": [
    "#collecting the summary statistics related to Intellectual Property & Debt\n",
    "print(int_prop_dbt_dev_df.describe(include='all'))"
   ]
  },
  {
   "cell_type": "markdown",
   "metadata": {},
   "source": [
    "For both of these datasets, the summary statistics are not able to provide too great of an insight into the data -- yes, we are able to see aspects such as the fact that the mean principal loan amount accross all countries in our dataset was $6.013611e+09, but because we want to look at the relation between Intellectual Property and/or GDP in relation to Debt over a period of years, depending on the binary variable that determines whether or not a country is developed, we need to do further data exploration through graphs and plots."
   ]
  },
  {
   "cell_type": "markdown",
   "metadata": {},
   "source": [
    "### Hypothesis 1: A Higher Borrower's Obligation Implies That a Country is More Likely to be Developed"
   ]
  },
  {
   "cell_type": "code",
   "execution_count": null,
   "metadata": {},
   "outputs": [],
   "source": [
    "#loading in cleaned csv from phase 2 (gdp data, debt data, and developed binary\n",
    "#variable)\n",
    "\n",
    "gdp_debt_csv = pd.read_csv(\"./GDP_Debt_Combined.csv\")\n",
    "print(gdp_debt_csv.head(2))"
   ]
  },
  {
   "cell_type": "markdown",
   "metadata": {},
   "source": [
    "We will now plot a scatterplot to distinguish the developed and developing economies' borrowers obligation to see whether a higher borrower's obligation would most likely be among developed or developing economies. To do so, we will use binary values 1 and 0, 1 being developed and 0 being a developing economy."
   ]
  },
  {
   "cell_type": "code",
   "execution_count": null,
   "metadata": {},
   "outputs": [],
   "source": [
    "#plotting the data prior to the regression analysis, to get a visual\n",
    "#understanding of borrower's obligation  in relation to developed/developing\n",
    "\n",
    "plt.figure(figsize = (10, 6))\n",
    "sns.scatterplot(y = gdp_debt_csv['developed'], x = gdp_debt_csv['Borrower\\'s Obligation'])\n",
    "plt.ylabel('Developed Binary Value')\n",
    "plt.xlabel('Borrower\\'s Obligation (Billions of $)')\n",
    "plt.legend()"
   ]
  },
  {
   "cell_type": "markdown",
   "metadata": {},
   "source": [
    "On this scatterplot, it appears that there are more developed economies with a higher borrower's obligation (Billions of $) than developed economies, which are concentrated towards the lower amount of the range of borrower's obligation. Thus, we will conduct a logistic regression to see whether the relationship between borrower's obligation and the status of it being developed or developing is significant. "
   ]
  },
  {
   "cell_type": "code",
   "execution_count": null,
   "metadata": {},
   "outputs": [],
   "source": [
    "#fitting model and looking at coefficient\n",
    "y = gdp_debt_csv['developed']\n",
    "X = gdp_debt_csv[['Borrower\\'s Obligation']]\n",
    "X_sm = sm.add_constant(X)\n",
    "b_obl_model = sm.Logit(y,X_sm).fit()\n",
    "print(b_obl_model.summary())"
   ]
  },
  {
   "cell_type": "markdown",
   "metadata": {},
   "source": [
    "In this case, the value for $e^\\beta$ is approximately 1.  This means that for every dollar change in the amount of money for a country's Borrower's Obligation, we expect that the odds of a country being developed are multiplied by 1.  This is inconclusive, because it means that the odds of a country being developed stay the same regardless of any change in borrower's obligation.  As a result, we have to reject our hypothesis. In addition, the p-value is 0.088 which is greater than 0.05, so that means the output is not significant."
   ]
  },
  {
   "cell_type": "code",
   "execution_count": null,
   "metadata": {},
   "outputs": [],
   "source": [
    "year_columns = [str(year) for year in range(2000, 2023)]\n",
    "year_loan = ['Borrower\\'s Obligation'] + year_columns\n",
    "\n",
    "# creating a correlation matrix\n",
    "correlation_matrix = gdp_dbt_dev_df[year_loan].corr()\n",
    "\n",
    "# creating the heatmap\n",
    "plt.figure(figsize=(12, 8))\n",
    "sns.heatmap(correlation_matrix, annot=True, cmap='coolwarm', linewidths=0.5)\n",
    "plt.title('Heatmap of Correlation Between GDP and Borrower\\'s Obligation')\n",
    "plt.show()"
   ]
  },
  {
   "cell_type": "code",
   "execution_count": null,
   "metadata": {},
   "outputs": [],
   "source": [
    "#plotting a line graph of the average GDP growth over the years\n",
    "#for developed vs developing countries\n",
    "plt.figure(figsize=(12,6))\n",
    "developed_df = gdp_dbt_dev_df[gdp_dbt_dev_df['developed'] == 1.0]\n",
    "developing_df = gdp_dbt_dev_df[gdp_dbt_dev_df['developed'] == 0.0]\n",
    "developed_df.loc[:, '2000':'2022'].mean().plot(label='Developed')\n",
    "developing_df.loc[:, '2000':'2022'].mean().plot(label='Developing')\n",
    "plt.title('Average GDP Over the Years: Developed vs Developing')\n",
    "plt.xlabel('Year')\n",
    "plt.ylabel('Average GDP')\n",
    "plt.legend()\n",
    "plt.grid(True)\n",
    "plt.show()"
   ]
  },
  {
   "cell_type": "code",
   "execution_count": null,
   "metadata": {},
   "outputs": [],
   "source": [
    "plt.figure(figsize=(10,6))\n",
    "sns.scatterplot(data=gdp_dbt_dev_df, y='Borrower\\'s Obligation', x='2020',\n",
    "                hue='developed', palette=\"viridis\")\n",
    "plt.title('GDP (2020) vs Borrower\\'s Obligation')\n",
    "plt.ylabel('Borrower\\'s Obligation (Billions of $)')\n",
    "plt.xlabel('GDP for the Year 2020 (Billions of $)')\n",
    "plt.show()"
   ]
  },
  {
   "cell_type": "markdown",
   "metadata": {},
   "source": [
    "### Hypothesis 2: The Higher GDP a Country Has, The More Likely it is to Have a High Value for Intellectual Property Charges"
   ]
  },
  {
   "cell_type": "code",
   "execution_count": null,
   "metadata": {},
   "outputs": [],
   "source": [
    "ip_debt_csv = pd.read_csv(\"./Int_Prop_Debt_Combined.csv\")\n",
    "print(ip_debt_csv.head(2))"
   ]
  },
  {
   "cell_type": "code",
   "execution_count": null,
   "metadata": {},
   "outputs": [],
   "source": [
    "data_columns = ['2000', '2001', '2002', '2003', '2004', '2005', '2006', '2007', '2008',\n",
    "       '2009', '2010', '2011', '2012', '2013', '2014', '2015', '2016', '2017',\n",
    "       '2018', '2019', '2020', '2021', '2022']\n",
    "\n",
    "ip_avg = ip_debt_csv[data_columns].mean(axis = 1)\n",
    "ip_debt_csv['avg'] = ip_avg\n",
    "print(ip_debt_csv.head())\n",
    "\n",
    "gdp_avg = gdp_debt_csv[data_columns].mean(axis = 1)\n",
    "gdp_debt_csv['avg'] = gdp_avg\n",
    "print(gdp_debt_csv.head())"
   ]
  },
  {
   "cell_type": "code",
   "execution_count": null,
   "metadata": {},
   "outputs": [],
   "source": [
    "#fitting model and looking at coefficient\n",
    "y = ip_avg\n",
    "X = gdp_debt_csv[['avg']]\n",
    "X_sm = sm.add_constant(X)\n",
    "gdp_ip_model = sm.OLS(y,X_sm).fit()\n",
    "print(gdp_ip_model.summary())"
   ]
  },
  {
   "cell_type": "markdown",
   "metadata": {},
   "source": [
    "In this case, the value for the coefficient of the GDP variable in the linear regression is 0.005006.  This means that for every dollar change in the amount of money for a country's Gross Domestic Product is, we can expect the country's Intellectual Property Charges to increase by $0.0005.  This is an extremely small amount, but because our GDP and Intellectual Property Charge values are in the Billions, it does show an positive correlation between GDP and Intellectual Property Charge.  As a result, our hypothesis was true to an extent."
   ]
  },
  {
   "cell_type": "markdown",
   "metadata": {},
   "source": [
    "### Looking at Specific Years' Impacts on Intellectual Property Charges for Developed vs Developing Countries:"
   ]
  },
  {
   "cell_type": "markdown",
   "metadata": {},
   "source": [
    "We are aware that there are different events that occured each year since the beginning of the 21st century, including wars, economic development, pandemics, etc that could have had impacts on the intellectual property charges for developed and developing countries.  We want to analyze whether the amount of years since 2000 has a significant impact on intellectual property charges for both developed and developing countries."
   ]
  },
  {
   "cell_type": "markdown",
   "metadata": {},
   "source": [
    "First, we will separate our intellectual property dataframe into developed and developing country dataframes, only with the relevant years selected."
   ]
  },
  {
   "cell_type": "code",
   "execution_count": null,
   "metadata": {},
   "outputs": [],
   "source": [
    "data_columns = ['2000', '2001', '2002', '2003', '2004', '2005', '2006', '2007', '2008',\n",
    "       '2009', '2010', '2011', '2012', '2013', '2014', '2015', '2016', '2017',\n",
    "       '2018', '2019', '2020', '2021', '2022']\n",
    "\n",
    "data_columns_with_dev = ['2000', '2001', '2002', '2003', '2004', '2005', '2006', '2007', '2008',\n",
    "       '2009', '2010', '2011', '2012', '2013', '2014', '2015', '2016', '2017',\n",
    "       '2018', '2019', '2020', '2021', '2022', 'developed']\n",
    "\n",
    "ip_years_data = ip_debt_csv[data_columns_with_dev]\n",
    "ip_years_data['gdp_average'] = gdp_avg\n",
    "ip_years_data.head()\n",
    "\n",
    "ip_years_data_developed = duckdb.sql('SELECT * FROM ip_years_data WHERE developed = 1.0').df()\n",
    "ip_years_data_developing = duckdb.sql('SELECT * FROM ip_years_data WHERE developed = 0.0').df()\n",
    "\n"
   ]
  },
  {
   "cell_type": "markdown",
   "metadata": {},
   "source": [
    "Now, we will average each year's intellectual property charges for all countries, for both developed and developing countries based on the 'developed' binary variable's value, and plot average intellectual property charges for developed and developing countries over the years on a line plot."
   ]
  },
  {
   "cell_type": "code",
   "execution_count": null,
   "metadata": {},
   "outputs": [],
   "source": [
    "plt.figure(figsize=(12,6))\n",
    "ip_years_data_developed.loc[:, '2000':'2022'].mean().plot(label='Developed')\n",
    "ip_years_data_developing.loc[:, '2000':'2022'].mean().plot(label='Developing')\n",
    "plt.title('Average Intellectual Property Charges Over the Years: Developed'\n",
    "          +' vs Developing')\n",
    "plt.xlabel('Year')\n",
    "plt.ylabel('Average IP Charge (Billions of $)')\n",
    "plt.legend()\n",
    "plt.grid(True)\n",
    "plt.show()"
   ]
  },
  {
   "cell_type": "markdown",
   "metadata": {},
   "source": [
    "From the line plot, we can see that there is an overall positive trend for both developing and developed countries' intellectual properties as years since 2000 increases -- there is, however a lot of local variation (especially for developed countries) and the increase in intellectual property charges is much larger in magnitude for developed countries than developing countries.  As a result, exploring individual years impacts, as well as the time since the year 2000's impacts on intellectual property charges might be insightful."
   ]
  },
  {
   "cell_type": "markdown",
   "metadata": {},
   "source": [
    "#### Looking at Year's Impact on Intellectual Property Charges For Both Developing and Developed Countries"
   ]
  },
  {
   "cell_type": "markdown",
   "metadata": {},
   "source": [
    "First, we want to create a dependent and independent variable set for both developed and developing countries -- the independent variable (x) will be 'number of years since 2000' and the dependent variable (y) will be 'average intellectual property charge' for all countries in the developed/developing category for that year."
   ]
  },
  {
   "cell_type": "code",
   "execution_count": null,
   "metadata": {},
   "outputs": [],
   "source": [
    "#only data containing ip charges and years for developing countries\n",
    "ip_df_deving_only_years = ip_years_data_developing.loc[:, '2000':'2022']\n",
    "\n",
    "#only data containing ip charges and years for developing countries\n",
    "ip_df_deved_only_years =ip_years_data_developed.loc[:, '2000':'2022']\n",
    "\n",
    "#averages for both dataframes\n",
    "ip_avg_deving = ip_df_deving_only_years.mean()\n",
    "ip_avg_deved = ip_df_deved_only_years.mean()\n",
    "\n",
    "#resetting index column to be 0-22 (to match years since 2000)\n",
    "ip_avg_deving = ip_avg_deving.reset_index(drop=True)\n",
    "ip_avg_deved = ip_avg_deved.reset_index(drop=True)\n",
    "\n",
    "#creating an array with values [0,22] to represent years since 2000\n",
    "years_since_2000 = pd.DataFrame(np.arange(0,23))\n",
    "years_since_2000 = years_since_2000.rename(columns={0 : \"YearsSince2000\"})"
   ]
  },
  {
   "cell_type": "markdown",
   "metadata": {},
   "source": [
    "Now, we will conduct a linear regression for both developing and developed countries to see if Number of Years Since 2000 has a significant impact on either category's Intellectual Property Charges."
   ]
  },
  {
   "cell_type": "code",
   "execution_count": null,
   "metadata": {},
   "outputs": [],
   "source": [
    "#OLS for Developed Countries\n",
    "y = ip_avg_deved\n",
    "X = years_since_2000\n",
    "X_sm = sm.add_constant(X)\n",
    "ip_years_model_deved = sm.OLS(y,X_sm).fit()\n",
    "print(\"Developed Country Summary:\")\n",
    "print(ip_years_model_deved.summary())"
   ]
  },
  {
   "cell_type": "code",
   "execution_count": null,
   "metadata": {},
   "outputs": [],
   "source": [
    "#OLS for Developing Countries\n",
    "y = ip_avg_deving\n",
    "X = years_since_2000\n",
    "X_sm = sm.add_constant(X)\n",
    "ip_years_model_deving = sm.OLS(y,X_sm).fit()\n",
    "print(\"Developing Country Summary:\")\n",
    "print(ip_years_model_deving.summary())"
   ]
  },
  {
   "cell_type": "markdown",
   "metadata": {},
   "source": [
    "For Developed Countries, we can see from our summary that the coefficient for the 'Years Since 2000' variable is 2.629e+08, which means that for every additional year since 2000, we can expect the Intellectual Property Charges for Developed Countries on average to increase by about $263 Million.  The p-value for this coefficient is less than 0.005, meaning we can consider this statistically significant.\n",
    "\n",
    "For Developing Countries, we can see from our summary that the coefficient for the 'Years Since 2000' variable is 4.282e+07, which means that for every additional year since 2000, we can expect the Intellectual Property Charges for Developing Countries on average to increase by about $43 Million.  The p-value for this coefficient is less than 0.005, meaning we can consider this statistically significant.\n",
    "\n",
    "From this regression (which we will explore more in Evaluation of Significance + Interpretations), we see that an increase in the year since 2000 most likely positively influences Intellectual Property Charges for both developed and developing countries, and influences developed countries with a greater magnitude."
   ]
  },
  {
   "cell_type": "markdown",
   "metadata": {},
   "source": [
    "## Evaluation of Significance\n",
    "\n",
    "Hypothesis 1: \n",
    "The logistic regression derived indicates that the coefficient for 'Borrower's Obligation' is very close to 0 ( around -1.287e-10 ), and the odds ratio is close to 1. The odds ratio is calculated by e to the negative coefficient (e ^ -1.287e-10 ). This suggests that the odds of a country being developed does not significantly or necessarily change with a one dollar (USD) increase in borrower’s obligation. \n",
    "\n",
    "Hypothesis 2: \n",
    "The linear regression  0.0005. Because this is a positive number we know that there is a positive relationship between Intellectual Property Changes and GDP. It is important to acknowledge that the number is extremely small meaning that there is a weak relationship between the numbers. In other words it means that for an increase in Intellectual property there might be an increase in GDP but it will not have substantial impact. As a result, it is not significantly changing. \n"
   ]
  },
  {
   "cell_type": "markdown",
   "metadata": {},
   "source": [
    "******Limitations of\n",
    "significance metrics\n",
    "are acknowledged"
   ]
  },
  {
   "cell_type": "markdown",
   "metadata": {},
   "source": [
    "## Intepretation and Conclusions\n",
    "\n",
    "- Interpretation: \n",
    "\n",
    "Hypothesis 1: \n",
    "The purpose of the logistic regression was to determine whether a country’s status of being developed or developing could be predicted based on the country’s borrower's obligation to the World Bank. The coefficient was -2.16015716e-10. Therefore, the odds ratio is approximately 1 as explained previously. This means that for every 1 (measured in USD dollars) increase in borrower’s obligation, the probability of a country being developed changes by a small amount. Thus, this tells us that a country’s borrower’s obligation is not a strong enough indicator of whether a country is developed or not. \n",
    "\n",
    "Hypothesis 2: \n",
    "\n",
    "The purpose of the linear regression was to determine the relationship between a country’s GDP (Gross Domestic Product measured in USD dollars) and the country’s intellectual property changes (measured in USD dollars). The coefficient was 0.0005. This means that for every 1 increase in GDP (in USD dollars), the Intellectual Property Charges are predicted to increase by 0.0005 units. This is a positive number and does indicate a relationship between the values, but it is still a very small number. This means that there might not be as much of a change in the Intellectual Property Changes as we would have expected. \n",
    "\n",
    "- Conclusion:\n",
    "\n",
    "The analysis conducted above looks at data in an economic context and whether our initial hypothesis showed significance as we expected. We have now determined that the logistic regression did not show a strong relationship between Borrower’s obligation and the country’s developed or developing status. This was against our initial hypothesis. The linear relationship showed statistical significance between Intellectual Property Changes and GDP but because of how small the number is we determined that it had a small effect on the dependent variable in the scenario. As a result, both of these hypotheses emphasized the need for statistical analysis when determining coefficients and regression results. We hope that with more variables and further analysis we will be able to craft models and determine predictors for different aspects of a country’s economic landscape. \n"
   ]
  },
  {
   "cell_type": "markdown",
   "metadata": {},
   "source": [
    "## Limitations\n",
    "Below are the key limitations that we found:\n",
    "\n",
    "1. The data sets used cover GDP, World Bank debt, intellectual property transactions, and a list of developing and developed countries. While comprehensive, they might not account for all factors influencing a country's economic health. Variables like political stability, demographic changes, global market trends, and internal economic policies are not considered but can significantly impact GDP and debt levels.\n",
    "\n",
    "2. The focus on data from 2000 to 2022 might miss longer-term trends and historical contexts that could influence current economic conditions. Economic policies and global events prior to 2000 could have lasting impacts not captured in this analysis.\n",
    "\n",
    "3. The use of a binary classification (developed vs. developing) oversimplifies the spectrum of economic development. Many countries do not fit neatly into these categories, and such a binary view might overlook important nuances.\n",
    "\n",
    "4. The analysis, primarily based on regression models, can indicate correlations but not necessarily causality. For instance, while there might be a relationship between GDP and intellectual property charges, this does not imply that one causes the other.\n",
    "\n",
    "5. Given the diverse nature of economies and the unique circumstances of each country, the findings from this analysis may not be universally applicable. What holds true for one set of countries might not apply to others.\n",
    "\n",
    "6. The logistic and linear regression models used have their own limitations. For instance, logistic regression might not capture complex, non-linear relationships. Similarly, linear regression assumptions (like homoscedasticity, normality of residuals) might not hold true for all the variables analyzed.\n",
    "\n",
    "7. The datasets are secondary sources compiled by different organizations, which might have varying standards of data collection and reporting. Also, not all countries might have reported all the required data, leading to potential biases or inaccuracies in the analysis.\n",
    "\n",
    "8. The analysis is quantitative and may not fully account for qualitative aspects like the nature of intellectual property rights enforcement, the terms of World Bank loans, or the specific economic policies of countries.\n",
    "\n",
    "9. While the analysis might show statistical significance (like a small but non-zero correlation between GDP and intellectual property charges), the practical significance of these findings (how they translate into real-world implications) needs careful interpretation.\n",
    "\n",
    "10. There were a few missing data that would have ‘..’ instead of 0 and NaN. As a result, we had to fill in the spaces with NaN to account for the lack of data."
   ]
  },
  {
   "cell_type": "markdown",
   "metadata": {},
   "source": [
    "Priority questions from Datasheets for Datasets:\n",
    "\n",
    "● What are the observations (rows) and the attributes (columns)?\n",
    "\n",
    "● Why was this dataset created?\n",
    "\n",
    "● Who funded the creation of the dataset?\n",
    "\n",
    "● What processes might have influenced what data was observed and recorded and what was not?\n",
    "\n",
    "● What preprocessing was done, and how did the data come to be in the form that you are using?\n",
    "\n",
    "● If people are involved, were they aware of the data collection and if so, what purpose did they expect the data to be used for?\n",
    "\n",
    "● Where can your raw source data be found, if applicable? Provide a link to the raw data (hosted on Github, in a Cornell Google Drive or Cornell Box).\n"
   ]
  },
  {
   "cell_type": "markdown",
   "metadata": {},
   "source": []
  }
 ],
 "metadata": {
  "kernelspec": {
   "display_name": "Python 3 (ipykernel)",
   "language": "python",
   "name": "python3"
  },
  "language_info": {
   "codemirror_mode": {
    "name": "ipython",
    "version": 3
   },
   "file_extension": ".py",
   "mimetype": "text/x-python",
   "name": "python",
   "nbconvert_exporter": "python",
   "pygments_lexer": "ipython3",
   "version": "3.9.12"
  }
 },
 "nbformat": 4,
 "nbformat_minor": 2
}

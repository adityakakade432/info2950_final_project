{
 "cells": [
  {
   "cell_type": "markdown",
   "id": "de7d4b69",
   "metadata": {},
   "source": [
    "# Phase 2 Notebook\n",
    "\n",
    "Aditya Kakade (apk67), Johanna Jung (), Maaya Kanvar ()"
   ]
  },
  {
   "cell_type": "markdown",
   "id": "a2be99d6",
   "metadata": {},
   "source": [
    "### Data Collection & Cleaning"
   ]
  },
  {
   "cell_type": "markdown",
   "id": "082e007d",
   "metadata": {},
   "source": [
    "First, we will import all of the necessary libraries and packages into our notebook"
   ]
  },
  {
   "cell_type": "code",
   "execution_count": null,
   "id": "f5b4eef3",
   "metadata": {},
   "outputs": [],
   "source": [
    "import pandas as pd\n",
    "import numpy as np\n",
    "import matplotlib.pyplot as plt\n",
    "import seaborn as sns\n",
    "import duckdb as duckdb"
   ]
  },
  {
   "cell_type": "markdown",
   "id": "041d866a",
   "metadata": {},
   "source": [
    "Here we are reading in all of our csv files as dataframes.  We have four files:\n",
    "1) A CSV file representing the amount of money that countries were paid for their intellectual property for years from 1960 - 2022\n",
    "2) A CSV file representing the GDP of countries for years from 1960 - 2022\n",
    "3) A CSV file representing various loan statistics including current balance and inital amount regarding countries' debt to the World Bank\n",
    "4) A CSV file containing all developed countries as classified by the UN, and their Human Development Indexes for 2021 and 2022\n",
    "\n",
    "CSV files 1, 2, and 3 are all from the World Bank, and CSV file 4 is from the World Population Review.\n",
    "\n",
    "*In order to import the GDP_Table.csv file, we needed to manually delete rows 1-4, as they had headers and titles that were interfering with panda's ability to parse the file."
   ]
  },
  {
   "cell_type": "code",
   "execution_count": null,
   "id": "c7d79e3f",
   "metadata": {},
   "outputs": [],
   "source": [
    "int_property_df = pd.read_csv(\"./Intellectual_Property_Table.csv\")\n",
    "gdp_df = pd.read_csv(\"./GDP_Table.csv\", delimiter = \",\")\n",
    "debt_df = pd.read_csv(\"./IBRD_Country-wise_Loan_summary.csv\")\n",
    "developed_countries_df = pd.read_csv(\"./developed-countries-2023.csv\")\n"
   ]
  },
  {
   "cell_type": "markdown",
   "id": "71d0c1bb",
   "metadata": {},
   "source": [
    "We now look at the shapes of all of our dataframes.  We know that all of our data is heavily based on the country/code -- printing the dataframe's shapes helped us see that the Intellectual Property, GDP, and Debt dataframes had different row amounts. Knowing there are 195 countries, this means that for the Debt dataframe, not all countries have debt data, and for the IP and GDP dataframes, world regions may also be included in addition to just countries as table entries.  This will come into play later in the data cleaning, to ensure we are able to do analysis using all of our variables."
   ]
  },
  {
   "cell_type": "code",
   "execution_count": null,
   "id": "e586f647",
   "metadata": {},
   "outputs": [
    {
     "name": "stdout",
     "output_type": "stream",
     "text": [
      "Intellectual Property dataframe shape(271, 67)\n",
      "GDP dataframe shape(266, 67)\n",
      "Debt dataframe shape(147, 6)\n",
      "Developed Countries dataframe shape(66, 3)\n"
     ]
    }
   ],
   "source": [
    "print(\"Intellectual Property dataframe shape\" + str(int_property_df.shape))\n",
    "print(\"GDP dataframe shape\" + str(gdp_df.shape))\n",
    "print(\"Debt dataframe shape\" + str(debt_df.shape))\n",
    "print(\"Developed Countries dataframe shape\" + str(developed_countries_df.shape))\n"
   ]
  },
  {
   "cell_type": "markdown",
   "id": "b083b5e3",
   "metadata": {},
   "source": [
    "In our analysis, we decided that we do not want to consider years before 2000 due to large changes that were happening due to world events such as conflict and large changes in technology.  We want to only consider years after 1999 because our data concerning countries' debt to the World Bank is current, meaning modern times' gdp and debt data will likely be more accurate.\n",
    "\n",
    "To do this, we put all of our unwanted years in an array, and used this array to drop them from both the GDP dataframe and the Intellectual Property dataframe.  We then saved these filtered dataframes as new csv's after making sure the columns aligned with our expectations."
   ]
  },
  {
   "cell_type": "code",
   "execution_count": null,
   "id": "818b8b9d",
   "metadata": {},
   "outputs": [
    {
     "name": "stdout",
     "output_type": "stream",
     "text": [
      "New GDP DF Columns:Index(['Country_Name', 'Country_Code', 'Indicator_Name', 'Indicator_Code',\n",
      "       '2000', '2001', '2002', '2003', '2004', '2005', '2006', '2007', '2008',\n",
      "       '2009', '2010', '2011', '2012', '2013', '2014', '2015', '2016', '2017',\n",
      "       '2018', '2019', '2020', '2021', '2022'],\n",
      "      dtype='object')\n",
      "New Intellectual Property DF Columns:Index(['Country_Name', 'Country_Code', 'Series_Name', 'Series_Code', '2000',\n",
      "       '2001', '2002', '2003', '2004', '2005', '2006', '2007', '2008', '2009',\n",
      "       '2010', '2011', '2012', '2013', '2014', '2015', '2016', '2017', '2018',\n",
      "       '2019', '2020', '2021', '2022'],\n",
      "      dtype='object')\n"
     ]
    }
   ],
   "source": [
    "#years we do not want to consider\n",
    "unwanted_years = ['1960', '1961', '1962', '1963', '1964', '1965', '1966', '1967', '1968',\n",
    "       '1969', '1970', '1971', '1972', '1973', '1974', '1975', '1976', '1977',\n",
    "       '1978', '1979', '1980', '1981', '1982', '1983', '1984', '1985', '1986',\n",
    "       '1987', '1988', '1989', '1990', '1991', '1992', '1993', '1994', '1995',\n",
    "       '1996', '1997', '1998', '1999']\n",
    "\n",
    "#reducing GDP dataframe, saving to new csv\n",
    "filtered_gdp_df = gdp_df.drop(columns=unwanted_years)\n",
    "print(\"New GDP DF Columns:\" + str(filtered_gdp_df.columns))\n",
    "\n",
    "#saving to new csv file\n",
    "filtered_gdp_df.to_csv(\"Filtered_GDP.csv\", index=False)\n",
    "\n",
    "#reducing Intellectual Property dataframe, saving to new csv\n",
    "filtered_int_prop_df = int_property_df.drop(columns=unwanted_years)\n",
    "print(\"New Intellectual Property DF Columns:\" + str(filtered_int_prop_df.columns))\n",
    "\n",
    "#saving to new csv file\n",
    "filtered_int_prop_df.to_csv(\"Filtered_Int_Prop.csv\", index=False)\n"
   ]
  },
  {
   "cell_type": "markdown",
   "id": "00104b74",
   "metadata": {},
   "source": [
    "For the developed countries CSV, we only need the country names and whether they are developed or not.  Since all the countries in the CSV are developed, we can simply drop one of the year colulmns containint the human development index value, and fill the other one with ones to represent a binary variable where 1 = developed and 0 = not developed."
   ]
  },
  {
   "cell_type": "code",
   "execution_count": null,
   "id": "e9da4f99",
   "metadata": {},
   "outputs": [
    {
     "data": {
      "text/html": [
       "<div>\n",
       "<style scoped>\n",
       "    .dataframe tbody tr th:only-of-type {\n",
       "        vertical-align: middle;\n",
       "    }\n",
       "\n",
       "    .dataframe tbody tr th {\n",
       "        vertical-align: top;\n",
       "    }\n",
       "\n",
       "    .dataframe thead th {\n",
       "        text-align: right;\n",
       "    }\n",
       "</style>\n",
       "<table border=\"1\" class=\"dataframe\">\n",
       "  <thead>\n",
       "    <tr style=\"text-align: right;\">\n",
       "      <th></th>\n",
       "      <th>country</th>\n",
       "      <th>developed</th>\n",
       "    </tr>\n",
       "  </thead>\n",
       "  <tbody>\n",
       "    <tr>\n",
       "      <th>0</th>\n",
       "      <td>Switzerland</td>\n",
       "      <td>1</td>\n",
       "    </tr>\n",
       "    <tr>\n",
       "      <th>1</th>\n",
       "      <td>Norway</td>\n",
       "      <td>1</td>\n",
       "    </tr>\n",
       "    <tr>\n",
       "      <th>2</th>\n",
       "      <td>Iceland</td>\n",
       "      <td>1</td>\n",
       "    </tr>\n",
       "    <tr>\n",
       "      <th>3</th>\n",
       "      <td>Hong Kong</td>\n",
       "      <td>1</td>\n",
       "    </tr>\n",
       "    <tr>\n",
       "      <th>4</th>\n",
       "      <td>Australia</td>\n",
       "      <td>1</td>\n",
       "    </tr>\n",
       "    <tr>\n",
       "      <th>5</th>\n",
       "      <td>Denmark</td>\n",
       "      <td>1</td>\n",
       "    </tr>\n",
       "    <tr>\n",
       "      <th>6</th>\n",
       "      <td>Sweden</td>\n",
       "      <td>1</td>\n",
       "    </tr>\n",
       "    <tr>\n",
       "      <th>7</th>\n",
       "      <td>Ireland</td>\n",
       "      <td>1</td>\n",
       "    </tr>\n",
       "    <tr>\n",
       "      <th>8</th>\n",
       "      <td>Germany</td>\n",
       "      <td>1</td>\n",
       "    </tr>\n",
       "    <tr>\n",
       "      <th>9</th>\n",
       "      <td>Netherlands</td>\n",
       "      <td>1</td>\n",
       "    </tr>\n",
       "  </tbody>\n",
       "</table>\n",
       "</div>"
      ],
      "text/plain": [
       "       country  developed\n",
       "0  Switzerland          1\n",
       "1       Norway          1\n",
       "2      Iceland          1\n",
       "3    Hong Kong          1\n",
       "4    Australia          1\n",
       "5      Denmark          1\n",
       "6       Sweden          1\n",
       "7      Ireland          1\n",
       "8      Germany          1\n",
       "9  Netherlands          1"
      ]
     },
     "execution_count": 5,
     "metadata": {},
     "output_type": "execute_result"
    }
   ],
   "source": [
    "#dropping year columns containing HDI values\n",
    "developed_countries_df = developed_countries_df.drop(columns = ['Hdi2021','Hdi2020'])\n",
    "\n",
    "#adding column of all ones\n",
    "developed_countries_df['developed'] = 1\n",
    "\n",
    "developed_countries_df.head(10)\n"
   ]
  },
  {
   "cell_type": "markdown",
   "id": "f4eed775",
   "metadata": {},
   "source": [
    "We want to check the datatypes of our columns in each of our dataframes, to ensure that they are satisfactory for later analysis and comparison."
   ]
  },
  {
   "cell_type": "code",
   "execution_count": null,
   "id": "755409ac",
   "metadata": {},
   "outputs": [
    {
     "name": "stdout",
     "output_type": "stream",
     "text": [
      "GDP df datatypes\n",
      "Country_Name       object\n",
      "Country_Code       object\n",
      "Indicator_Name     object\n",
      "Indicator_Code     object\n",
      "2000              float64\n",
      "2001              float64\n",
      "2002              float64\n",
      "2003              float64\n",
      "2004              float64\n",
      "2005              float64\n",
      "2006              float64\n",
      "2007              float64\n",
      "2008              float64\n",
      "2009              float64\n",
      "2010              float64\n",
      "2011              float64\n",
      "2012              float64\n",
      "2013              float64\n",
      "2014              float64\n",
      "2015              float64\n",
      "2016              float64\n",
      "2017              float64\n",
      "2018              float64\n",
      "2019              float64\n",
      "2020              float64\n",
      "2021              float64\n",
      "2022              float64\n",
      "dtype: object\n",
      "Intellectual Property df datatypes\n",
      "Country_Name    object\n",
      "Country_Code    object\n",
      "Series_Name     object\n",
      "Series_Code     object\n",
      "2000            object\n",
      "2001            object\n",
      "2002            object\n",
      "2003            object\n",
      "2004            object\n",
      "2005            object\n",
      "2006            object\n",
      "2007            object\n",
      "2008            object\n",
      "2009            object\n",
      "2010            object\n",
      "2011            object\n",
      "2012            object\n",
      "2013            object\n",
      "2014            object\n",
      "2015            object\n",
      "2016            object\n",
      "2017            object\n",
      "2018            object\n",
      "2019            object\n",
      "2020            object\n",
      "2021            object\n",
      "2022            object\n",
      "dtype: object\n",
      "Debt df datatypes\n",
      "Country                       object\n",
      "Original Principal Amount    float64\n",
      "Cancelled Amount             float64\n",
      "Undisbursed Amount           float64\n",
      "Disbursed Amount             float64\n",
      "Borrower's Obligation        float64\n",
      "dtype: object\n",
      "Developed Countries datatypes\n",
      "country      object\n",
      "developed     int64\n",
      "dtype: object\n"
     ]
    }
   ],
   "source": [
    "print(\"GDP df datatypes\\n\" + str(filtered_gdp_df.dtypes))\n",
    "print(\"Intellectual Property df datatypes\\n\" + str(filtered_int_prop_df.dtypes))\n",
    "print(\"Debt df datatypes\\n\" + str(debt_df.dtypes))\n",
    "print(\"Developed Countries datatypes\\n\" + str(developed_countries_df.dtypes))"
   ]
  },
  {
   "cell_type": "markdown",
   "id": "69051fce",
   "metadata": {},
   "source": [
    "Since all of the datatypes look good -- year columns containing numbers representing money are floats and all other columns are objects -- we can move onto missing data.\n",
    "\n",
    "For the GDP and Intellectual dataframes specifically, cells with missing data are represented using \"..\".  For future analysis, we want to replace these values with 0 since these cells represent monetary values.  The debt datafram already uses 0 rather than NaN so it does ot need this."
   ]
  },
  {
   "cell_type": "code",
   "execution_count": null,
   "id": "d33f6150",
   "metadata": {},
   "outputs": [],
   "source": [
    "#Fill nans in GDB and Intellectual Property dataframes with 0\n",
    "filtered_gdp_df.replace(np.nan, 0, inplace=True)\n",
    "\n",
    "filtered_int_prop_df.replace(np.nan, 0, inplace=True)"
   ]
  },
  {
   "cell_type": "markdown",
   "id": "ac20984e",
   "metadata": {},
   "source": [
    "In order to later compare and analyze countries' gdp and intellectual property in relation to debt and developed status, we wnat to add the contents of the Debt and Developed Country dataframes to both the GDP and Intellectual Property dataframes.  Since we only want to analyze countries which we have all variables for as stated before, we will Inner Join on the Debt dataframe since it has the least amount of rows and therefore countries."
   ]
  },
  {
   "cell_type": "code",
   "execution_count": null,
   "id": "e3638e95",
   "metadata": {},
   "outputs": [
    {
     "name": "stdout",
     "output_type": "stream",
     "text": [
      "               Country  Original Principal Amount  Cancelled Amount  \\\n",
      "0              Albania               2.032160e+09      1.402591e+08   \n",
      "1            Argentina               4.246665e+10      4.680851e+09   \n",
      "2              Armenia               1.224900e+09      4.430277e+07   \n",
      "3  Antigua and Barbuda               1.200000e+07      7.435746e+06   \n",
      "4            Australia               4.177300e+08      0.000000e+00   \n",
      "\n",
      "   Undisbursed Amount  Disbursed Amount  Borrower's Obligation Country_Code  \\\n",
      "0        7.465856e+08      1.082344e+09           8.740135e+08          ALB   \n",
      "1        5.289592e+09      3.300022e+10           9.498279e+09          ARG   \n",
      "2        1.301590e+08      1.053062e+09           9.671751e+08          ARM   \n",
      "3        5.161400e+04      4.512640e+06           4.012867e+06          ATG   \n",
      "4        0.000000e+00      4.177300e+08          -2.000000e-02          AUS   \n",
      "\n",
      "      Indicator_Name  Indicator_Code          2000  ...          2013  \\\n",
      "0  GDP (current US$)  NY.GDP.MKTP.CD  3.480355e+09  ...  1.277622e+10   \n",
      "1  GDP (current US$)  NY.GDP.MKTP.CD  2.842040e+11  ...  5.520250e+11   \n",
      "2  GDP (current US$)  NY.GDP.MKTP.CD  1.911564e+09  ...  1.112146e+10   \n",
      "3  GDP (current US$)  NY.GDP.MKTP.CD  8.263704e+08  ...  1.181448e+09   \n",
      "4  GDP (current US$)  NY.GDP.MKTP.CD  4.158450e+11  ...  1.576330e+12   \n",
      "\n",
      "           2014          2015          2016          2017          2018  \\\n",
      "0  1.322815e+10  1.138685e+10  1.186120e+10  1.301973e+10  1.515642e+10   \n",
      "1  5.263200e+11  5.947490e+11  5.575320e+11  6.436280e+11  5.248200e+11   \n",
      "2  1.160951e+10  1.055334e+10  1.054614e+10  1.152746e+10  1.245794e+10   \n",
      "3  1.249733e+09  1.336693e+09  1.436585e+09  1.467956e+09  1.604770e+09   \n",
      "4  1.467590e+12  1.350580e+12  1.206560e+12  1.326470e+12  1.428270e+12   \n",
      "\n",
      "           2019          2020          2021          2022  \n",
      "0  1.540183e+10  1.516273e+10  1.793057e+10  1.888210e+10  \n",
      "1  4.477550e+11  3.855400e+11  4.872270e+11  6.327700e+11  \n",
      "2  1.361929e+10  1.264170e+10  1.386141e+10  1.950278e+10  \n",
      "3  1.675404e+09  1.416348e+09  1.560519e+09  1.757604e+09  \n",
      "4  1.392220e+12  1.326940e+12  1.552700e+12  1.675420e+12  \n",
      "\n",
      "[5 rows x 32 columns]\n",
      "               Country  Original Principal Amount  Cancelled Amount  \\\n",
      "0              Albania               2.032160e+09      1.402591e+08   \n",
      "1              Algeria               5.911830e+09      1.605315e+09   \n",
      "2  Antigua and Barbuda               1.200000e+07      7.435746e+06   \n",
      "3            Argentina               4.246665e+10      4.680851e+09   \n",
      "4              Armenia               1.224900e+09      4.430277e+07   \n",
      "\n",
      "   Undisbursed Amount  Disbursed Amount  Borrower's Obligation Country_Code  \\\n",
      "0        7.465856e+08      1.082344e+09           8.740135e+08          ALB   \n",
      "1        0.000000e+00      4.306515e+09           0.000000e+00          DZA   \n",
      "2        5.161400e+04      4.512640e+06           4.012867e+06          ATG   \n",
      "3        5.289592e+09      3.300022e+10           9.498279e+09          ARG   \n",
      "4        1.301590e+08      1.053062e+09           9.671751e+08          ARM   \n",
      "\n",
      "                                         Series_Name     Series_Code  \\\n",
      "0  Charges for the use of intellectual property, ...  BM.GSR.ROYL.CD   \n",
      "1  Charges for the use of intellectual property, ...  BM.GSR.ROYL.CD   \n",
      "2  Charges for the use of intellectual property, ...  BM.GSR.ROYL.CD   \n",
      "3  Charges for the use of intellectual property, ...  BM.GSR.ROYL.CD   \n",
      "4  Charges for the use of intellectual property, ...  BM.GSR.ROYL.CD   \n",
      "\n",
      "          2000  ...         2013         2014         2015         2016  \\\n",
      "0           ..  ...  22607333.78  21881927.42  24578013.75  23163082.28   \n",
      "1           ..  ...  162112437.3  143997401.9  250010594.1  152897904.4   \n",
      "2  288888.8889  ...  1181754.444  2975174.815  3074426.822  4026738.886   \n",
      "3  580337544.9  ...   2329270062   2098996166   2178066124   2108388364   \n",
      "4           ..  ...           ..           ..           ..           ..   \n",
      "\n",
      "          2017         2018         2019         2020         2021  \\\n",
      "0  13132426.91   26412466.5  34784215.26  38609323.64  34763724.47   \n",
      "1  147268735.1  115089900.8  143098650.4  133392700.5  202987326.1   \n",
      "2  4961232.208  3790929.211  3964437.185  1307832.815  3187710.404   \n",
      "3   2350351645   2054243293   1688980859   1149104742   1397946196   \n",
      "4           ..           ..           ..           ..           ..   \n",
      "\n",
      "          2022  \n",
      "0  31727566.82  \n",
      "1  122677213.9  \n",
      "2           ..  \n",
      "3   1706885415  \n",
      "4           ..  \n",
      "\n",
      "[5 rows x 32 columns]\n"
     ]
    }
   ],
   "source": [
    "#inner joining GDP df on Debt df\n",
    "gdp_debt_df = duckdb.sql(\"\"\"SELECT * FROM\n",
    "                         debt_df INNER JOIN filtered_gdp_df\n",
    "                         ON debt_df.Country = filtered_gdp_df.Country_Name\"\"\").df()\n",
    "\n",
    "#Dropping the redundant Country_Name column\n",
    "gdp_debt_df = gdp_debt_df.drop(\"Country_Name\", axis = 1)\n",
    "\n",
    "#inner joining Intellectual Property df on Debt df\n",
    "int_property_debt_df = duckdb.sql(\"\"\"SELECT * FROM\n",
    "                         debt_df INNER JOIN filtered_int_prop_df\n",
    "                         ON debt_df.Country = filtered_int_prop_df.Country_Name\"\"\").df()\n",
    "\n",
    "#Dropping the redundant Country_Name column\n",
    "int_property_debt_df = int_property_debt_df.drop(\"Country_Name\", axis = 1)\n",
    "\n",
    "print(gdp_debt_df.head(5))\n",
    "print(int_property_debt_df.head(5))\n"
   ]
  },
  {
   "cell_type": "markdown",
   "id": "d2a86fe6",
   "metadata": {},
   "source": [
    "Now we will add the Developed Countries dataframe to the two dataframes we just created above.  We will left join the developed_countries_df on these dataframes, as sql will automatically just put the countries that are not in the developed_countries_df as having a value of NaN for the developed column."
   ]
  },
  {
   "cell_type": "code",
   "execution_count": null,
   "id": "ecae9f22",
   "metadata": {},
   "outputs": [
    {
     "name": "stdout",
     "output_type": "stream",
     "text": [
      "               Country  Original Principal Amount  Cancelled Amount  \\\n",
      "0              Albania               2.032160e+09      1.402591e+08   \n",
      "1              Armenia               1.224900e+09      4.430277e+07   \n",
      "2  Antigua and Barbuda               1.200000e+07      7.435746e+06   \n",
      "3           Azerbaijan               3.479300e+09      5.324351e+08   \n",
      "4              Burundi               4.800000e+06      0.000000e+00   \n",
      "\n",
      "   Undisbursed Amount  Disbursed Amount  Borrower's Obligation Country_Code  \\\n",
      "0         746585590.2      1.082344e+09           8.740135e+08          ALB   \n",
      "1         130159016.0      1.053062e+09           9.671751e+08          ARM   \n",
      "2             51614.0      4.512640e+06           4.012867e+06          ATG   \n",
      "3         108026863.4      2.838838e+09           1.250364e+09          AZE   \n",
      "4                 0.0      4.800000e+06           0.000000e+00          BDI   \n",
      "\n",
      "      Indicator_Name  Indicator_Code          2000  ...          2015  \\\n",
      "0  GDP (current US$)  NY.GDP.MKTP.CD  3.480355e+09  ...  1.138685e+10   \n",
      "1  GDP (current US$)  NY.GDP.MKTP.CD  1.911564e+09  ...  1.055334e+10   \n",
      "2  GDP (current US$)  NY.GDP.MKTP.CD  8.263704e+08  ...  1.336693e+09   \n",
      "3  GDP (current US$)  NY.GDP.MKTP.CD  5.272617e+09  ...  5.307624e+10   \n",
      "4  GDP (current US$)  NY.GDP.MKTP.CD  8.704861e+08  ...  3.104004e+09   \n",
      "\n",
      "           2016          2017          2018          2019          2020  \\\n",
      "0  1.186120e+10  1.301973e+10  1.515642e+10  1.540183e+10  1.516273e+10   \n",
      "1  1.054614e+10  1.152746e+10  1.245794e+10  1.361929e+10  1.264170e+10   \n",
      "2  1.436585e+09  1.467956e+09  1.604770e+09  1.675404e+09  1.416348e+09   \n",
      "3  3.786701e+10  4.086663e+10  4.711248e+10  4.817424e+10  4.269300e+10   \n",
      "4  2.644488e+09  2.723587e+09  2.667182e+09  2.576519e+09  2.649680e+09   \n",
      "\n",
      "           2021          2022  country  developed  \n",
      "0  1.793057e+10  1.888210e+10      NaN        NaN  \n",
      "1  1.386141e+10  1.950278e+10      NaN        NaN  \n",
      "2  1.560519e+09  1.757604e+09      NaN        NaN  \n",
      "3  5.482541e+10  7.872106e+10      NaN        NaN  \n",
      "4  2.775799e+09  3.073415e+09      NaN        NaN  \n",
      "\n",
      "[5 rows x 34 columns]\n",
      "               Country  Original Principal Amount  Cancelled Amount  \\\n",
      "0              Albania               2.032160e+09      1.402591e+08   \n",
      "1              Algeria               5.911830e+09      1.605315e+09   \n",
      "2  Antigua and Barbuda               1.200000e+07      7.435746e+06   \n",
      "3              Armenia               1.224900e+09      4.430277e+07   \n",
      "4           Azerbaijan               3.479300e+09      5.324351e+08   \n",
      "\n",
      "   Undisbursed Amount  Disbursed Amount  Borrower's Obligation Country_Code  \\\n",
      "0         746585590.2      1.082344e+09           8.740135e+08          ALB   \n",
      "1                 0.0      4.306515e+09           0.000000e+00          DZA   \n",
      "2             51614.0      4.512640e+06           4.012867e+06          ATG   \n",
      "3         130159016.0      1.053062e+09           9.671751e+08          ARM   \n",
      "4         108026863.4      2.838838e+09           1.250364e+09          AZE   \n",
      "\n",
      "                                         Series_Name     Series_Code  \\\n",
      "0  Charges for the use of intellectual property, ...  BM.GSR.ROYL.CD   \n",
      "1  Charges for the use of intellectual property, ...  BM.GSR.ROYL.CD   \n",
      "2  Charges for the use of intellectual property, ...  BM.GSR.ROYL.CD   \n",
      "3  Charges for the use of intellectual property, ...  BM.GSR.ROYL.CD   \n",
      "4  Charges for the use of intellectual property, ...  BM.GSR.ROYL.CD   \n",
      "\n",
      "          2000  ...         2015         2016         2017         2018  \\\n",
      "0           ..  ...  24578013.75  23163082.28  13132426.91   26412466.5   \n",
      "1           ..  ...  250010594.1  152897904.4  147268735.1  115089900.8   \n",
      "2  288888.8889  ...  3074426.822  4026738.886  4961232.208  3790929.211   \n",
      "3           ..  ...           ..           ..           ..           ..   \n",
      "4           ..  ...           ..           ..           ..           ..   \n",
      "\n",
      "          2019         2020         2021         2022 country developed  \n",
      "0  34784215.26  38609323.64  34763724.47  31727566.82     NaN       NaN  \n",
      "1  143098650.4  133392700.5  202987326.1  122677213.9     NaN       NaN  \n",
      "2  3964437.185  1307832.815  3187710.404           ..     NaN       NaN  \n",
      "3           ..           ..           ..           ..     NaN       NaN  \n",
      "4           ..           ..           ..    198087000     NaN       NaN  \n",
      "\n",
      "[5 rows x 34 columns]\n"
     ]
    }
   ],
   "source": [
    "#adding developed countries df to gdp_debt_df\n",
    "gdp_dbt_dev_df = duckdb.sql(\"\"\"SELECT * FROM\n",
    "                         gdp_debt_df LEFT JOIN developed_countries_df\n",
    "                         ON gdp_debt_df.Country = developed_countries_df.country\"\"\").df()\n",
    "\n",
    "#adding developed countries df to int_prop_dbt_dev_df\n",
    "int_prop_dbt_dev_df = duckdb.sql(\"\"\"SELECT * FROM\n",
    "                         int_property_debt_df LEFT JOIN developed_countries_df\n",
    "                         ON int_property_debt_df.Country = developed_countries_df.country\"\"\").df()\n",
    "\n",
    "print(gdp_dbt_dev_df.head(5))\n",
    "print(int_prop_dbt_dev_df.head(5))"
   ]
  },
  {
   "cell_type": "markdown",
   "id": "98ff52fa",
   "metadata": {},
   "source": [
    "Now, we will fill the NaN's in the 'developed' columns of these two data frames with 0s, so it is a binary column where 0 = not developed and 1 = developed."
   ]
  },
  {
   "cell_type": "code",
   "execution_count": null,
   "id": "17f3758c",
   "metadata": {},
   "outputs": [
    {
     "name": "stdout",
     "output_type": "stream",
     "text": [
      "               Country  Original Principal Amount  Cancelled Amount  \\\n",
      "0              Albania               2.032160e+09      1.402591e+08   \n",
      "1              Armenia               1.224900e+09      4.430277e+07   \n",
      "2  Antigua and Barbuda               1.200000e+07      7.435746e+06   \n",
      "3           Azerbaijan               3.479300e+09      5.324351e+08   \n",
      "4              Burundi               4.800000e+06      0.000000e+00   \n",
      "\n",
      "   Undisbursed Amount  Disbursed Amount  Borrower's Obligation Country_Code  \\\n",
      "0         746585590.2      1.082344e+09           8.740135e+08          ALB   \n",
      "1         130159016.0      1.053062e+09           9.671751e+08          ARM   \n",
      "2             51614.0      4.512640e+06           4.012867e+06          ATG   \n",
      "3         108026863.4      2.838838e+09           1.250364e+09          AZE   \n",
      "4                 0.0      4.800000e+06           0.000000e+00          BDI   \n",
      "\n",
      "      Indicator_Name  Indicator_Code          2000  ...          2015  \\\n",
      "0  GDP (current US$)  NY.GDP.MKTP.CD  3.480355e+09  ...  1.138685e+10   \n",
      "1  GDP (current US$)  NY.GDP.MKTP.CD  1.911564e+09  ...  1.055334e+10   \n",
      "2  GDP (current US$)  NY.GDP.MKTP.CD  8.263704e+08  ...  1.336693e+09   \n",
      "3  GDP (current US$)  NY.GDP.MKTP.CD  5.272617e+09  ...  5.307624e+10   \n",
      "4  GDP (current US$)  NY.GDP.MKTP.CD  8.704861e+08  ...  3.104004e+09   \n",
      "\n",
      "           2016          2017          2018          2019          2020  \\\n",
      "0  1.186120e+10  1.301973e+10  1.515642e+10  1.540183e+10  1.516273e+10   \n",
      "1  1.054614e+10  1.152746e+10  1.245794e+10  1.361929e+10  1.264170e+10   \n",
      "2  1.436585e+09  1.467956e+09  1.604770e+09  1.675404e+09  1.416348e+09   \n",
      "3  3.786701e+10  4.086663e+10  4.711248e+10  4.817424e+10  4.269300e+10   \n",
      "4  2.644488e+09  2.723587e+09  2.667182e+09  2.576519e+09  2.649680e+09   \n",
      "\n",
      "           2021          2022  country  developed  \n",
      "0  1.793057e+10  1.888210e+10      NaN        0.0  \n",
      "1  1.386141e+10  1.950278e+10      NaN        0.0  \n",
      "2  1.560519e+09  1.757604e+09      NaN        0.0  \n",
      "3  5.482541e+10  7.872106e+10      NaN        0.0  \n",
      "4  2.775799e+09  3.073415e+09      NaN        0.0  \n",
      "\n",
      "[5 rows x 34 columns]\n",
      "               Country  Original Principal Amount  Cancelled Amount  \\\n",
      "0              Albania               2.032160e+09      1.402591e+08   \n",
      "1              Algeria               5.911830e+09      1.605315e+09   \n",
      "2  Antigua and Barbuda               1.200000e+07      7.435746e+06   \n",
      "3              Armenia               1.224900e+09      4.430277e+07   \n",
      "4           Azerbaijan               3.479300e+09      5.324351e+08   \n",
      "\n",
      "   Undisbursed Amount  Disbursed Amount  Borrower's Obligation Country_Code  \\\n",
      "0         746585590.2      1.082344e+09           8.740135e+08          ALB   \n",
      "1                 0.0      4.306515e+09           0.000000e+00          DZA   \n",
      "2             51614.0      4.512640e+06           4.012867e+06          ATG   \n",
      "3         130159016.0      1.053062e+09           9.671751e+08          ARM   \n",
      "4         108026863.4      2.838838e+09           1.250364e+09          AZE   \n",
      "\n",
      "                                         Series_Name     Series_Code  \\\n",
      "0  Charges for the use of intellectual property, ...  BM.GSR.ROYL.CD   \n",
      "1  Charges for the use of intellectual property, ...  BM.GSR.ROYL.CD   \n",
      "2  Charges for the use of intellectual property, ...  BM.GSR.ROYL.CD   \n",
      "3  Charges for the use of intellectual property, ...  BM.GSR.ROYL.CD   \n",
      "4  Charges for the use of intellectual property, ...  BM.GSR.ROYL.CD   \n",
      "\n",
      "          2000  ...         2015         2016         2017         2018  \\\n",
      "0           ..  ...  24578013.75  23163082.28  13132426.91   26412466.5   \n",
      "1           ..  ...  250010594.1  152897904.4  147268735.1  115089900.8   \n",
      "2  288888.8889  ...  3074426.822  4026738.886  4961232.208  3790929.211   \n",
      "3           ..  ...           ..           ..           ..           ..   \n",
      "4           ..  ...           ..           ..           ..           ..   \n",
      "\n",
      "          2019         2020         2021         2022 country developed  \n",
      "0  34784215.26  38609323.64  34763724.47  31727566.82     NaN       0.0  \n",
      "1  143098650.4  133392700.5  202987326.1  122677213.9     NaN       0.0  \n",
      "2  3964437.185  1307832.815  3187710.404           ..     NaN       0.0  \n",
      "3           ..           ..           ..           ..     NaN       0.0  \n",
      "4           ..           ..           ..    198087000     NaN       0.0  \n",
      "\n",
      "[5 rows x 34 columns]\n"
     ]
    }
   ],
   "source": [
    "#filling NaN values in 'developed' columns of both dataframes with 0\n",
    "gdp_dbt_dev_df['developed'].fillna(value= 0, inplace = True)\n",
    "int_prop_dbt_dev_df['developed'].fillna(value= 0, inplace = True)\n",
    "\n",
    "print(gdp_dbt_dev_df.head(5))\n",
    "print(int_prop_dbt_dev_df.head(5))"
   ]
  },
  {
   "cell_type": "code",
   "execution_count": 2,
   "id": "e7389c4e",
   "metadata": {},
   "outputs": [
    {
     "ename": "NameError",
     "evalue": "name 'gdp_dbt_dev_df' is not defined",
     "output_type": "error",
     "traceback": [
      "\u001b[0;31m---------------------------------------------------------------------------\u001b[0m",
      "\u001b[0;31mNameError\u001b[0m                                 Traceback (most recent call last)",
      "Cell \u001b[0;32mIn[2], line 1\u001b[0m\n\u001b[0;32m----> 1\u001b[0m \u001b[38;5;28mprint\u001b[39m(gdp_dbt_dev_df\u001b[38;5;241m.\u001b[39mdescribe())\n\u001b[1;32m      2\u001b[0m \u001b[38;5;28mprint\u001b[39m(int_prop_dbt_dev_df\u001b[38;5;241m.\u001b[39mdescribe())\n",
      "\u001b[0;31mNameError\u001b[0m: name 'gdp_dbt_dev_df' is not defined"
     ]
    }
   ],
   "source": [
    "print(gdp_dbt_dev_df.describe())\n",
    "print(int_prop_dbt_dev_df.describe())"
   ]
  }
 ],
 "metadata": {
  "kernelspec": {
   "display_name": "Python 3 (ipykernel)",
   "language": "python",
   "name": "python3"
  },
  "language_info": {
   "codemirror_mode": {
    "name": "ipython",
    "version": 3
   },
   "file_extension": ".py",
   "mimetype": "text/x-python",
   "name": "python",
   "nbconvert_exporter": "python",
   "pygments_lexer": "ipython3",
   "version": "3.11.4"
  }
 },
 "nbformat": 4,
 "nbformat_minor": 5
}

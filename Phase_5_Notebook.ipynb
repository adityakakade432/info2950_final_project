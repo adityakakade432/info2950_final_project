{
 "cells": [
  {
   "cell_type": "markdown",
   "metadata": {},
   "source": [
    "## Introduction\n",
    "\n",
    "Research Question: How does the level of debt owed to the World Bank, intellectual property, and balance of payments correlate with the GDP growth rates of countries, and are there distinguishable patterns or differences in this relationship when comparing developed and developing nations?\n",
    "\n",
    "Our project aims to research the relationship between a Country’s GDP and their debt to the World Bank Group and the International Monetary Fund. The World Bank’s mission is to “end extreme poverty and promote shared prosperity in a sustainable way” (World Bank Group, 2023). However, there is extreme controversy on whether their involvement in developing countries’ economic development is positive or exploitative (Nagle, 2019). Seeing whether there is a relationship between a country’s economic prosperity (measured by GDP) and the pattern of loans(\"Borrower's Obligation\") received from these Multi-Governmental Organizations would provide an interesting insight into whether countries's economic livelihood is more negatively affected by the involvement of these MGOs. There is detailed and immensely available data that correlates to this topic because there is information on GDP and Debt for all countries, also broken down by developing versus developed countries. \n"
   ]
  },
  {
   "cell_type": "markdown",
   "metadata": {},
   "source": [
    "## Data Description\n",
    "We have four data tables for this phase: The GDP data for countries around the world, Loans/debt owed to the World Bank by countries, a dataset containing a list of developed countries (as classified biy the UN), and the Intellectual Property of countries for years 2000 to 2022.\n",
    "\n",
    "The GDP Dataset details the gross domestic product for individual countries across a set of years. Specifically, the dataset contains years from 1960 to 2022 with the respective GDPs - in USD dollars - for 267 countries around the world.\n",
    "\n",
    "The loans/debt dataset discusses a given amount of money loaned to a country from the World Bank and what how that money has been handled since. This particular dataset contains 148 countries and their original principal amount,canceled amount, undisbursed amount, disbursed amount, and borrower's obligation.\n",
    "\n",
    "For the intellectual property dataset it pertains to transactions between residents and non-residents concerning the authorized utilization of intellectual property rights. This encompasses rights like patents, trademarks, copyrights, industrial designs, trade secrets, and franchises. Additionally, it covers the usage of original productions or prototypes, which include copyrights on literature, software, films, and audio recordings, as well as associated rights for live events and various broadcast methods. The monetary values provided in the dataset are presented in contemporary U.S. dollars (World Bank, 2023). \n",
    "\n",
    "There is also a datset containing developed countries based on the United Nations classification. This is going to be used to compare if there are any patterns or trends with the dependent variables discussed previously and developing and developed nations.\n",
    "\n",
    "Link to balance of payments of countries owed to World Bank: https://finances.worldbank.org/Loans-and-Credits/IBRD-Country-wise-Loan-summary/5xqk-t59j\n",
    "\n",
    "Link to intellectual property: https://data.worldbank.org/indicator/BM.GSR.ROYL.CD?locations=SV\n",
    "\n",
    "Link to GDP: https://data.worldbank.org/indicator/NY.GDP.MKTP.CD?end=2022&start=2022&view=bar\n",
    "\n",
    "Link to Developed Countries Dataset: https://worldpopulationreview.com/country-rankings/developed-countries\n"
   ]
  },
  {
   "cell_type": "markdown",
   "metadata": {},
   "source": [
    "## Preregistration of Hypothesis"
   ]
  },
  {
   "cell_type": "markdown",
   "metadata": {},
   "source": [
    "Hypothesis 1: If a country’s borrower's obligation is greater, then they will be more likely to be a developed country. \n",
    "\n",
    "Analysis: We will conduct a logistic regression where we output whether or not a country is developed or developing (a dummy variable) based on an input of the borrower’s obligation (in USD dollars). The developed country dummy will be the reference variable, so we will test whether $e^\\beta$, where $\\beta$ is the coefficient output by the regression equation for the 'Borrower's Obligation' variable, is greater than 1. The analysis is important to economists and stakeholders who are invested in determining the impact of financial debt on a countries development status. If a higher borrower's obligation produces an output that a country is developing then that may influence lenders perception on loaning money to those countries. \n",
    "\n",
    "Hypothesis 2: The higher a country’s GDP (in USD Dollars), the higher the intellectual property charges (in USD Dollars). \n",
    "\n",
    "Analysis: We will conduct a linear regression where we input the GDP of a country and output the intellectual property charges. We would test whether  (the regression coefficient of GDP in our equation) is greater than 0 (if an increase in GDP causes an increase in Intellectual Property Charges). The reasons this analysis is important is because it may establish a link between innovation and economic/socioeconomic growth. It also can lead to policy development because a correlation could lead to policymakers to invest more in intellectual property in hopes that the GDP could grow. \n",
    "\n",
    "Hypothesis 3: For both developed and developing countries, as the number of years since 2000 increases, the intellectual property charges will increase as well. We will see a higher increase in intellectual property charges for developing countries rather than developed because developing countries have more potential for rapid growth. \n",
    "\n",
    "Analysis: We will conduct two linear regressions: one for developed and developing. The input is years since 2000 and the output is intellectual property changes in USD dollars. We will test whether the coefficient is a significant number, and this determines the impact of years on intellectual property changes for different countries (and their economic status). This analysis is important because it provides economists and investors more information on whether intellectual property changes are influenced by years (time) and how the status of developed or developing impacts the overall output as well. Understanding these patterns can help investors and innovators to predict the market (based on previous years) and plan for the future of innovation. \n"
   ]
  },
  {
   "cell_type": "markdown",
   "metadata": {},
   "source": [
    "## Data Cleaning "
   ]
  },
  {
   "cell_type": "code",
   "execution_count": 14,
   "metadata": {},
   "outputs": [
    {
     "ename": "ModuleNotFoundError",
     "evalue": "No module named 'statsmodels'",
     "output_type": "error",
     "traceback": [
      "\u001b[0;31m---------------------------------------------------------------------------\u001b[0m",
      "\u001b[0;31mModuleNotFoundError\u001b[0m                       Traceback (most recent call last)",
      "Cell \u001b[0;32mIn[14], line 13\u001b[0m\n\u001b[1;32m     11\u001b[0m \u001b[38;5;28;01mimport\u001b[39;00m \u001b[38;5;21;01mseaborn\u001b[39;00m \u001b[38;5;28;01mas\u001b[39;00m \u001b[38;5;21;01msns\u001b[39;00m\n\u001b[1;32m     12\u001b[0m \u001b[38;5;28;01mimport\u001b[39;00m \u001b[38;5;21;01mmatplotlib\u001b[39;00m\u001b[38;5;21;01m.\u001b[39;00m\u001b[38;5;21;01mpyplot\u001b[39;00m \u001b[38;5;28;01mas\u001b[39;00m \u001b[38;5;21;01mplt\u001b[39;00m\n\u001b[0;32m---> 13\u001b[0m \u001b[38;5;28;01mimport\u001b[39;00m \u001b[38;5;21;01mstatsmodels\u001b[39;00m\u001b[38;5;21;01m.\u001b[39;00m\u001b[38;5;21;01mapi\u001b[39;00m \u001b[38;5;28;01mas\u001b[39;00m \u001b[38;5;21;01msm\u001b[39;00m\n",
      "\u001b[0;31mModuleNotFoundError\u001b[0m: No module named 'statsmodels'"
     ]
    }
   ],
   "source": [
    "import pandas as pd\n",
    "import numpy as np\n",
    "import math as math\n",
    "from sklearn.linear_model import LinearRegression, LogisticRegression\n",
    "from sklearn.model_selection import train_test_split, KFold, cross_val_score\n",
    "\n",
    "from scipy import stats\n",
    "\n",
    "import duckdb\n",
    "\n",
    "import seaborn as sns\n",
    "import matplotlib.pyplot as plt\n",
    "import statsmodels.api as sm "
   ]
  },
  {
   "cell_type": "code",
   "execution_count": null,
   "metadata": {},
   "outputs": [],
   "source": [
    "int_property_df = pd.read_csv(\"Intellectual_Property_Table.csv\")\n",
    "gdp_df = pd.read_csv(\"GDP_Table.csv\", delimiter = \",\")\n",
    "debt_df = pd.read_csv(\"IBRD_Country-wise_Loan_summary.csv\")\n",
    "developed_countries_df = pd.read_csv(\"developed-countries-2023.csv\")"
   ]
  },
  {
   "cell_type": "markdown",
   "metadata": {},
   "source": [
    "We now look at the shapes of all of our dataframes. We know that all of our data is heavily based on the country/code -- printing the dataframe's shapes helped us see that the Intellectual Property, GDP, and Debt dataframes had different row amounts. Knowing there are 195 countries, this means that for the Debt dataframe, not all countries have debt data, and for the IP and GDP dataframes, world regions may also be included in addition to just countries as table entries. This will come into play later in the data cleaning, to ensure we are able to do analysis using all of our variables.\n"
   ]
  },
  {
   "cell_type": "code",
   "execution_count": 15,
   "metadata": {},
   "outputs": [
    {
     "name": "stdout",
     "output_type": "stream",
     "text": [
      "Intellectual Property dataframe shape(271, 67)\n",
      "GDP dataframe shape(266, 67)\n",
      "Debt dataframe shape(147, 6)\n",
      "Developed Countries dataframe shape(66, 3)\n"
     ]
    }
   ],
   "source": [
    "print(\"Intellectual Property dataframe shape\" + str(int_property_df.shape))\n",
    "print(\"GDP dataframe shape\" + str(gdp_df.shape))\n",
    "print(\"Debt dataframe shape\" + str(debt_df.shape))\n",
    "print(\"Developed Countries dataframe shape\" + str(developed_countries_df.shape))\n"
   ]
  },
  {
   "cell_type": "markdown",
   "metadata": {},
   "source": [
    "In our analysis, we decided that we do not want to consider years before 2000 due to large changes that were happening due to world events such as conflict and large changes in technology. We want to only consider years after 1999 because our data concerning countries' debt to the World Bank is current, meaning modern times' gdp and debt data will likely be more accurate.For this portion of data cleaning we create a list named unwanted_years that contains unwanted years that will then be removed from gdp_df dataframe. We then save this new gdp_df with the dropped columns to a csv file. We also drop the unwanted years from the int_property_df (intellectual property dataframe). We then save this to a new csv file as well. The reason we are dropping these specific years is because they are included in the dataframes we researched but the scope of time we are analyzing across as investigators only starts after 1999 (not including)."
   ]
  },
  {
   "cell_type": "code",
   "execution_count": 16,
   "metadata": {},
   "outputs": [
    {
     "name": "stdout",
     "output_type": "stream",
     "text": [
      "New GDP DF Columns:Index(['Country_Name', 'Country_Code', 'Indicator_Name', 'Indicator_Code',\n",
      "       '2000', '2001', '2002', '2003', '2004', '2005', '2006', '2007', '2008',\n",
      "       '2009', '2010', '2011', '2012', '2013', '2014', '2015', '2016', '2017',\n",
      "       '2018', '2019', '2020', '2021', '2022'],\n",
      "      dtype='object')\n",
      "New Intellectual Property DF Columns:Index(['Country_Name', 'Country_Code', 'Series_Name', 'Series_Code', '2000',\n",
      "       '2001', '2002', '2003', '2004', '2005', '2006', '2007', '2008', '2009',\n",
      "       '2010', '2011', '2012', '2013', '2014', '2015', '2016', '2017', '2018',\n",
      "       '2019', '2020', '2021', '2022'],\n",
      "      dtype='object')\n"
     ]
    }
   ],
   "source": [
    "#years we do not want to consider\n",
    "unwanted_years = ['1960', '1961', '1962', '1963', '1964', '1965', '1966', '1967',\n",
    "                  '1968','1969', '1970', '1971', '1972', '1973', '1974', '1975', \n",
    "                  '1976', '1977','1978', '1979', '1980', '1981', '1982', '1983', \n",
    "                  '1984', '1985', '1986','1987', '1988', '1989', '1990', '1991', \n",
    "                  '1992', '1993', '1994', '1995','1996', '1997', '1998', '1999']\n",
    "\n",
    "#reducing GDP dataframe, saving to new csv\n",
    "filtered_gdp_df = gdp_df.drop(columns=unwanted_years)\n",
    "print(\"New GDP DF Columns:\" + str(filtered_gdp_df.columns))\n",
    "\n",
    "#saving to new csv file\n",
    "filtered_gdp_df.to_csv(\"Filtered_GDP.csv\", index=False)\n",
    "\n",
    "#reducing Intellectual Property dataframe, saving to new csv\n",
    "filtered_int_prop_df = int_property_df.drop(columns=unwanted_years)\n",
    "print(\"New Intellectual Property DF Columns:\" + str(filtered_int_prop_df.columns))\n",
    "\n",
    "#saving to new csv file\n",
    "filtered_int_prop_df.to_csv(\"Filtered_Int_Prop.csv\", index=False)"
   ]
  },
  {
   "cell_type": "markdown",
   "metadata": {},
   "source": [
    "For the developed countries CSV, we only need the country names and whether they are developed or not. Since all the countries in the CSV are developed, we can simply drop one of the year colulmns containing the human development index value, and fill the other one with ones to represent a binary variable where 1 = developed and 0 = not developed."
   ]
  },
  {
   "cell_type": "code",
   "execution_count": 17,
   "metadata": {},
   "outputs": [
    {
     "data": {
      "text/html": [
       "<div>\n",
       "<style scoped>\n",
       "    .dataframe tbody tr th:only-of-type {\n",
       "        vertical-align: middle;\n",
       "    }\n",
       "\n",
       "    .dataframe tbody tr th {\n",
       "        vertical-align: top;\n",
       "    }\n",
       "\n",
       "    .dataframe thead th {\n",
       "        text-align: right;\n",
       "    }\n",
       "</style>\n",
       "<table border=\"1\" class=\"dataframe\">\n",
       "  <thead>\n",
       "    <tr style=\"text-align: right;\">\n",
       "      <th></th>\n",
       "      <th>country</th>\n",
       "      <th>developed</th>\n",
       "    </tr>\n",
       "  </thead>\n",
       "  <tbody>\n",
       "    <tr>\n",
       "      <th>0</th>\n",
       "      <td>Switzerland</td>\n",
       "      <td>1</td>\n",
       "    </tr>\n",
       "    <tr>\n",
       "      <th>1</th>\n",
       "      <td>Norway</td>\n",
       "      <td>1</td>\n",
       "    </tr>\n",
       "    <tr>\n",
       "      <th>2</th>\n",
       "      <td>Iceland</td>\n",
       "      <td>1</td>\n",
       "    </tr>\n",
       "    <tr>\n",
       "      <th>3</th>\n",
       "      <td>Hong Kong</td>\n",
       "      <td>1</td>\n",
       "    </tr>\n",
       "    <tr>\n",
       "      <th>4</th>\n",
       "      <td>Australia</td>\n",
       "      <td>1</td>\n",
       "    </tr>\n",
       "    <tr>\n",
       "      <th>5</th>\n",
       "      <td>Denmark</td>\n",
       "      <td>1</td>\n",
       "    </tr>\n",
       "    <tr>\n",
       "      <th>6</th>\n",
       "      <td>Sweden</td>\n",
       "      <td>1</td>\n",
       "    </tr>\n",
       "    <tr>\n",
       "      <th>7</th>\n",
       "      <td>Ireland</td>\n",
       "      <td>1</td>\n",
       "    </tr>\n",
       "    <tr>\n",
       "      <th>8</th>\n",
       "      <td>Germany</td>\n",
       "      <td>1</td>\n",
       "    </tr>\n",
       "    <tr>\n",
       "      <th>9</th>\n",
       "      <td>Netherlands</td>\n",
       "      <td>1</td>\n",
       "    </tr>\n",
       "  </tbody>\n",
       "</table>\n",
       "</div>"
      ],
      "text/plain": [
       "       country  developed\n",
       "0  Switzerland          1\n",
       "1       Norway          1\n",
       "2      Iceland          1\n",
       "3    Hong Kong          1\n",
       "4    Australia          1\n",
       "5      Denmark          1\n",
       "6       Sweden          1\n",
       "7      Ireland          1\n",
       "8      Germany          1\n",
       "9  Netherlands          1"
      ]
     },
     "execution_count": 17,
     "metadata": {},
     "output_type": "execute_result"
    }
   ],
   "source": [
    "#dropping year columns containing HDI values\n",
    "developed_countries_df = developed_countries_df.drop(\n",
    "    columns = ['Hdi2021','Hdi2020'])\n",
    "\n",
    "#adding column of all ones\n",
    "developed_countries_df['developed'] = 1\n",
    "\n",
    "developed_countries_df.head(10)"
   ]
  },
  {
   "cell_type": "markdown",
   "metadata": {},
   "source": [
    "We want to check the datatypes of our columns in each of our dataframes, to ensure that they are satisfactory for later analysis and comparison."
   ]
  },
  {
   "cell_type": "code",
   "execution_count": 18,
   "metadata": {},
   "outputs": [
    {
     "name": "stdout",
     "output_type": "stream",
     "text": [
      "GDP df datatypes\n",
      "Country_Name       object\n",
      "Country_Code       object\n",
      "Indicator_Name     object\n",
      "Indicator_Code     object\n",
      "2000              float64\n",
      "2001              float64\n",
      "2002              float64\n",
      "2003              float64\n",
      "2004              float64\n",
      "2005              float64\n",
      "2006              float64\n",
      "2007              float64\n",
      "2008              float64\n",
      "2009              float64\n",
      "2010              float64\n",
      "2011              float64\n",
      "2012              float64\n",
      "2013              float64\n",
      "2014              float64\n",
      "2015              float64\n",
      "2016              float64\n",
      "2017              float64\n",
      "2018              float64\n",
      "2019              float64\n",
      "2020              float64\n",
      "2021              float64\n",
      "2022              float64\n",
      "dtype: object\n",
      "Intellectual Property df datatypes\n",
      "Country_Name    object\n",
      "Country_Code    object\n",
      "Series_Name     object\n",
      "Series_Code     object\n",
      "2000            object\n",
      "2001            object\n",
      "2002            object\n",
      "2003            object\n",
      "2004            object\n",
      "2005            object\n",
      "2006            object\n",
      "2007            object\n",
      "2008            object\n",
      "2009            object\n",
      "2010            object\n",
      "2011            object\n",
      "2012            object\n",
      "2013            object\n",
      "2014            object\n",
      "2015            object\n",
      "2016            object\n",
      "2017            object\n",
      "2018            object\n",
      "2019            object\n",
      "2020            object\n",
      "2021            object\n",
      "2022            object\n",
      "dtype: object\n",
      "Debt df datatypes\n",
      "Country                       object\n",
      "Original Principal Amount    float64\n",
      "Cancelled Amount             float64\n",
      "Undisbursed Amount           float64\n",
      "Disbursed Amount             float64\n",
      "Borrower's Obligation        float64\n",
      "dtype: object\n",
      "Developed Countries datatypes\n",
      "country      object\n",
      "developed     int64\n",
      "dtype: object\n"
     ]
    }
   ],
   "source": [
    "print(\"GDP df datatypes\\n\" + str(filtered_gdp_df.dtypes))\n",
    "print(\"Intellectual Property df datatypes\\n\" + str(filtered_int_prop_df.dtypes))\n",
    "print(\"Debt df datatypes\\n\" + str(debt_df.dtypes))\n",
    "print(\"Developed Countries datatypes\\n\" + str(developed_countries_df.dtypes))"
   ]
  },
  {
   "cell_type": "markdown",
   "metadata": {},
   "source": [
    "Since all of the datatypes are able to be analyzed through regression without missing data-- year columns containing numbers representing money are floats and all other columns are objects -- we can move onto missing data.\n",
    "For this portion of data cleaning, we are ensuring that there is no missing data or NaNs in the dataframes. We are replacing these with 0.0. This ensures that we do not have abnormal graphs that have missing sections. For the GDP and Intellectual dataframes specifically, cells with missing data are represented using \"..\". For future analysis, we want to replace these values with 0 since these cells represent monetary values. The debt dataframe already uses 0 rather than NaN so it doesn't need this.\n"
   ]
  },
  {
   "cell_type": "code",
   "execution_count": 19,
   "metadata": {},
   "outputs": [],
   "source": [
    "#Fill nans in GDP and Intellectual Property dataframes with 0\n",
    "filtered_gdp_df.replace(np.nan, 0.0, inplace=True)\n",
    "filtered_gdp_df.replace(\"..\", 0.0, inplace=True)\n",
    "\n",
    "filtered_int_prop_df.replace(np.nan, 0.0, inplace=True)\n",
    "filtered_int_prop_df.replace(\"..\", 0.0, inplace=True)"
   ]
  },
  {
   "cell_type": "markdown",
   "metadata": {},
   "source": [
    "\n",
    "In order to later compare and analyze countries' gdp and intellectual property in relation to debt and developed status, we want to add the contents of the Debt and Developed Country dataframes to both the GDP and Intellectual Property dataframes. Since we only want to analyze countries which we have all variables for as stated before, we will Inner Join on the Debt dataframe since it has the least amount of rows and therefore countries. This will prevent duplicated countries & countries with no data pertaining to some of our variables."
   ]
  },
  {
   "cell_type": "code",
   "execution_count": 20,
   "metadata": {},
   "outputs": [
    {
     "name": "stdout",
     "output_type": "stream",
     "text": [
      "               Country  Original Principal Amount  Cancelled Amount  \\\n",
      "0              Albania               2.032160e+09      1.402591e+08   \n",
      "1            Argentina               4.246665e+10      4.680851e+09   \n",
      "2              Armenia               1.224900e+09      4.430277e+07   \n",
      "3  Antigua and Barbuda               1.200000e+07      7.435746e+06   \n",
      "4            Australia               4.177300e+08      0.000000e+00   \n",
      "\n",
      "   Undisbursed Amount  Disbursed Amount  Borrower's Obligation Country_Code  \\\n",
      "0        7.465856e+08      1.082344e+09           8.740135e+08          ALB   \n",
      "1        5.289592e+09      3.300022e+10           9.498279e+09          ARG   \n",
      "2        1.301590e+08      1.053062e+09           9.671751e+08          ARM   \n",
      "3        5.161400e+04      4.512640e+06           4.012867e+06          ATG   \n",
      "4        0.000000e+00      4.177300e+08          -2.000000e-02          AUS   \n",
      "\n",
      "      Indicator_Name  Indicator_Code          2000  ...          2013  \\\n",
      "0  GDP (current US$)  NY.GDP.MKTP.CD  3.480355e+09  ...  1.277622e+10   \n",
      "1  GDP (current US$)  NY.GDP.MKTP.CD  2.842040e+11  ...  5.520250e+11   \n",
      "2  GDP (current US$)  NY.GDP.MKTP.CD  1.911564e+09  ...  1.112146e+10   \n",
      "3  GDP (current US$)  NY.GDP.MKTP.CD  8.263704e+08  ...  1.181448e+09   \n",
      "4  GDP (current US$)  NY.GDP.MKTP.CD  4.158450e+11  ...  1.576330e+12   \n",
      "\n",
      "           2014          2015          2016          2017          2018  \\\n",
      "0  1.322815e+10  1.138685e+10  1.186120e+10  1.301973e+10  1.515642e+10   \n",
      "1  5.263200e+11  5.947490e+11  5.575320e+11  6.436280e+11  5.248200e+11   \n",
      "2  1.160951e+10  1.055334e+10  1.054614e+10  1.152746e+10  1.245794e+10   \n",
      "3  1.249733e+09  1.336693e+09  1.436585e+09  1.467956e+09  1.604770e+09   \n",
      "4  1.467590e+12  1.350580e+12  1.206560e+12  1.326470e+12  1.428270e+12   \n",
      "\n",
      "           2019          2020          2021          2022  \n",
      "0  1.540183e+10  1.516273e+10  1.793057e+10  1.888210e+10  \n",
      "1  4.477550e+11  3.855400e+11  4.872270e+11  6.327700e+11  \n",
      "2  1.361929e+10  1.264170e+10  1.386141e+10  1.950278e+10  \n",
      "3  1.675404e+09  1.416348e+09  1.560519e+09  1.757604e+09  \n",
      "4  1.392220e+12  1.326940e+12  1.552700e+12  1.675420e+12  \n",
      "\n",
      "[5 rows x 32 columns]\n",
      "               Country  Original Principal Amount  Cancelled Amount  \\\n",
      "0              Albania               2.032160e+09      1.402591e+08   \n",
      "1              Algeria               5.911830e+09      1.605315e+09   \n",
      "2  Antigua and Barbuda               1.200000e+07      7.435746e+06   \n",
      "3            Argentina               4.246665e+10      4.680851e+09   \n",
      "4              Armenia               1.224900e+09      4.430277e+07   \n",
      "\n",
      "   Undisbursed Amount  Disbursed Amount  Borrower's Obligation Country_Code  \\\n",
      "0        7.465856e+08      1.082344e+09           8.740135e+08          ALB   \n",
      "1        0.000000e+00      4.306515e+09           0.000000e+00          DZA   \n",
      "2        5.161400e+04      4.512640e+06           4.012867e+06          ATG   \n",
      "3        5.289592e+09      3.300022e+10           9.498279e+09          ARG   \n",
      "4        1.301590e+08      1.053062e+09           9.671751e+08          ARM   \n",
      "\n",
      "                                         Series_Name     Series_Code  \\\n",
      "0  Charges for the use of intellectual property, ...  BM.GSR.ROYL.CD   \n",
      "1  Charges for the use of intellectual property, ...  BM.GSR.ROYL.CD   \n",
      "2  Charges for the use of intellectual property, ...  BM.GSR.ROYL.CD   \n",
      "3  Charges for the use of intellectual property, ...  BM.GSR.ROYL.CD   \n",
      "4  Charges for the use of intellectual property, ...  BM.GSR.ROYL.CD   \n",
      "\n",
      "          2000  ...         2013         2014         2015         2016  \\\n",
      "0          0.0  ...  22607333.78  21881927.42  24578013.75  23163082.28   \n",
      "1          0.0  ...  162112437.3  143997401.9  250010594.1  152897904.4   \n",
      "2  288888.8889  ...  1181754.444  2975174.815  3074426.822  4026738.886   \n",
      "3  580337544.9  ...   2329270062   2098996166   2178066124   2108388364   \n",
      "4          0.0  ...          0.0          0.0          0.0          0.0   \n",
      "\n",
      "          2017         2018         2019         2020         2021  \\\n",
      "0  13132426.91   26412466.5  34784215.26  38609323.64  34763724.47   \n",
      "1  147268735.1  115089900.8  143098650.4  133392700.5  202987326.1   \n",
      "2  4961232.208  3790929.211  3964437.185  1307832.815  3187710.404   \n",
      "3   2350351645   2054243293   1688980859   1149104742   1397946196   \n",
      "4          0.0          0.0          0.0          0.0          0.0   \n",
      "\n",
      "          2022  \n",
      "0  31727566.82  \n",
      "1  122677213.9  \n",
      "2          0.0  \n",
      "3   1706885415  \n",
      "4          0.0  \n",
      "\n",
      "[5 rows x 32 columns]\n"
     ]
    }
   ],
   "source": [
    "#inner joining GDP df on Debt df\n",
    "gdp_debt_df = duckdb.sql(\"\"\"SELECT * FROM\n",
    "                         debt_df INNER JOIN filtered_gdp_df\n",
    "                         ON \n",
    "                         debt_df.Country \n",
    "                         = filtered_gdp_df.Country_Name\"\"\").df()\n",
    "\n",
    "#Dropping the redundant Country_Name column\n",
    "gdp_debt_df = gdp_debt_df.drop(\"Country_Name\", axis = 1)\n",
    "\n",
    "#inner joining Intellectual Property df on Debt df\n",
    "int_property_debt_df = duckdb.sql(\"\"\"SELECT * FROM\n",
    "                         debt_df INNER JOIN filtered_int_prop_df\n",
    "                         ON \n",
    "                         debt_df.Country \n",
    "                         = filtered_int_prop_df.Country_Name\"\"\").df()\n",
    "\n",
    "#Dropping the redundant Country_Name column\n",
    "int_property_debt_df = int_property_debt_df.drop(\"Country_Name\", axis = 1)\n",
    "\n",
    "print(gdp_debt_df.head(5))\n",
    "print(int_property_debt_df.head(5))"
   ]
  },
  {
   "cell_type": "markdown",
   "metadata": {},
   "source": [
    "Now we will add the Developed Countries dataframe to the two dataframes we just created above. We will left join the developed_countries_df on these dataframes, as sql will automatically just put the countries that are not in the developed_countries_df as having a value of NaN for the developed column."
   ]
  },
  {
   "cell_type": "code",
   "execution_count": 21,
   "metadata": {},
   "outputs": [
    {
     "name": "stdout",
     "output_type": "stream",
     "text": [
      "               Country  Original Principal Amount  Cancelled Amount  \\\n",
      "0              Albania               2.032160e+09      1.402591e+08   \n",
      "1              Armenia               1.224900e+09      4.430277e+07   \n",
      "2  Antigua and Barbuda               1.200000e+07      7.435746e+06   \n",
      "3           Azerbaijan               3.479300e+09      5.324351e+08   \n",
      "4              Burundi               4.800000e+06      0.000000e+00   \n",
      "\n",
      "   Undisbursed Amount  Disbursed Amount  Borrower's Obligation Country_Code  \\\n",
      "0         746585590.2      1.082344e+09           8.740135e+08          ALB   \n",
      "1         130159016.0      1.053062e+09           9.671751e+08          ARM   \n",
      "2             51614.0      4.512640e+06           4.012867e+06          ATG   \n",
      "3         108026863.4      2.838838e+09           1.250364e+09          AZE   \n",
      "4                 0.0      4.800000e+06           0.000000e+00          BDI   \n",
      "\n",
      "      Indicator_Name  Indicator_Code          2000  ...          2014  \\\n",
      "0  GDP (current US$)  NY.GDP.MKTP.CD  3.480355e+09  ...  1.322815e+10   \n",
      "1  GDP (current US$)  NY.GDP.MKTP.CD  1.911564e+09  ...  1.160951e+10   \n",
      "2  GDP (current US$)  NY.GDP.MKTP.CD  8.263704e+08  ...  1.249733e+09   \n",
      "3  GDP (current US$)  NY.GDP.MKTP.CD  5.272617e+09  ...  7.523974e+10   \n",
      "4  GDP (current US$)  NY.GDP.MKTP.CD  8.704861e+08  ...  2.705783e+09   \n",
      "\n",
      "           2015          2016          2017          2018          2019  \\\n",
      "0  1.138685e+10  1.186120e+10  1.301973e+10  1.515642e+10  1.540183e+10   \n",
      "1  1.055334e+10  1.054614e+10  1.152746e+10  1.245794e+10  1.361929e+10   \n",
      "2  1.336693e+09  1.436585e+09  1.467956e+09  1.604770e+09  1.675404e+09   \n",
      "3  5.307624e+10  3.786701e+10  4.086663e+10  4.711248e+10  4.817424e+10   \n",
      "4  3.104004e+09  2.644488e+09  2.723587e+09  2.667182e+09  2.576519e+09   \n",
      "\n",
      "           2020          2021          2022  developed  \n",
      "0  1.516273e+10  1.793057e+10  1.888210e+10        NaN  \n",
      "1  1.264170e+10  1.386141e+10  1.950278e+10        NaN  \n",
      "2  1.416348e+09  1.560519e+09  1.757604e+09        NaN  \n",
      "3  4.269300e+10  5.482541e+10  7.872106e+10        NaN  \n",
      "4  2.649680e+09  2.775799e+09  3.073415e+09        NaN  \n",
      "\n",
      "[5 rows x 33 columns]\n",
      "               Country  Original Principal Amount  Cancelled Amount  \\\n",
      "0              Albania               2.032160e+09      1.402591e+08   \n",
      "1              Algeria               5.911830e+09      1.605315e+09   \n",
      "2  Antigua and Barbuda               1.200000e+07      7.435746e+06   \n",
      "3              Armenia               1.224900e+09      4.430277e+07   \n",
      "4           Azerbaijan               3.479300e+09      5.324351e+08   \n",
      "\n",
      "   Undisbursed Amount  Disbursed Amount  Borrower's Obligation Country_Code  \\\n",
      "0         746585590.2      1.082344e+09           8.740135e+08          ALB   \n",
      "1                 0.0      4.306515e+09           0.000000e+00          DZA   \n",
      "2             51614.0      4.512640e+06           4.012867e+06          ATG   \n",
      "3         130159016.0      1.053062e+09           9.671751e+08          ARM   \n",
      "4         108026863.4      2.838838e+09           1.250364e+09          AZE   \n",
      "\n",
      "                                         Series_Name     Series_Code  \\\n",
      "0  Charges for the use of intellectual property, ...  BM.GSR.ROYL.CD   \n",
      "1  Charges for the use of intellectual property, ...  BM.GSR.ROYL.CD   \n",
      "2  Charges for the use of intellectual property, ...  BM.GSR.ROYL.CD   \n",
      "3  Charges for the use of intellectual property, ...  BM.GSR.ROYL.CD   \n",
      "4  Charges for the use of intellectual property, ...  BM.GSR.ROYL.CD   \n",
      "\n",
      "          2000  ...         2014         2015         2016         2017  \\\n",
      "0          0.0  ...  21881927.42  24578013.75  23163082.28  13132426.91   \n",
      "1          0.0  ...  143997401.9  250010594.1  152897904.4  147268735.1   \n",
      "2  288888.8889  ...  2975174.815  3074426.822  4026738.886  4961232.208   \n",
      "3          0.0  ...          0.0          0.0          0.0          0.0   \n",
      "4          0.0  ...          0.0          0.0          0.0          0.0   \n",
      "\n",
      "          2018         2019         2020         2021         2022 developed  \n",
      "0   26412466.5  34784215.26  38609323.64  34763724.47  31727566.82       NaN  \n",
      "1  115089900.8  143098650.4  133392700.5  202987326.1  122677213.9       NaN  \n",
      "2  3790929.211  3964437.185  1307832.815  3187710.404          0.0       NaN  \n",
      "3          0.0          0.0          0.0          0.0          0.0       NaN  \n",
      "4          0.0          0.0          0.0          0.0    198087000       NaN  \n",
      "\n",
      "[5 rows x 33 columns]\n"
     ]
    }
   ],
   "source": [
    "#adding developed countries df to gdp_debt_df\n",
    "gdp_dbt_dev_df = duckdb.sql(\"\"\"SELECT * FROM\n",
    "                         gdp_debt_df LEFT JOIN developed_countries_df\n",
    "                         ON gdp_debt_df.Country \n",
    "                         = developed_countries_df.country\"\"\").df()\n",
    "\n",
    "gdp_dbt_dev_df = gdp_dbt_dev_df.drop(columns = 'country')\n",
    "\n",
    "#adding developed countries df to int_prop_dbt_dev_df\n",
    "int_prop_dbt_dev_df = duckdb.sql(\"\"\"SELECT * FROM\n",
    "                         int_property_debt_df LEFT JOIN developed_countries_df\n",
    "                         ON int_property_debt_df.Country \n",
    "                         = developed_countries_df.country\"\"\").df()\n",
    "\n",
    "int_prop_dbt_dev_df = int_prop_dbt_dev_df.drop(columns = 'country')\n",
    "\n",
    "print(gdp_dbt_dev_df.head(5))\n",
    "print(int_prop_dbt_dev_df.head(5))"
   ]
  },
  {
   "cell_type": "markdown",
   "metadata": {},
   "source": [
    "Now, we will fill the NaN's in the 'developed' columns of these two data frames with 0s, so it is a binary column where 0 = not developed and 1 = developed."
   ]
  },
  {
   "cell_type": "code",
   "execution_count": 22,
   "metadata": {},
   "outputs": [
    {
     "name": "stdout",
     "output_type": "stream",
     "text": [
      "               Country  Original Principal Amount  Cancelled Amount  \\\n",
      "0              Albania               2.032160e+09      1.402591e+08   \n",
      "1              Armenia               1.224900e+09      4.430277e+07   \n",
      "2  Antigua and Barbuda               1.200000e+07      7.435746e+06   \n",
      "3           Azerbaijan               3.479300e+09      5.324351e+08   \n",
      "4              Burundi               4.800000e+06      0.000000e+00   \n",
      "\n",
      "   Undisbursed Amount  Disbursed Amount  Borrower's Obligation Country_Code  \\\n",
      "0         746585590.2      1.082344e+09           8.740135e+08          ALB   \n",
      "1         130159016.0      1.053062e+09           9.671751e+08          ARM   \n",
      "2             51614.0      4.512640e+06           4.012867e+06          ATG   \n",
      "3         108026863.4      2.838838e+09           1.250364e+09          AZE   \n",
      "4                 0.0      4.800000e+06           0.000000e+00          BDI   \n",
      "\n",
      "      Indicator_Name  Indicator_Code          2000  ...          2014  \\\n",
      "0  GDP (current US$)  NY.GDP.MKTP.CD  3.480355e+09  ...  1.322815e+10   \n",
      "1  GDP (current US$)  NY.GDP.MKTP.CD  1.911564e+09  ...  1.160951e+10   \n",
      "2  GDP (current US$)  NY.GDP.MKTP.CD  8.263704e+08  ...  1.249733e+09   \n",
      "3  GDP (current US$)  NY.GDP.MKTP.CD  5.272617e+09  ...  7.523974e+10   \n",
      "4  GDP (current US$)  NY.GDP.MKTP.CD  8.704861e+08  ...  2.705783e+09   \n",
      "\n",
      "           2015          2016          2017          2018          2019  \\\n",
      "0  1.138685e+10  1.186120e+10  1.301973e+10  1.515642e+10  1.540183e+10   \n",
      "1  1.055334e+10  1.054614e+10  1.152746e+10  1.245794e+10  1.361929e+10   \n",
      "2  1.336693e+09  1.436585e+09  1.467956e+09  1.604770e+09  1.675404e+09   \n",
      "3  5.307624e+10  3.786701e+10  4.086663e+10  4.711248e+10  4.817424e+10   \n",
      "4  3.104004e+09  2.644488e+09  2.723587e+09  2.667182e+09  2.576519e+09   \n",
      "\n",
      "           2020          2021          2022  developed  \n",
      "0  1.516273e+10  1.793057e+10  1.888210e+10        0.0  \n",
      "1  1.264170e+10  1.386141e+10  1.950278e+10        0.0  \n",
      "2  1.416348e+09  1.560519e+09  1.757604e+09        0.0  \n",
      "3  4.269300e+10  5.482541e+10  7.872106e+10        0.0  \n",
      "4  2.649680e+09  2.775799e+09  3.073415e+09        0.0  \n",
      "\n",
      "[5 rows x 33 columns]\n",
      "               Country  Original Principal Amount  Cancelled Amount  \\\n",
      "0              Albania               2.032160e+09      1.402591e+08   \n",
      "1              Algeria               5.911830e+09      1.605315e+09   \n",
      "2  Antigua and Barbuda               1.200000e+07      7.435746e+06   \n",
      "3              Armenia               1.224900e+09      4.430277e+07   \n",
      "4           Azerbaijan               3.479300e+09      5.324351e+08   \n",
      "\n",
      "   Undisbursed Amount  Disbursed Amount  Borrower's Obligation Country_Code  \\\n",
      "0         746585590.2      1.082344e+09           8.740135e+08          ALB   \n",
      "1                 0.0      4.306515e+09           0.000000e+00          DZA   \n",
      "2             51614.0      4.512640e+06           4.012867e+06          ATG   \n",
      "3         130159016.0      1.053062e+09           9.671751e+08          ARM   \n",
      "4         108026863.4      2.838838e+09           1.250364e+09          AZE   \n",
      "\n",
      "                                         Series_Name     Series_Code  \\\n",
      "0  Charges for the use of intellectual property, ...  BM.GSR.ROYL.CD   \n",
      "1  Charges for the use of intellectual property, ...  BM.GSR.ROYL.CD   \n",
      "2  Charges for the use of intellectual property, ...  BM.GSR.ROYL.CD   \n",
      "3  Charges for the use of intellectual property, ...  BM.GSR.ROYL.CD   \n",
      "4  Charges for the use of intellectual property, ...  BM.GSR.ROYL.CD   \n",
      "\n",
      "          2000  ...         2014         2015         2016         2017  \\\n",
      "0          0.0  ...  21881927.42  24578013.75  23163082.28  13132426.91   \n",
      "1          0.0  ...  143997401.9  250010594.1  152897904.4  147268735.1   \n",
      "2  288888.8889  ...  2975174.815  3074426.822  4026738.886  4961232.208   \n",
      "3          0.0  ...          0.0          0.0          0.0          0.0   \n",
      "4          0.0  ...          0.0          0.0          0.0          0.0   \n",
      "\n",
      "          2018         2019         2020         2021         2022 developed  \n",
      "0   26412466.5  34784215.26  38609323.64  34763724.47  31727566.82       0.0  \n",
      "1  115089900.8  143098650.4  133392700.5  202987326.1  122677213.9       0.0  \n",
      "2  3790929.211  3964437.185  1307832.815  3187710.404          0.0       0.0  \n",
      "3          0.0          0.0          0.0          0.0          0.0       0.0  \n",
      "4          0.0          0.0          0.0          0.0    198087000       0.0  \n",
      "\n",
      "[5 rows x 33 columns]\n"
     ]
    }
   ],
   "source": [
    "#filling NaN values in 'developed' columns of both dataframes with 0\n",
    "gdp_dbt_dev_df['developed'].replace(np.nan, value= 0, inplace = True)\n",
    "int_prop_dbt_dev_df['developed'].replace(np.nan, value= 0, inplace = True)\n",
    "\n",
    "\n",
    "int_prop_dbt_dev_df.to_csv(\"Int_Prop_Debt_Combined.csv\", index=False)\n",
    "gdp_dbt_dev_df.to_csv(\"GDP_Debt_Combined.csv\", index=False)\n",
    "\n",
    "\n",
    "print(gdp_dbt_dev_df.head(5))\n",
    "print(int_prop_dbt_dev_df.head(5))"
   ]
  },
  {
   "cell_type": "markdown",
   "metadata": {},
   "source": [
    "We will do some final checks for column datatypes -- All the year columns and columns having to do with the countries' debt to the World Bank (barring label columns such as country name and series label) should be float64."
   ]
  },
  {
   "cell_type": "code",
   "execution_count": 23,
   "metadata": {},
   "outputs": [
    {
     "name": "stdout",
     "output_type": "stream",
     "text": [
      "Country                       object\n",
      "Original Principal Amount    float64\n",
      "Cancelled Amount             float64\n",
      "Undisbursed Amount           float64\n",
      "Disbursed Amount             float64\n",
      "Borrower's Obligation        float64\n",
      "Country_Code                  object\n",
      "Series_Name                   object\n",
      "Series_Code                   object\n",
      "2000                          object\n",
      "2001                          object\n",
      "2002                          object\n",
      "2003                          object\n",
      "2004                          object\n",
      "2005                          object\n",
      "2006                          object\n",
      "2007                          object\n",
      "2008                          object\n",
      "2009                          object\n",
      "2010                          object\n",
      "2011                          object\n",
      "2012                          object\n",
      "2013                          object\n",
      "2014                          object\n",
      "2015                          object\n",
      "2016                          object\n",
      "2017                          object\n",
      "2018                          object\n",
      "2019                          object\n",
      "2020                          object\n",
      "2021                          object\n",
      "2022                          object\n",
      "developed                    float64\n",
      "dtype: object\n",
      "Country                       object\n",
      "Original Principal Amount    float64\n",
      "Cancelled Amount             float64\n",
      "Undisbursed Amount           float64\n",
      "Disbursed Amount             float64\n",
      "Borrower's Obligation        float64\n",
      "Country_Code                  object\n",
      "Indicator_Name                object\n",
      "Indicator_Code                object\n",
      "2000                         float64\n",
      "2001                         float64\n",
      "2002                         float64\n",
      "2003                         float64\n",
      "2004                         float64\n",
      "2005                         float64\n",
      "2006                         float64\n",
      "2007                         float64\n",
      "2008                         float64\n",
      "2009                         float64\n",
      "2010                         float64\n",
      "2011                         float64\n",
      "2012                         float64\n",
      "2013                         float64\n",
      "2014                         float64\n",
      "2015                         float64\n",
      "2016                         float64\n",
      "2017                         float64\n",
      "2018                         float64\n",
      "2019                         float64\n",
      "2020                         float64\n",
      "2021                         float64\n",
      "2022                         float64\n",
      "developed                    float64\n",
      "dtype: object\n"
     ]
    }
   ],
   "source": [
    "print(int_prop_dbt_dev_df.dtypes)\n",
    "print(gdp_dbt_dev_df.dtypes)"
   ]
  },
  {
   "cell_type": "markdown",
   "metadata": {},
   "source": [
    "The datatypes of the year columns in the Intellectual Property/Debt dataframe are objects when they should be floats. We will now rectify this."
   ]
  },
  {
   "cell_type": "code",
   "execution_count": 24,
   "metadata": {},
   "outputs": [],
   "source": [
    "cols_to_fix = ['2000', '2001', '2002',\n",
    "       '2003', '2004', '2005', '2006', '2007', '2008', '2009', '2010', '2011',\n",
    "       '2012', '2013', '2014', '2015', '2016', '2017', '2018', '2019', '2020',\n",
    "       '2021', '2022']\n",
    "\n",
    "for col in cols_to_fix:\n",
    "  int_prop_dbt_dev_df[col] = int_prop_dbt_dev_df[col].astype(np.float64)"
   ]
  },
  {
   "cell_type": "markdown",
   "metadata": {},
   "source": [
    "## Preregistration of Analysis"
   ]
  },
  {
   "cell_type": "code",
   "execution_count": 25,
   "metadata": {},
   "outputs": [
    {
     "name": "stdout",
     "output_type": "stream",
     "text": [
      "Index(['Country', 'Original Principal Amount', 'Cancelled Amount',\n",
      "       'Undisbursed Amount', 'Disbursed Amount', 'Borrower's Obligation',\n",
      "       'Country_Code', 'Indicator_Name', 'Indicator_Code', '2000', '2001',\n",
      "       '2002', '2003', '2004', '2005', '2006', '2007', '2008', '2009', '2010',\n",
      "       '2011', '2012', '2013', '2014', '2015', '2016', '2017', '2018', '2019',\n",
      "       '2020', '2021', '2022', 'developed'],\n",
      "      dtype='object')\n"
     ]
    }
   ],
   "source": [
    "#checking the columns existing in the df to conduct the data analysis\n",
    "print(gdp_dbt_dev_df.columns)"
   ]
  },
  {
   "cell_type": "markdown",
   "metadata": {},
   "source": [
    "We are now going to collect basic summary statistics on our dataset containing Countries' GDP & Debt to The World Bank."
   ]
  },
  {
   "cell_type": "code",
   "execution_count": 26,
   "metadata": {},
   "outputs": [
    {
     "name": "stdout",
     "output_type": "stream",
     "text": [
      "        Country  Original Principal Amount  Cancelled Amount  \\\n",
      "count       135               1.350000e+02      1.350000e+02   \n",
      "unique      135                        NaN               NaN   \n",
      "top     Albania                        NaN               NaN   \n",
      "freq          1                        NaN               NaN   \n",
      "mean        NaN               6.013611e+09      7.263827e+08   \n",
      "std         NaN               1.405140e+10      1.819805e+09   \n",
      "min         NaN               2.600000e+06      0.000000e+00   \n",
      "25%         NaN               1.455000e+08      2.941172e+06   \n",
      "50%         NaN               6.260000e+08      6.564928e+07   \n",
      "75%         NaN               4.227310e+09      4.828613e+08   \n",
      "max         NaN               7.918036e+10      1.390867e+10   \n",
      "\n",
      "        Undisbursed Amount  Disbursed Amount  Borrower's Obligation  \\\n",
      "count         1.350000e+02      1.350000e+02           1.350000e+02   \n",
      "unique                 NaN               NaN                    NaN   \n",
      "top                    NaN               NaN                    NaN   \n",
      "freq                   NaN               NaN                    NaN   \n",
      "mean          6.198188e+08      4.687486e+09           1.727375e+09   \n",
      "std           1.691227e+09      1.101138e+10           3.995749e+09   \n",
      "min          -1.000000e-02      0.000000e+00          -2.000000e-02   \n",
      "25%           0.000000e+00      1.170043e+08           0.000000e+00   \n",
      "50%           1.000000e-02      5.063214e+08           1.382559e+07   \n",
      "75%           4.902135e+08      3.105956e+09           1.099291e+09   \n",
      "max           1.348451e+10      5.589227e+10           2.071285e+10   \n",
      "\n",
      "       Country_Code     Indicator_Name  Indicator_Code          2000  ...  \\\n",
      "count           135                135             135  1.350000e+02  ...   \n",
      "unique          135                  1               1           NaN  ...   \n",
      "top             ALB  GDP (current US$)  NY.GDP.MKTP.CD           NaN  ...   \n",
      "freq              1                135             135           NaN  ...   \n",
      "mean            NaN                NaN             NaN  1.233364e+11  ...   \n",
      "std             NaN                NaN             NaN  4.713690e+11  ...   \n",
      "min             NaN                NaN             NaN  0.000000e+00  ...   \n",
      "25%             NaN                NaN             NaN  3.686745e+09  ...   \n",
      "50%             NaN                NaN             NaN  1.178493e+10  ...   \n",
      "75%             NaN                NaN             NaN  6.563623e+10  ...   \n",
      "max             NaN                NaN             NaN  4.968360e+12  ...   \n",
      "\n",
      "                2014          2015          2016          2017          2018  \\\n",
      "count   1.350000e+02  1.350000e+02  1.350000e+02  1.350000e+02  1.350000e+02   \n",
      "unique           NaN           NaN           NaN           NaN           NaN   \n",
      "top              NaN           NaN           NaN           NaN           NaN   \n",
      "freq             NaN           NaN           NaN           NaN           NaN   \n",
      "mean    3.425931e+11  3.155700e+11  3.218605e+11  3.479329e+11  3.711574e+11   \n",
      "std     1.082320e+12  1.083229e+12  1.114224e+12  1.205385e+12  1.332259e+12   \n",
      "min     5.202074e+08  5.407370e+08  5.762296e+08  5.215519e+08  5.547704e+08   \n",
      "25%     1.279854e+10  1.164640e+10  1.185491e+10  1.319770e+10  1.424786e+10   \n",
      "50%     4.996483e+10  4.737860e+10  4.772355e+10  5.251234e+10  5.375141e+10   \n",
      "75%     2.291590e+11  1.953815e+11  2.013490e+11  2.199935e+11  2.461585e+11   \n",
      "max     1.047560e+13  1.106160e+13  1.123330e+13  1.231050e+13  1.389490e+13   \n",
      "\n",
      "                2019          2020          2021          2022   developed  \n",
      "count   1.350000e+02  1.350000e+02  1.350000e+02  1.350000e+02  135.000000  \n",
      "unique           NaN           NaN           NaN           NaN         NaN  \n",
      "top              NaN           NaN           NaN           NaN         NaN  \n",
      "freq             NaN           NaN           NaN           NaN         NaN  \n",
      "mean    3.752925e+11  3.625623e+11  4.161309e+11  4.253528e+11    0.325926  \n",
      "std     1.363609e+12  1.382994e+12  1.644602e+12  1.647569e+12    0.470465  \n",
      "min     6.115370e+08  5.042148e+08  0.000000e+00  0.000000e+00    0.000000  \n",
      "25%     1.432135e+10  1.318221e+10  1.435030e+10  1.551456e+10    0.000000  \n",
      "50%     5.433159e+10  5.335648e+10  6.174859e+10  6.350175e+10    0.000000  \n",
      "75%     2.517830e+11  2.486690e+11  2.835980e+11  2.858750e+11    1.000000  \n",
      "max     1.428000e+13  1.468770e+13  1.782050e+13  1.796320e+13    1.000000  \n",
      "\n",
      "[11 rows x 33 columns]\n"
     ]
    }
   ],
   "source": [
    "#collecting the summary statistics related to GDP & Debt\n",
    "print(gdp_dbt_dev_df.describe(include='all'))"
   ]
  },
  {
   "cell_type": "markdown",
   "metadata": {},
   "source": [
    "We will do the same for the dataset pertaining to Intellectual Property & Debt"
   ]
  },
  {
   "cell_type": "code",
   "execution_count": 27,
   "metadata": {},
   "outputs": [
    {
     "name": "stdout",
     "output_type": "stream",
     "text": [
      "        Country  Original Principal Amount  Cancelled Amount  \\\n",
      "count       135               1.350000e+02      1.350000e+02   \n",
      "unique      135                        NaN               NaN   \n",
      "top     Albania                        NaN               NaN   \n",
      "freq          1                        NaN               NaN   \n",
      "mean        NaN               6.013611e+09      7.263827e+08   \n",
      "std         NaN               1.405140e+10      1.819805e+09   \n",
      "min         NaN               2.600000e+06      0.000000e+00   \n",
      "25%         NaN               1.455000e+08      2.941172e+06   \n",
      "50%         NaN               6.260000e+08      6.564928e+07   \n",
      "75%         NaN               4.227310e+09      4.828613e+08   \n",
      "max         NaN               7.918036e+10      1.390867e+10   \n",
      "\n",
      "        Undisbursed Amount  Disbursed Amount  Borrower's Obligation  \\\n",
      "count         1.350000e+02      1.350000e+02           1.350000e+02   \n",
      "unique                 NaN               NaN                    NaN   \n",
      "top                    NaN               NaN                    NaN   \n",
      "freq                   NaN               NaN                    NaN   \n",
      "mean          6.198188e+08      4.687486e+09           1.727375e+09   \n",
      "std           1.691227e+09      1.101138e+10           3.995749e+09   \n",
      "min          -1.000000e-02      0.000000e+00          -2.000000e-02   \n",
      "25%           0.000000e+00      1.170043e+08           0.000000e+00   \n",
      "50%           1.000000e-02      5.063214e+08           1.382559e+07   \n",
      "75%           4.902135e+08      3.105956e+09           1.099291e+09   \n",
      "max           1.348451e+10      5.589227e+10           2.071285e+10   \n",
      "\n",
      "       Country_Code                                        Series_Name  \\\n",
      "count           135                                                135   \n",
      "unique          135                                                  1   \n",
      "top             ALB  Charges for the use of intellectual property, ...   \n",
      "freq              1                                                135   \n",
      "mean            NaN                                                NaN   \n",
      "std             NaN                                                NaN   \n",
      "min             NaN                                                NaN   \n",
      "25%             NaN                                                NaN   \n",
      "50%             NaN                                                NaN   \n",
      "75%             NaN                                                NaN   \n",
      "max             NaN                                                NaN   \n",
      "\n",
      "           Series_Code          2000  ...          2014          2015  \\\n",
      "count              135  1.350000e+02  ...  1.350000e+02  1.350000e+02   \n",
      "unique               1           NaN  ...           NaN           NaN   \n",
      "top     BM.GSR.ROYL.CD           NaN  ...           NaN           NaN   \n",
      "freq               135           NaN  ...           NaN           NaN   \n",
      "mean               NaN  2.803771e+08  ...  1.942604e+09  2.158365e+09   \n",
      "std                NaN  1.151011e+09  ...  7.144004e+09  9.143223e+09   \n",
      "min                NaN  0.000000e+00  ...  0.000000e+00  0.000000e+00   \n",
      "25%                NaN  0.000000e+00  ...  3.104481e+06  3.228290e+06   \n",
      "50%                NaN  3.700007e+06  ...  5.076225e+07  4.834977e+07   \n",
      "75%                NaN  5.932668e+07  ...  6.573998e+08  6.458967e+08   \n",
      "max                NaN  1.100679e+10  ...  5.726775e+10  7.216383e+10   \n",
      "\n",
      "                2016          2017          2018          2019          2020  \\\n",
      "count   1.350000e+02  1.350000e+02  1.350000e+02  1.350000e+02  1.350000e+02   \n",
      "unique           NaN           NaN           NaN           NaN           NaN   \n",
      "top              NaN           NaN           NaN           NaN           NaN   \n",
      "freq             NaN           NaN           NaN           NaN           NaN   \n",
      "mean    1.961910e+09  2.104487e+09  2.312816e+09  2.346645e+09  2.340195e+09   \n",
      "std     7.936774e+09  8.156267e+09  9.162585e+09  9.639089e+09  9.817989e+09   \n",
      "min     0.000000e+00  0.000000e+00  0.000000e+00  0.000000e+00  0.000000e+00   \n",
      "25%     2.642712e+06  4.050991e+06  5.296505e+06  4.643056e+06  2.958590e+06   \n",
      "50%     5.075662e+07  5.141487e+07  5.117010e+07  5.870813e+07  6.472302e+07   \n",
      "75%     7.500196e+08  9.019878e+08  8.985973e+08  8.602294e+08  7.871088e+08   \n",
      "max     7.656042e+10  7.529754e+10  8.548230e+10  9.426233e+10  9.682507e+10   \n",
      "\n",
      "                2021          2022   developed  \n",
      "count   1.350000e+02  1.350000e+02  135.000000  \n",
      "unique           NaN           NaN         NaN  \n",
      "top              NaN           NaN         NaN  \n",
      "freq             NaN           NaN         NaN  \n",
      "mean    2.648436e+09  2.645443e+09    0.325926  \n",
      "std     1.252617e+10  1.276865e+10    0.470465  \n",
      "min     0.000000e+00  0.000000e+00    0.000000  \n",
      "25%     2.946400e+06  0.000000e+00    0.000000  \n",
      "50%     6.311211e+07  2.519415e+07    0.000000  \n",
      "75%     8.157664e+08  6.913908e+08    1.000000  \n",
      "max     1.330140e+11  1.369110e+11    1.000000  \n",
      "\n",
      "[11 rows x 33 columns]\n"
     ]
    }
   ],
   "source": [
    "#collecting the summary statistics related to Intellectual Property & Debt\n",
    "print(int_prop_dbt_dev_df.describe(include='all'))"
   ]
  },
  {
   "cell_type": "markdown",
   "metadata": {},
   "source": [
    "For both of these datasets, the summary statistics are not able to provide too great of an insight into the data -- yes, we are able to see aspects such as the fact that the mean principal loan amount accross all countries in our dataset was $6.013611e+09, but because we want to look at the relation between Intellectual Property and/or GDP in relation to Debt over a period of years, depending on the binary variable that determines whether or not a country is developed, we need to do further data exploration through graphs and plots."
   ]
  },
  {
   "cell_type": "markdown",
   "metadata": {},
   "source": [
    "### Hypothesis 1: A Higher Borrower's Obligation Implies That a Country is More Likely to be Developed"
   ]
  },
  {
   "cell_type": "code",
   "execution_count": 28,
   "metadata": {},
   "outputs": [
    {
     "name": "stdout",
     "output_type": "stream",
     "text": [
      "   Country  Original Principal Amount  Cancelled Amount  Undisbursed Amount  \\\n",
      "0  Albania               2.032160e+09      1.402591e+08         746585590.2   \n",
      "1  Armenia               1.224900e+09      4.430277e+07         130159016.0   \n",
      "\n",
      "   Disbursed Amount  Borrower's Obligation Country_Code     Indicator_Name  \\\n",
      "0      1.082344e+09            874013475.8          ALB  GDP (current US$)   \n",
      "1      1.053062e+09            967175073.4          ARM  GDP (current US$)   \n",
      "\n",
      "   Indicator_Code          2000  ...          2014          2015  \\\n",
      "0  NY.GDP.MKTP.CD  3.480355e+09  ...  1.322815e+10  1.138685e+10   \n",
      "1  NY.GDP.MKTP.CD  1.911564e+09  ...  1.160951e+10  1.055334e+10   \n",
      "\n",
      "           2016          2017          2018          2019          2020  \\\n",
      "0  1.186120e+10  1.301973e+10  1.515642e+10  1.540183e+10  1.516273e+10   \n",
      "1  1.054614e+10  1.152746e+10  1.245794e+10  1.361929e+10  1.264170e+10   \n",
      "\n",
      "           2021          2022  developed  \n",
      "0  1.793057e+10  1.888210e+10        0.0  \n",
      "1  1.386141e+10  1.950278e+10        0.0  \n",
      "\n",
      "[2 rows x 33 columns]\n"
     ]
    }
   ],
   "source": [
    "#loading in cleaned csv from phase 2 (gdp data, debt data, and developed binary\n",
    "#variable)\n",
    "\n",
    "gdp_debt_csv = pd.read_csv(\"./GDP_Debt_Combined.csv\")\n",
    "print(gdp_debt_csv.head(2))"
   ]
  },
  {
   "cell_type": "markdown",
   "metadata": {},
   "source": [
    "We will now plot a scatterplot to distinguish the developed and developing economies' borrowers obligation to see whether a higher borrower's obligation would most likely be among developed or developing economies. To do so, we will use binary values 1 and 0, 1 being developed and 0 being a developing economy."
   ]
  },
  {
   "cell_type": "code",
   "execution_count": 63,
   "metadata": {},
   "outputs": [
    {
     "name": "stderr",
     "output_type": "stream",
     "text": [
      "No artists with labels found to put in legend.  Note that artists whose label start with an underscore are ignored when legend() is called with no argument.\n"
     ]
    },
    {
     "data": {
      "text/plain": [
       "<matplotlib.legend.Legend at 0x155c99bd0>"
      ]
     },
     "execution_count": 63,
     "metadata": {},
     "output_type": "execute_result"
    },
    {
     "data": {
      "image/png": "[encoded data removed]",
      "text/plain": [
       "<Figure size 1000x600 with 1 Axes>"
      ]
     },
     "metadata": {},
     "output_type": "display_data"
    }
   ],
   "source": [
    "#plotting the data prior to the regression analysis, to get a visual\n",
    "#understanding of borrower's obligation  in relation to developed/developing\n",
    "\n",
    "plt.figure(figsize = (10, 6))\n",
    "sns.scatterplot(y = gdp_debt_csv['developed'], x = gdp_debt_csv['Borrower\\'s Obligation'])\n",
    "plt.ylabel('Developed or Developing Economy')\n",
    "plt.xlabel('Borrower\\'s Obligation (Billions of $)')\n",
    "plt.legend(title = 'Developed = 1 Developing = 0')"
   ]
  },
  {
   "cell_type": "markdown",
   "metadata": {},
   "source": [
    "On this scatterplot, it appears that there are more developed economies with a higher borrower's obligation (Billions of $) than developed economies, which are concentrated towards the lower amount of the range of borrower's obligation. Thus, we will conduct a logistic regression to see whether the relationship between borrower's obligation and the status of it being developed or developing is significant. "
   ]
  },
  {
   "cell_type": "code",
   "execution_count": 40,
   "metadata": {},
   "outputs": [
    {
     "ename": "NameError",
     "evalue": "name 'sm' is not defined",
     "output_type": "error",
     "traceback": [
      "\u001b[0;31m---------------------------------------------------------------------------\u001b[0m",
      "\u001b[0;31mNameError\u001b[0m                                 Traceback (most recent call last)",
      "Cell \u001b[0;32mIn[40], line 4\u001b[0m\n\u001b[1;32m      2\u001b[0m y \u001b[38;5;241m=\u001b[39m gdp_debt_csv[\u001b[38;5;124m'\u001b[39m\u001b[38;5;124mdeveloped\u001b[39m\u001b[38;5;124m'\u001b[39m]\n\u001b[1;32m      3\u001b[0m X \u001b[38;5;241m=\u001b[39m gdp_debt_csv[[\u001b[38;5;124m'\u001b[39m\u001b[38;5;124mBorrower\u001b[39m\u001b[38;5;130;01m\\'\u001b[39;00m\u001b[38;5;124ms Obligation\u001b[39m\u001b[38;5;124m'\u001b[39m]]\n\u001b[0;32m----> 4\u001b[0m X_sm \u001b[38;5;241m=\u001b[39m sm\u001b[38;5;241m.\u001b[39madd_constant(X)\n\u001b[1;32m      5\u001b[0m b_obl_model \u001b[38;5;241m=\u001b[39m sm\u001b[38;5;241m.\u001b[39mLogit(y,X_sm)\u001b[38;5;241m.\u001b[39mfit()\n\u001b[1;32m      6\u001b[0m \u001b[38;5;28mprint\u001b[39m(b_obl_model\u001b[38;5;241m.\u001b[39msummary())\n",
      "\u001b[0;31mNameError\u001b[0m: name 'sm' is not defined"
     ]
    }
   ],
   "source": [
    "#fitting model and looking at coefficient\n",
    "y = gdp_debt_csv['developed']\n",
    "X = gdp_debt_csv[['Borrower\\'s Obligation']]\n",
    "X_sm = sm.add_constant(X)\n",
    "b_obl_model = sm.Logit(y,X_sm).fit()\n",
    "print(b_obl_model.summary())"
   ]
  },
  {
   "cell_type": "markdown",
   "metadata": {},
   "source": [
    "In this case, the value for $e^\\beta$ is approximately 1.  This means that for every dollar change in the amount of money for a country's Borrower's Obligation, we expect that the odds of a country being developed are multiplied by 1.  This is inconclusive, because it means that the odds of a country being developed stay the same regardless of any change in borrower's obligation.  As a result, we have to reject our hypothesis. In addition, the p-value is 0.088 which is greater than 0.05, so that means the output is not significant."
   ]
  },
  {
   "cell_type": "code",
   "execution_count": 54,
   "metadata": {},
   "outputs": [
    {
     "ename": "KeyError",
     "evalue": "\"['Correct_Column_Name_2000', 'Correct_Column_Name_2001', 'Correct_Column_Name_2002', 'Correct_Column_Name_2003', 'Correct_Column_Name_2004', 'Correct_Column_Name_2005', 'Correct_Column_Name_2006', 'Correct_Column_Name_2007', 'Correct_Column_Name_2008', 'Correct_Column_Name_2009', 'Correct_Column_Name_2010', 'Correct_Column_Name_2011', 'Correct_Column_Name_2012', 'Correct_Column_Name_2013', 'Correct_Column_Name_2014', 'Correct_Column_Name_2015', 'Correct_Column_Name_2016', 'Correct_Column_Name_2017', 'Correct_Column_Name_2018', 'Correct_Column_Name_2019', 'Correct_Column_Name_2020', 'Correct_Column_Name_2021', 'Correct_Column_Name_2022'] not in index\"",
     "output_type": "error",
     "traceback": [
      "\u001b[0;31m---------------------------------------------------------------------------\u001b[0m",
      "\u001b[0;31mKeyError\u001b[0m                                  Traceback (most recent call last)",
      "Cell \u001b[0;32mIn[54], line 8\u001b[0m\n\u001b[1;32m      5\u001b[0m year_loan \u001b[38;5;241m=\u001b[39m [\u001b[38;5;124m'\u001b[39m\u001b[38;5;124mBorrower\u001b[39m\u001b[38;5;130;01m\\'\u001b[39;00m\u001b[38;5;124ms Obligation\u001b[39m\u001b[38;5;124m'\u001b[39m] \u001b[38;5;241m+\u001b[39m ip_columns\n\u001b[1;32m      7\u001b[0m \u001b[38;5;66;03m# Creating a correlation matrix\u001b[39;00m\n\u001b[0;32m----> 8\u001b[0m correlation_matrix \u001b[38;5;241m=\u001b[39m gdp_dbt_dev_df[year_loan]\u001b[38;5;241m.\u001b[39mcorr()\n\u001b[1;32m     10\u001b[0m \u001b[38;5;66;03m# Creating the heatmap\u001b[39;00m\n\u001b[1;32m     11\u001b[0m plt\u001b[38;5;241m.\u001b[39mfigure(figsize\u001b[38;5;241m=\u001b[39m(\u001b[38;5;241m12\u001b[39m, \u001b[38;5;241m8\u001b[39m))\n",
      "File \u001b[0;32m/Applications/anaconda3/envs/info2950/lib/python3.11/site-packages/pandas/core/frame.py:3767\u001b[0m, in \u001b[0;36mDataFrame.__getitem__\u001b[0;34m(self, key)\u001b[0m\n\u001b[1;32m   3765\u001b[0m     \u001b[38;5;28;01mif\u001b[39;00m is_iterator(key):\n\u001b[1;32m   3766\u001b[0m         key \u001b[38;5;241m=\u001b[39m \u001b[38;5;28mlist\u001b[39m(key)\n\u001b[0;32m-> 3767\u001b[0m     indexer \u001b[38;5;241m=\u001b[39m \u001b[38;5;28mself\u001b[39m\u001b[38;5;241m.\u001b[39mcolumns\u001b[38;5;241m.\u001b[39m_get_indexer_strict(key, \u001b[38;5;124m\"\u001b[39m\u001b[38;5;124mcolumns\u001b[39m\u001b[38;5;124m\"\u001b[39m)[\u001b[38;5;241m1\u001b[39m]\n\u001b[1;32m   3769\u001b[0m \u001b[38;5;66;03m# take() does not accept boolean indexers\u001b[39;00m\n\u001b[1;32m   3770\u001b[0m \u001b[38;5;28;01mif\u001b[39;00m \u001b[38;5;28mgetattr\u001b[39m(indexer, \u001b[38;5;124m\"\u001b[39m\u001b[38;5;124mdtype\u001b[39m\u001b[38;5;124m\"\u001b[39m, \u001b[38;5;28;01mNone\u001b[39;00m) \u001b[38;5;241m==\u001b[39m \u001b[38;5;28mbool\u001b[39m:\n",
      "File \u001b[0;32m/Applications/anaconda3/envs/info2950/lib/python3.11/site-packages/pandas/core/indexes/base.py:5877\u001b[0m, in \u001b[0;36mIndex._get_indexer_strict\u001b[0;34m(self, key, axis_name)\u001b[0m\n\u001b[1;32m   5874\u001b[0m \u001b[38;5;28;01melse\u001b[39;00m:\n\u001b[1;32m   5875\u001b[0m     keyarr, indexer, new_indexer \u001b[38;5;241m=\u001b[39m \u001b[38;5;28mself\u001b[39m\u001b[38;5;241m.\u001b[39m_reindex_non_unique(keyarr)\n\u001b[0;32m-> 5877\u001b[0m \u001b[38;5;28mself\u001b[39m\u001b[38;5;241m.\u001b[39m_raise_if_missing(keyarr, indexer, axis_name)\n\u001b[1;32m   5879\u001b[0m keyarr \u001b[38;5;241m=\u001b[39m \u001b[38;5;28mself\u001b[39m\u001b[38;5;241m.\u001b[39mtake(indexer)\n\u001b[1;32m   5880\u001b[0m \u001b[38;5;28;01mif\u001b[39;00m \u001b[38;5;28misinstance\u001b[39m(key, Index):\n\u001b[1;32m   5881\u001b[0m     \u001b[38;5;66;03m# GH 42790 - Preserve name from an Index\u001b[39;00m\n",
      "File \u001b[0;32m/Applications/anaconda3/envs/info2950/lib/python3.11/site-packages/pandas/core/indexes/base.py:5941\u001b[0m, in \u001b[0;36mIndex._raise_if_missing\u001b[0;34m(self, key, indexer, axis_name)\u001b[0m\n\u001b[1;32m   5938\u001b[0m     \u001b[38;5;28;01mraise\u001b[39;00m \u001b[38;5;167;01mKeyError\u001b[39;00m(\u001b[38;5;124mf\u001b[39m\u001b[38;5;124m\"\u001b[39m\u001b[38;5;124mNone of [\u001b[39m\u001b[38;5;132;01m{\u001b[39;00mkey\u001b[38;5;132;01m}\u001b[39;00m\u001b[38;5;124m] are in the [\u001b[39m\u001b[38;5;132;01m{\u001b[39;00maxis_name\u001b[38;5;132;01m}\u001b[39;00m\u001b[38;5;124m]\u001b[39m\u001b[38;5;124m\"\u001b[39m)\n\u001b[1;32m   5940\u001b[0m not_found \u001b[38;5;241m=\u001b[39m \u001b[38;5;28mlist\u001b[39m(ensure_index(key)[missing_mask\u001b[38;5;241m.\u001b[39mnonzero()[\u001b[38;5;241m0\u001b[39m]]\u001b[38;5;241m.\u001b[39munique())\n\u001b[0;32m-> 5941\u001b[0m \u001b[38;5;28;01mraise\u001b[39;00m \u001b[38;5;167;01mKeyError\u001b[39;00m(\u001b[38;5;124mf\u001b[39m\u001b[38;5;124m\"\u001b[39m\u001b[38;5;132;01m{\u001b[39;00mnot_found\u001b[38;5;132;01m}\u001b[39;00m\u001b[38;5;124m not in index\u001b[39m\u001b[38;5;124m\"\u001b[39m)\n",
      "\u001b[0;31mKeyError\u001b[0m: \"['Correct_Column_Name_2000', 'Correct_Column_Name_2001', 'Correct_Column_Name_2002', 'Correct_Column_Name_2003', 'Correct_Column_Name_2004', 'Correct_Column_Name_2005', 'Correct_Column_Name_2006', 'Correct_Column_Name_2007', 'Correct_Column_Name_2008', 'Correct_Column_Name_2009', 'Correct_Column_Name_2010', 'Correct_Column_Name_2011', 'Correct_Column_Name_2012', 'Correct_Column_Name_2013', 'Correct_Column_Name_2014', 'Correct_Column_Name_2015', 'Correct_Column_Name_2016', 'Correct_Column_Name_2017', 'Correct_Column_Name_2018', 'Correct_Column_Name_2019', 'Correct_Column_Name_2020', 'Correct_Column_Name_2021', 'Correct_Column_Name_2022'] not in index\""
     ]
    }
   ],
   "source": [
    "year_columns = [str(year) for year in range(2000, 2023)]\n",
    "\n",
    "# Update this line with the correct column names from your DataFrame\n",
    "ip_columns = ['Correct_Column_Name_' + year for year in year_columns]\n",
    "year_loan = ['Borrower\\'s Obligation'] + ip_columns\n",
    "\n",
    "# Creating a correlation matrix\n",
    "correlation_matrix = gdp_dbt_dev_df[year_loan].corr()\n",
    "\n",
    "# Creating the heatmap\n",
    "plt.figure(figsize=(12, 8))\n",
    "sns.heatmap(correlation_matrix, annot=True, cmap='coolwarm', linewidths=0.5)\n",
    "plt.title('Heatmap of Correlation Between Borrower\\'s Obligation and Intellectual Property Payments')\n",
    "plt.show()"
   ]
  },
  {
   "cell_type": "code",
   "execution_count": 42,
   "metadata": {},
   "outputs": [
    {
     "data": {
      "image/png": "[encoded data removed]",
      "text/plain": [
       "<Figure size 1200x600 with 1 Axes>"
      ]
     },
     "metadata": {},
     "output_type": "display_data"
    }
   ],
   "source": [
    "#plotting a line graph of the average GDP growth over the years\n",
    "#for developed vs developing countries\n",
    "plt.figure(figsize=(12,6))\n",
    "developed_df = gdp_dbt_dev_df[gdp_dbt_dev_df['developed'] == 1.0]\n",
    "developing_df = gdp_dbt_dev_df[gdp_dbt_dev_df['developed'] == 0.0]\n",
    "developed_df.loc[:, '2000':'2022'].mean().plot(label='Developed')\n",
    "developing_df.loc[:, '2000':'2022'].mean().plot(label='Developing')\n",
    "plt.title('Average GDP Over the Years: Developed vs Developing')\n",
    "plt.xlabel('Year')\n",
    "plt.ylabel('Average GDP')\n",
    "plt.legend()\n",
    "plt.grid(True)\n",
    "plt.show()"
   ]
  },
  {
   "cell_type": "code",
   "execution_count": 43,
   "metadata": {},
   "outputs": [
    {
     "data": {
      "image/png": "[encoded data removed]",
      "text/plain": [
       "<Figure size 1000x600 with 1 Axes>"
      ]
     },
     "metadata": {},
     "output_type": "display_data"
    }
   ],
   "source": [
    "plt.figure(figsize=(10,6))\n",
    "sns.scatterplot(data=gdp_dbt_dev_df, y='Borrower\\'s Obligation', x='2020',\n",
    "                hue='developed', palette=\"viridis\")\n",
    "plt.title('GDP (2020) vs Borrower\\'s Obligation')\n",
    "plt.ylabel('Borrower\\'s Obligation (Billions of $)')\n",
    "plt.xlabel('GDP for the Year 2020 (Billions of $)')\n",
    "plt.show()"
   ]
  },
  {
   "cell_type": "markdown",
   "metadata": {},
   "source": [
    "### Hypothesis 2: The Higher GDP a Country Has, The More Likely it is to Have a High Value for Intellectual Property Charges"
   ]
  },
  {
   "cell_type": "code",
   "execution_count": 55,
   "metadata": {},
   "outputs": [
    {
     "name": "stdout",
     "output_type": "stream",
     "text": [
      "   Country  Original Principal Amount  Cancelled Amount  Undisbursed Amount  \\\n",
      "0  Albania               2.032160e+09      1.402591e+08         746585590.2   \n",
      "1  Algeria               5.911830e+09      1.605315e+09                 0.0   \n",
      "\n",
      "   Disbursed Amount  Borrower's Obligation Country_Code  \\\n",
      "0      1.082344e+09            874013475.8          ALB   \n",
      "1      4.306515e+09                    0.0          DZA   \n",
      "\n",
      "                                         Series_Name     Series_Code  2000  \\\n",
      "0  Charges for the use of intellectual property, ...  BM.GSR.ROYL.CD   0.0   \n",
      "1  Charges for the use of intellectual property, ...  BM.GSR.ROYL.CD   0.0   \n",
      "\n",
      "   ...          2014          2015          2016          2017         2018  \\\n",
      "0  ...  2.188193e+07  2.457801e+07  2.316308e+07  1.313243e+07   26412466.5   \n",
      "1  ...  1.439974e+08  2.500106e+08  1.528979e+08  1.472687e+08  115089900.8   \n",
      "\n",
      "           2019          2020          2021          2022  developed  \n",
      "0  3.478422e+07  3.860932e+07  3.476372e+07  3.172757e+07        0.0  \n",
      "1  1.430987e+08  1.333927e+08  2.029873e+08  1.226772e+08        0.0  \n",
      "\n",
      "[2 rows x 33 columns]\n"
     ]
    }
   ],
   "source": [
    "ip_debt_csv = pd.read_csv(\"./Int_Prop_Debt_Combined.csv\")\n",
    "print(ip_debt_csv.head(2))"
   ]
  },
  {
   "cell_type": "code",
   "execution_count": 56,
   "metadata": {},
   "outputs": [
    {
     "name": "stdout",
     "output_type": "stream",
     "text": [
      "               Country  Original Principal Amount  Cancelled Amount  \\\n",
      "0              Albania               2.032160e+09      1.402591e+08   \n",
      "1              Algeria               5.911830e+09      1.605315e+09   \n",
      "2  Antigua and Barbuda               1.200000e+07      7.435746e+06   \n",
      "3              Armenia               1.224900e+09      4.430277e+07   \n",
      "4           Azerbaijan               3.479300e+09      5.324351e+08   \n",
      "\n",
      "   Undisbursed Amount  Disbursed Amount  Borrower's Obligation Country_Code  \\\n",
      "0         746585590.2      1.082344e+09           8.740135e+08          ALB   \n",
      "1                 0.0      4.306515e+09           0.000000e+00          DZA   \n",
      "2             51614.0      4.512640e+06           4.012867e+06          ATG   \n",
      "3         130159016.0      1.053062e+09           9.671751e+08          ARM   \n",
      "4         108026863.4      2.838838e+09           1.250364e+09          AZE   \n",
      "\n",
      "                                         Series_Name     Series_Code  \\\n",
      "0  Charges for the use of intellectual property, ...  BM.GSR.ROYL.CD   \n",
      "1  Charges for the use of intellectual property, ...  BM.GSR.ROYL.CD   \n",
      "2  Charges for the use of intellectual property, ...  BM.GSR.ROYL.CD   \n",
      "3  Charges for the use of intellectual property, ...  BM.GSR.ROYL.CD   \n",
      "4  Charges for the use of intellectual property, ...  BM.GSR.ROYL.CD   \n",
      "\n",
      "          2000  ...          2015          2016          2017          2018  \\\n",
      "0       0.0000  ...  2.457801e+07  2.316308e+07  1.313243e+07  2.641247e+07   \n",
      "1       0.0000  ...  2.500106e+08  1.528979e+08  1.472687e+08  1.150899e+08   \n",
      "2  288888.8889  ...  3.074427e+06  4.026739e+06  4.961232e+06  3.790929e+06   \n",
      "3       0.0000  ...  0.000000e+00  0.000000e+00  0.000000e+00  0.000000e+00   \n",
      "4       0.0000  ...  0.000000e+00  0.000000e+00  0.000000e+00  0.000000e+00   \n",
      "\n",
      "           2019          2020          2021          2022  developed  \\\n",
      "0  3.478422e+07  3.860932e+07  3.476372e+07  3.172757e+07        0.0   \n",
      "1  1.430987e+08  1.333927e+08  2.029873e+08  1.226772e+08        0.0   \n",
      "2  3.964437e+06  1.307833e+06  3.187710e+06  0.000000e+00        0.0   \n",
      "3  0.000000e+00  0.000000e+00  0.000000e+00  0.000000e+00        0.0   \n",
      "4  0.000000e+00  0.000000e+00  0.000000e+00  1.980870e+08        0.0   \n",
      "\n",
      "            avg  \n",
      "0  1.665194e+07  \n",
      "1  8.471479e+07  \n",
      "2  1.715519e+06  \n",
      "3  0.000000e+00  \n",
      "4  1.276065e+07  \n",
      "\n",
      "[5 rows x 34 columns]\n",
      "               Country  Original Principal Amount  Cancelled Amount  \\\n",
      "0              Albania               2.032160e+09      1.402591e+08   \n",
      "1              Armenia               1.224900e+09      4.430277e+07   \n",
      "2  Antigua and Barbuda               1.200000e+07      7.435746e+06   \n",
      "3           Azerbaijan               3.479300e+09      5.324351e+08   \n",
      "4              Burundi               4.800000e+06      0.000000e+00   \n",
      "\n",
      "   Undisbursed Amount  Disbursed Amount  Borrower's Obligation Country_Code  \\\n",
      "0         746585590.2      1.082344e+09           8.740135e+08          ALB   \n",
      "1         130159016.0      1.053062e+09           9.671751e+08          ARM   \n",
      "2             51614.0      4.512640e+06           4.012867e+06          ATG   \n",
      "3         108026863.4      2.838838e+09           1.250364e+09          AZE   \n",
      "4                 0.0      4.800000e+06           0.000000e+00          BDI   \n",
      "\n",
      "      Indicator_Name  Indicator_Code          2000  ...          2015  \\\n",
      "0  GDP (current US$)  NY.GDP.MKTP.CD  3.480355e+09  ...  1.138685e+10   \n",
      "1  GDP (current US$)  NY.GDP.MKTP.CD  1.911564e+09  ...  1.055334e+10   \n",
      "2  GDP (current US$)  NY.GDP.MKTP.CD  8.263704e+08  ...  1.336693e+09   \n",
      "3  GDP (current US$)  NY.GDP.MKTP.CD  5.272617e+09  ...  5.307624e+10   \n",
      "4  GDP (current US$)  NY.GDP.MKTP.CD  8.704861e+08  ...  3.104004e+09   \n",
      "\n",
      "           2016          2017          2018          2019          2020  \\\n",
      "0  1.186120e+10  1.301973e+10  1.515642e+10  1.540183e+10  1.516273e+10   \n",
      "1  1.054614e+10  1.152746e+10  1.245794e+10  1.361929e+10  1.264170e+10   \n",
      "2  1.436585e+09  1.467956e+09  1.604770e+09  1.675404e+09  1.416348e+09   \n",
      "3  3.786701e+10  4.086663e+10  4.711248e+10  4.817424e+10  4.269300e+10   \n",
      "4  2.644488e+09  2.723587e+09  2.667182e+09  2.576519e+09  2.649680e+09   \n",
      "\n",
      "           2021          2022  developed           avg  \n",
      "0  1.793057e+10  1.888210e+10        0.0  1.126265e+10  \n",
      "1  1.386141e+10  1.950278e+10        0.0  9.176261e+09  \n",
      "2  1.560519e+09  1.757604e+09        0.0  1.238369e+09  \n",
      "3  5.482541e+10  7.872106e+10        0.0  4.064661e+10  \n",
      "4  2.775799e+09  3.073415e+09        0.0  1.973301e+09  \n",
      "\n",
      "[5 rows x 34 columns]\n"
     ]
    }
   ],
   "source": [
    "data_columns = ['2000', '2001', '2002', '2003', '2004', '2005', '2006', '2007', '2008',\n",
    "       '2009', '2010', '2011', '2012', '2013', '2014', '2015', '2016', '2017',\n",
    "       '2018', '2019', '2020', '2021', '2022']\n",
    "\n",
    "ip_avg = ip_debt_csv[data_columns].mean(axis = 1)\n",
    "ip_debt_csv['avg'] = ip_avg\n",
    "print(ip_debt_csv.head())\n",
    "\n",
    "gdp_avg = gdp_debt_csv[data_columns].mean(axis = 1)\n",
    "gdp_debt_csv['avg'] = gdp_avg\n",
    "print(gdp_debt_csv.head())"
   ]
  },
  {
   "cell_type": "code",
   "execution_count": 57,
   "metadata": {},
   "outputs": [
    {
     "ename": "NameError",
     "evalue": "name 'sm' is not defined",
     "output_type": "error",
     "traceback": [
      "\u001b[0;31m---------------------------------------------------------------------------\u001b[0m",
      "\u001b[0;31mNameError\u001b[0m                                 Traceback (most recent call last)",
      "Cell \u001b[0;32mIn[57], line 4\u001b[0m\n\u001b[1;32m      2\u001b[0m y \u001b[38;5;241m=\u001b[39m ip_avg\n\u001b[1;32m      3\u001b[0m X \u001b[38;5;241m=\u001b[39m gdp_debt_csv[[\u001b[38;5;124m'\u001b[39m\u001b[38;5;124mavg\u001b[39m\u001b[38;5;124m'\u001b[39m]]\n\u001b[0;32m----> 4\u001b[0m X_sm \u001b[38;5;241m=\u001b[39m sm\u001b[38;5;241m.\u001b[39madd_constant(X)\n\u001b[1;32m      5\u001b[0m gdp_ip_model \u001b[38;5;241m=\u001b[39m sm\u001b[38;5;241m.\u001b[39mOLS(y,X_sm)\u001b[38;5;241m.\u001b[39mfit()\n\u001b[1;32m      6\u001b[0m \u001b[38;5;28mprint\u001b[39m(gdp_ip_model\u001b[38;5;241m.\u001b[39msummary())\n",
      "\u001b[0;31mNameError\u001b[0m: name 'sm' is not defined"
     ]
    }
   ],
   "source": [
    "#fitting model and looking at coefficient\n",
    "y = ip_avg\n",
    "X = gdp_debt_csv[['avg']]\n",
    "X_sm = sm.add_constant(X)\n",
    "gdp_ip_model = sm.OLS(y,X_sm).fit()\n",
    "print(gdp_ip_model.summary())"
   ]
  },
  {
   "cell_type": "markdown",
   "metadata": {},
   "source": [
    "In this case, the value for the coefficient of the GDP variable in the linear regression is 0.005006.  This means that for every dollar change in the amount of money for a country's Gross Domestic Product is, we can expect the country's Intellectual Property Charges to increase by $0.0005.  This is an extremely small amount, but because our GDP and Intellectual Property Charge values are in the Billions, it does show an positive correlation between GDP and Intellectual Property Charge.  As a result, our hypothesis was true to an extent."
   ]
  },
  {
   "cell_type": "markdown",
   "metadata": {},
   "source": [
    "### Looking at Specific Years' Impacts on Intellectual Property Charges for Developed vs Developing Countries:"
   ]
  },
  {
   "cell_type": "markdown",
   "metadata": {},
   "source": [
    "We are aware that there are different events that occured each year since the beginning of the 21st century, including wars, economic development, pandemics, etc that could have had impacts on the intellectual property charges for developed and developing countries.  We want to analyze whether the amount of years since 2000 has a significant impact on intellectual property charges for both developed and developing countries."
   ]
  },
  {
   "cell_type": "markdown",
   "metadata": {},
   "source": [
    "First, we will separate our intellectual property dataframe into developed and developing country dataframes, only with the relevant years selected."
   ]
  },
  {
   "cell_type": "code",
   "execution_count": 58,
   "metadata": {},
   "outputs": [
    {
     "name": "stderr",
     "output_type": "stream",
     "text": [
      "/var/folders/k5/h8qrsbz11vg1v9bc5g_43krr0000gn/T/ipykernel_570/2794715765.py:10: SettingWithCopyWarning: \n",
      "A value is trying to be set on a copy of a slice from a DataFrame.\n",
      "Try using .loc[row_indexer,col_indexer] = value instead\n",
      "\n",
      "See the caveats in the documentation: https://pandas.pydata.org/pandas-docs/stable/user_guide/indexing.html#returning-a-view-versus-a-copy\n",
      "  ip_years_data['gdp_average'] = gdp_avg\n"
     ]
    }
   ],
   "source": [
    "data_columns = ['2000', '2001', '2002', '2003', '2004', '2005', '2006', '2007', '2008',\n",
    "       '2009', '2010', '2011', '2012', '2013', '2014', '2015', '2016', '2017',\n",
    "       '2018', '2019', '2020', '2021', '2022']\n",
    "\n",
    "data_columns_with_dev = ['2000', '2001', '2002', '2003', '2004', '2005', '2006', '2007', '2008',\n",
    "       '2009', '2010', '2011', '2012', '2013', '2014', '2015', '2016', '2017',\n",
    "       '2018', '2019', '2020', '2021', '2022', 'developed']\n",
    "\n",
    "ip_years_data = ip_debt_csv[data_columns_with_dev]\n",
    "ip_years_data['gdp_average'] = gdp_avg\n",
    "ip_years_data.head()\n",
    "\n",
    "ip_years_data_developed = duckdb.sql('SELECT * FROM ip_years_data WHERE developed = 1.0').df()\n",
    "ip_years_data_developing = duckdb.sql('SELECT * FROM ip_years_data WHERE developed = 0.0').df()\n",
    "\n"
   ]
  },
  {
   "cell_type": "markdown",
   "metadata": {},
   "source": [
    "Now, we will average each year's intellectual property charges for all countries, for both developed and developing countries based on the 'developed' binary variable's value, and plot average intellectual property charges for developed and developing countries over the years on a line plot."
   ]
  },
  {
   "cell_type": "code",
   "execution_count": null,
   "metadata": {},
   "outputs": [],
   "source": [
    "plt.figure(figsize=(12,6))\n",
    "ip_years_data_developed.loc[:, '2000':'2022'].mean().plot(label='Developed')\n",
    "ip_years_data_developing.loc[:, '2000':'2022'].mean().plot(label='Developing')\n",
    "plt.title('Average Intellectual Property Charges Over the Years: Developed'\n",
    "          +' vs Developing')\n",
    "plt.xlabel('Year')\n",
    "plt.ylabel('Average IP Charge (Billions of $)')\n",
    "plt.legend()\n",
    "plt.grid(True)\n",
    "plt.show()"
   ]
  },
  {
   "cell_type": "markdown",
   "metadata": {},
   "source": [
    "From the line plot, we can see that there is an overall positive trend for both developing and developed countries' intellectual properties as years since 2000 increases -- there is, however a lot of local variation (especially for developed countries) and the increase in intellectual property charges is much larger in magnitude for developed countries than developing countries.  As a result, exploring individual years impacts, as well as the time since the year 2000's impacts on intellectual property charges might be insightful."
   ]
  },
  {
   "cell_type": "markdown",
   "metadata": {},
   "source": [
    "#### Looking at Year's Impact on Intellectual Property Charges For Both Developing and Developed Countries"
   ]
  },
  {
   "cell_type": "markdown",
   "metadata": {},
   "source": [
    "First, we want to create a dependent and independent variable set for both developed and developing countries -- the independent variable (x) will be 'number of years since 2000' and the dependent variable (y) will be 'average intellectual property charge' for all countries in the developed/developing category for that year."
   ]
  },
  {
   "cell_type": "code",
   "execution_count": null,
   "metadata": {},
   "outputs": [],
   "source": [
    "#only data containing ip charges and years for developing countries\n",
    "ip_df_deving_only_years = ip_years_data_developing.loc[:, '2000':'2022']\n",
    "\n",
    "#only data containing ip charges and years for developing countries\n",
    "ip_df_deved_only_years =ip_years_data_developed.loc[:, '2000':'2022']\n",
    "\n",
    "#averages for both dataframes\n",
    "ip_avg_deving = ip_df_deving_only_years.mean()\n",
    "ip_avg_deved = ip_df_deved_only_years.mean()\n",
    "\n",
    "#resetting index column to be 0-22 (to match years since 2000)\n",
    "ip_avg_deving = ip_avg_deving.reset_index(drop=True)\n",
    "ip_avg_deved = ip_avg_deved.reset_index(drop=True)\n",
    "\n",
    "#creating an array with values [0,22] to represent years since 2000\n",
    "years_since_2000 = pd.DataFrame(np.arange(0,23))\n",
    "years_since_2000 = years_since_2000.rename(columns={0 : \"YearsSince2000\"})"
   ]
  },
  {
   "cell_type": "markdown",
   "metadata": {},
   "source": [
    "Now, we will conduct a linear regression for both developing and developed countries to see if Number of Years Since 2000 has a significant impact on either category's Intellectual Property Charges."
   ]
  },
  {
   "cell_type": "code",
   "execution_count": 60,
   "metadata": {},
   "outputs": [
    {
     "ename": "NameError",
     "evalue": "name 'ip_avg_deved' is not defined",
     "output_type": "error",
     "traceback": [
      "\u001b[0;31m---------------------------------------------------------------------------\u001b[0m",
      "\u001b[0;31mNameError\u001b[0m                                 Traceback (most recent call last)",
      "Cell \u001b[0;32mIn[60], line 2\u001b[0m\n\u001b[1;32m      1\u001b[0m \u001b[38;5;66;03m#OLS for Developed Countries\u001b[39;00m\n\u001b[0;32m----> 2\u001b[0m y \u001b[38;5;241m=\u001b[39m ip_avg_deved\n\u001b[1;32m      3\u001b[0m X \u001b[38;5;241m=\u001b[39m years_since_2000\n\u001b[1;32m      4\u001b[0m X_sm \u001b[38;5;241m=\u001b[39m sm\u001b[38;5;241m.\u001b[39madd_constant(X)\n",
      "\u001b[0;31mNameError\u001b[0m: name 'ip_avg_deved' is not defined"
     ]
    }
   ],
   "source": [
    "#OLS for Developed Countries\n",
    "y = ip_avg_deved\n",
    "X = years_since_2000\n",
    "X_sm = sm.add_constant(X)\n",
    "ip_years_model_deved = sm.OLS(y,X_sm).fit()\n",
    "print(\"Developed Country Summary:\")\n",
    "print(ip_years_model_deved.summary())"
   ]
  },
  {
   "cell_type": "code",
   "execution_count": 61,
   "metadata": {},
   "outputs": [
    {
     "ename": "NameError",
     "evalue": "name 'ip_avg_deving' is not defined",
     "output_type": "error",
     "traceback": [
      "\u001b[0;31m---------------------------------------------------------------------------\u001b[0m",
      "\u001b[0;31mNameError\u001b[0m                                 Traceback (most recent call last)",
      "Cell \u001b[0;32mIn[61], line 2\u001b[0m\n\u001b[1;32m      1\u001b[0m \u001b[38;5;66;03m#OLS for Developing Countries\u001b[39;00m\n\u001b[0;32m----> 2\u001b[0m y \u001b[38;5;241m=\u001b[39m ip_avg_deving\n\u001b[1;32m      3\u001b[0m X \u001b[38;5;241m=\u001b[39m years_since_2000\n\u001b[1;32m      4\u001b[0m X_sm \u001b[38;5;241m=\u001b[39m sm\u001b[38;5;241m.\u001b[39madd_constant(X)\n",
      "\u001b[0;31mNameError\u001b[0m: name 'ip_avg_deving' is not defined"
     ]
    }
   ],
   "source": [
    "#OLS for Developing Countries\n",
    "y = ip_avg_deving\n",
    "X = years_since_2000\n",
    "X_sm = sm.add_constant(X)\n",
    "ip_years_model_deving = sm.OLS(y,X_sm).fit()\n",
    "print(\"Developing Country Summary:\")\n",
    "print(ip_years_model_deving.summary())"
   ]
  },
  {
   "cell_type": "markdown",
   "metadata": {},
   "source": [
    "For Developed Countries, we can see from our summary that the coefficient for the 'Years Since 2000' variable is 2.629e+08, which means that for every additional year since 2000, we can expect the Intellectual Property Charges for Developed Countries on average to increase by about $263 Million.  The p-value for this coefficient is less than 0.005, meaning we can consider this statistically significant.\n",
    "\n",
    "For Developing Countries, we can see from our summary that the coefficient for the 'Years Since 2000' variable is 4.282e+07, which means that for every additional year since 2000, we can expect the Intellectual Property Charges for Developing Countries on average to increase by about $43 Million.  The p-value for this coefficient is less than 0.005, meaning we can consider this statistically significant.\n",
    "\n",
    "From this regression (which we will explore more in Evaluation of Significance + Interpretations), we see that an increase in the year since 2000 most likely positively influences Intellectual Property Charges for both developed and developing countries, and influences developed countries with a greater magnitude."
   ]
  },
  {
   "cell_type": "markdown",
   "metadata": {},
   "source": [
    "## Evaluation of Significance\n",
    "\n",
    "Hypothesis 1: \n",
    "The logistic regression derived indicates that the coefficient for 'Borrower's Obligation' is very close to 0 ( around -1.287e-10 ), and the odds ratio is close to 1. The odds ratio is calculated by e to the negative coefficient (e ^ -1.287e-10 ). This suggests that the odds of a country being developed does not significantly or necessarily change with a one dollar (USD) increase in borrower’s obligation. \n",
    "\n",
    "Hypothesis 2: \n",
    "The linear regression  0.0005. Because this is a positive number we know that there is a positive relationship between Intellectual Property Changes and GDP. It is important to acknowledge that the number is extremely small meaning that there is a weak relationship between the numbers. In other words it means that for an increase in Intellectual property there might be an increase in GDP but it will not have substantial impact. As a result, it is not significantly changing. \n"
   ]
  },
  {
   "cell_type": "markdown",
   "metadata": {},
   "source": [
    "******Limitations of\n",
    "significance metrics\n",
    "are acknowledged"
   ]
  },
  {
   "cell_type": "markdown",
   "metadata": {},
   "source": [
    "## Intepretation and Conclusions\n",
    "\n",
    "- Interpretation: \n",
    "\n",
    "Hypothesis 1: \n",
    "The purpose of the logistic regression was to determine whether a country’s status of being developed or developing could be predicted based on the country’s borrower's obligation to the World Bank. The coefficient was -2.16015716e-10. Therefore, the odds ratio is approximately 1 as explained previously. This means that for every 1 (measured in USD dollars) increase in borrower’s obligation, the probability of a country being developed changes by a small amount. Thus, this tells us that a country’s borrower’s obligation is not a strong enough indicator of whether a country is developed or not. \n",
    "\n",
    "Hypothesis 2: \n",
    "\n",
    "The purpose of the linear regression was to determine the relationship between a country’s GDP (Gross Domestic Product measured in USD dollars) and the country’s intellectual property changes (measured in USD dollars). The coefficient was 0.0005. This means that for every 1 increase in GDP (in USD dollars), the Intellectual Property Charges are predicted to increase by 0.0005 units. This is a positive number and does indicate a relationship between the values, but it is still a very small number. This means that there might not be as much of a change in the Intellectual Property Changes as we would have expected. \n",
    "\n",
    "- Conclusion:\n",
    "\n",
    "The analysis conducted above looks at data in an economic context and whether our initial hypothesis showed significance as we expected. We have now determined that the logistic regression did not show a strong relationship between Borrower’s obligation and the country’s developed or developing status. This was against our initial hypothesis. The linear relationship showed statistical significance between Intellectual Property Changes and GDP but because of how small the number is we determined that it had a small effect on the dependent variable in the scenario. As a result, both of these hypotheses emphasized the need for statistical analysis when determining coefficients and regression results. We hope that with more variables and further analysis we will be able to craft models and determine predictors for different aspects of a country’s economic landscape. \n"
   ]
  },
  {
   "cell_type": "markdown",
   "metadata": {},
   "source": [
    "## Limitations\n",
    "Below are the key limitations that we found:\n",
    "\n",
    "1. The data sets used cover GDP, World Bank debt, intellectual property transactions, and a list of developing and developed countries. While comprehensive, they might not account for all factors influencing a country's economic health. Variables like political stability, demographic changes, global market trends, and internal economic policies are not considered but can significantly impact GDP and debt levels.\n",
    "\n",
    "2. The focus on data from 2000 to 2022 might miss longer-term trends and historical contexts that could influence current economic conditions. Economic policies and global events prior to 2000 could have lasting impacts not captured in this analysis.\n",
    "\n",
    "3. The use of a binary classification (developed vs. developing) oversimplifies the spectrum of economic development. Many countries do not fit neatly into these categories, and such a binary view might overlook important nuances.\n",
    "\n",
    "4. The analysis, primarily based on regression models, can indicate correlations but not necessarily causality. For instance, while there might be a relationship between GDP and intellectual property charges, this does not imply that one causes the other.\n",
    "\n",
    "5. Given the diverse nature of economies and the unique circumstances of each country, the findings from this analysis may not be universally applicable. What holds true for one set of countries might not apply to others.\n",
    "\n",
    "6. The logistic and linear regression models used have their own limitations. For instance, logistic regression might not capture complex, non-linear relationships. Similarly, linear regression assumptions (like homoscedasticity, normality of residuals) might not hold true for all the variables analyzed.\n",
    "\n",
    "7. The datasets are secondary sources compiled by different organizations, which might have varying standards of data collection and reporting. Also, not all countries might have reported all the required data, leading to potential biases or inaccuracies in the analysis.\n",
    "\n",
    "8. The analysis is quantitative and may not fully account for qualitative aspects like the nature of intellectual property rights enforcement, the terms of World Bank loans, or the specific economic policies of countries.\n",
    "\n",
    "9. While the analysis might show statistical significance (like a small but non-zero correlation between GDP and intellectual property charges), the practical significance of these findings (how they translate into real-world implications) needs careful interpretation.\n",
    "\n",
    "10. There were a few missing data that would have ‘..’ instead of 0 and NaN. As a result, we had to fill in the spaces with NaN to account for the lack of data."
   ]
  },
  {
   "cell_type": "markdown",
   "metadata": {},
   "source": [
    "Priority questions from Datasheets for Datasets:\n",
    "\n",
    "● What are the observations (rows) and the attributes (columns)?\n",
    "\n",
    "● Why was this dataset created?\n",
    "\n",
    "● Who funded the creation of the dataset?\n",
    "\n",
    "● What processes might have influenced what data was observed and recorded and what was not?\n",
    "\n",
    "● What preprocessing was done, and how did the data come to be in the form that you are using?\n",
    "\n",
    "● If people are involved, were they aware of the data collection and if so, what purpose did they expect the data to be used for?\n",
    "\n",
    "● Where can your raw source data be found, if applicable? Provide a link to the raw data (hosted on Github, in a Cornell Google Drive or Cornell Box).\n"
   ]
  },
  {
   "cell_type": "markdown",
   "metadata": {},
   "source": []
  }
 ],
 "metadata": {
  "kernelspec": {
   "display_name": "Python 3 (ipykernel)",
   "language": "python",
   "name": "python3"
  },
  "language_info": {
   "codemirror_mode": {
    "name": "ipython",
    "version": 3
   },
   "file_extension": ".py",
   "mimetype": "text/x-python",
   "name": "python",
   "nbconvert_exporter": "python",
   "pygments_lexer": "ipython3",
   "version": "3.11.4"
  }
 },
 "nbformat": 4,
 "nbformat_minor": 2
}

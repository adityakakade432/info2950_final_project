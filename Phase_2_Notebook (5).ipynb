{
 "cells": [
  {
   "cell_type": "markdown",
   "id": "de7d4b69",
   "metadata": {},
   "source": [
    "# Final Project Phase 2 Notebook\n",
    "\n",
    "Aditya Kakade (apk67), Johanna Jung (jj425), Maaya Kanvar (mnk55)"
   ]
  },
  {
   "cell_type": "markdown",
   "id": "4dd86ecc",
   "metadata": {},
   "source": [
    "### Research Question"
   ]
  },
  {
   "cell_type": "markdown",
   "id": "56bf771b",
   "metadata": {},
   "source": [
    "How does the level of debt owed to the World Bank, intellectual property, and balance of payments correlate with the GDP growth rates of countries, and are there distinguishable patterns or differences in this relationship when comparing developed and developing nations?\n"
   ]
  },
  {
   "cell_type": "markdown",
   "id": "83d68700",
   "metadata": {},
   "source": [
    "### Data Overview"
   ]
  },
  {
   "cell_type": "markdown",
   "id": "389f27bd",
   "metadata": {},
   "source": [
    "We have four data tables for this phase: The GDP data for countries around the world, Loans/debt owed to the World Bank by countries, a dataset containing a list of developed countries (as classified biy the UN), and the Intellectual Property of countries for years 2000 to 2022.\n",
    "\n",
    "The GDP Dataset details the gross domestic product for individual countries across a set of years. Specifically, the dataset contains years from 1960 to 2022 with the respective GDPs - in USD dollars - for 267 countries around the world.\n",
    "\n",
    "The loans/debt dataset discusses a given amount of money loaned to a country from the World Bank and what how that money has been handled since. This particular dataset contains 148 countries and their original principal amount,canceled amount, undisbursed amount, disbursed amount, and borrower's obligation.\n",
    "\n",
    "For the intellectual property dataset it pertains to transactions between residents and non-residents concerning the authorized utilization of intellectual property rights. This encompasses rights like patents, trademarks, copyrights, industrial designs, trade secrets, and franchises. Additionally, it covers the usage of original productions or prototypes, which include copyrights on literature, software, films, and audio recordings, as well as associated rights for live events and various broadcast methods. The monetary values provided in the dataset are presented in contemporary U.S. dollars (World Bank, 2023). \n",
    "\n",
    "There is also a datset containing developed countries based on the United Nations classification. This is going to be used to compare if there are any patterns or trends with the dependent variables discussed previously and developing and developed nations.\n",
    "\n",
    "Link to balance of payments of countries owed to World Bank: https://finances.worldbank.org/Loans-and-Credits/IBRD-Country-wise-Loan-summary/5xqk-t59j\n",
    "\n",
    "Link to intellectual property: https://data.worldbank.org/indicator/BM.GSR.ROYL.CD?locations=SV\n",
    "\n",
    "Link to GDP: https://data.worldbank.org/indicator/NY.GDP.MKTP.CD?end=2022&start=2022&view=bar\n",
    "\n",
    "Link to Developed Countries Dataset: https://worldpopulationreview.com/country-rankings/developed-countries\n"
   ]
  },
  {
   "cell_type": "markdown",
   "id": "a2be99d6",
   "metadata": {},
   "source": [
    "### Data Collection & Cleaning"
   ]
  },
  {
   "cell_type": "markdown",
   "id": "082e007d",
   "metadata": {},
   "source": [
    "First, we will import all of the necessary libraries and packages into our notebook"
   ]
  },
  {
   "cell_type": "code",
   "execution_count": 86,
   "id": "f5b4eef3",
   "metadata": {},
   "outputs": [],
   "source": [
    "import pandas as pd\n",
    "import numpy as np\n",
    "import matplotlib.pyplot as plt\n",
    "import seaborn as sns\n",
    "import duckdb as duckdb"
   ]
  },
  {
   "cell_type": "markdown",
   "id": "041d866a",
   "metadata": {},
   "source": [
    "Here we are reading in all of our csv files as dataframes.  We have four files:\n",
    "1) A CSV file representing the amount of money that countries were paid for their intellectual property for years from 1960 - 2022\n",
    "2) A CSV file representing the GDP of countries for years from 1960 - 2022\n",
    "3) A CSV file representing various loan statistics including current balance and inital amount regarding countries' debt to the World Bank\n",
    "4) A CSV file containing all developed countries as classified by the UN, and their Human Development Indexes for 2021 and 2022\n",
    "\n",
    "CSV files 1, 2, and 3 are all from the World Bank, and CSV file 4 is from the World Population Review.\n",
    "\n",
    "*In order to import the GDP_Table.csv file, we needed to manually delete rows 1-4, as they had headers and titles that were interfering with panda's ability to parse the file."
   ]
  },
  {
   "cell_type": "code",
   "execution_count": 87,
   "id": "c7d79e3f",
   "metadata": {},
   "outputs": [],
   "source": [
    "int_property_df = pd.read_csv(\"Intellectual_Property_Table.csv\")\n",
    "gdp_df = pd.read_csv(\"GDP_Table.csv\", delimiter = \",\")\n",
    "debt_df = pd.read_csv(\"IBRD_Country-wise_Loan_summary.csv\")\n",
    "developed_countries_df = pd.read_csv(\"developed-countries-2023.csv\")\n"
   ]
  },
  {
   "cell_type": "markdown",
   "id": "71d0c1bb",
   "metadata": {},
   "source": [
    "We now look at the shapes of all of our dataframes.  We know that all of our data is heavily based on the country/code -- printing the dataframe's shapes helped us see that the Intellectual Property, GDP, and Debt dataframes had different row amounts. Knowing there are 195 countries, this means that for the Debt dataframe, not all countries have debt data, and for the IP and GDP dataframes, world regions may also be included in addition to just countries as table entries.  This will come into play later in the data cleaning, to ensure we are able to do analysis using all of our variables."
   ]
  },
  {
   "cell_type": "code",
   "execution_count": 88,
   "id": "e586f647",
   "metadata": {},
   "outputs": [
    {
     "name": "stdout",
     "output_type": "stream",
     "text": [
      "Intellectual Property dataframe shape(271, 67)\n",
      "GDP dataframe shape(266, 67)\n",
      "Debt dataframe shape(147, 6)\n",
      "Developed Countries dataframe shape(66, 3)\n"
     ]
    }
   ],
   "source": [
    "print(\"Intellectual Property dataframe shape\" + str(int_property_df.shape))\n",
    "print(\"GDP dataframe shape\" + str(gdp_df.shape))\n",
    "print(\"Debt dataframe shape\" + str(debt_df.shape))\n",
    "print(\"Developed Countries dataframe shape\" + str(developed_countries_df.shape))\n"
   ]
  },
  {
   "cell_type": "markdown",
   "id": "b083b5e3",
   "metadata": {},
   "source": [
    "In our analysis, we decided that we do not want to consider years before 2000 due to large changes that were happening due to world events such as conflict and large changes in technology.  We want to only consider years after 1999 because our data concerning countries' debt to the World Bank is current, meaning modern times' gdp and debt data will likely be more accurate.\n",
    "\n",
    "To do this, we put all of our unwanted years in an array, and used this array to drop them from both the GDP dataframe and the Intellectual Property dataframe.  We then saved these filtered dataframes as new csv's after making sure the columns aligned with our expectations."
   ]
  },
  {
   "cell_type": "code",
   "execution_count": 89,
   "id": "818b8b9d",
   "metadata": {},
   "outputs": [
    {
     "name": "stdout",
     "output_type": "stream",
     "text": [
      "New GDP DF Columns:Index(['Country_Name', 'Country_Code', 'Indicator_Name', 'Indicator_Code',\n",
      "       '2000', '2001', '2002', '2003', '2004', '2005', '2006', '2007', '2008',\n",
      "       '2009', '2010', '2011', '2012', '2013', '2014', '2015', '2016', '2017',\n",
      "       '2018', '2019', '2020', '2021', '2022'],\n",
      "      dtype='object')\n",
      "New Intellectual Property DF Columns:Index(['Country_Name', 'Country_Code', 'Series_Name', 'Series_Code', '2000',\n",
      "       '2001', '2002', '2003', '2004', '2005', '2006', '2007', '2008', '2009',\n",
      "       '2010', '2011', '2012', '2013', '2014', '2015', '2016', '2017', '2018',\n",
      "       '2019', '2020', '2021', '2022'],\n",
      "      dtype='object')\n"
     ]
    }
   ],
   "source": [
    "#years we do not want to consider\n",
    "unwanted_years = ['1960', '1961', '1962', '1963', '1964', '1965', '1966', '1967', '1968',\n",
    "       '1969', '1970', '1971', '1972', '1973', '1974', '1975', '1976', '1977',\n",
    "       '1978', '1979', '1980', '1981', '1982', '1983', '1984', '1985', '1986',\n",
    "       '1987', '1988', '1989', '1990', '1991', '1992', '1993', '1994', '1995',\n",
    "       '1996', '1997', '1998', '1999']\n",
    "\n",
    "#reducing GDP dataframe, saving to new csv\n",
    "filtered_gdp_df = gdp_df.drop(columns=unwanted_years)\n",
    "print(\"New GDP DF Columns:\" + str(filtered_gdp_df.columns))\n",
    "\n",
    "#saving to new csv file\n",
    "filtered_gdp_df.to_csv(\"Filtered_GDP.csv\", index=False)\n",
    "\n",
    "#reducing Intellectual Property dataframe, saving to new csv\n",
    "filtered_int_prop_df = int_property_df.drop(columns=unwanted_years)\n",
    "print(\"New Intellectual Property DF Columns:\" + str(filtered_int_prop_df.columns))\n",
    "\n",
    "#saving to new csv file\n",
    "filtered_int_prop_df.to_csv(\"Filtered_Int_Prop.csv\", index=False)\n"
   ]
  },
  {
   "cell_type": "markdown",
   "id": "00104b74",
   "metadata": {},
   "source": [
    "For the developed countries CSV, we only need the country names and whether they are developed or not.  Since all the countries in the CSV are developed, we can simply drop one of the year colulmns containint the human development index value, and fill the other one with ones to represent a binary variable where 1 = developed and 0 = not developed."
   ]
  },
  {
   "cell_type": "code",
   "execution_count": 90,
   "id": "e9da4f99",
   "metadata": {},
   "outputs": [
    {
     "data": {
      "text/html": [
       "<div>\n",
       "<style scoped>\n",
       "    .dataframe tbody tr th:only-of-type {\n",
       "        vertical-align: middle;\n",
       "    }\n",
       "\n",
       "    .dataframe tbody tr th {\n",
       "        vertical-align: top;\n",
       "    }\n",
       "\n",
       "    .dataframe thead th {\n",
       "        text-align: right;\n",
       "    }\n",
       "</style>\n",
       "<table border=\"1\" class=\"dataframe\">\n",
       "  <thead>\n",
       "    <tr style=\"text-align: right;\">\n",
       "      <th></th>\n",
       "      <th>country</th>\n",
       "      <th>developed</th>\n",
       "    </tr>\n",
       "  </thead>\n",
       "  <tbody>\n",
       "    <tr>\n",
       "      <th>0</th>\n",
       "      <td>Switzerland</td>\n",
       "      <td>1</td>\n",
       "    </tr>\n",
       "    <tr>\n",
       "      <th>1</th>\n",
       "      <td>Norway</td>\n",
       "      <td>1</td>\n",
       "    </tr>\n",
       "    <tr>\n",
       "      <th>2</th>\n",
       "      <td>Iceland</td>\n",
       "      <td>1</td>\n",
       "    </tr>\n",
       "    <tr>\n",
       "      <th>3</th>\n",
       "      <td>Hong Kong</td>\n",
       "      <td>1</td>\n",
       "    </tr>\n",
       "    <tr>\n",
       "      <th>4</th>\n",
       "      <td>Australia</td>\n",
       "      <td>1</td>\n",
       "    </tr>\n",
       "    <tr>\n",
       "      <th>5</th>\n",
       "      <td>Denmark</td>\n",
       "      <td>1</td>\n",
       "    </tr>\n",
       "    <tr>\n",
       "      <th>6</th>\n",
       "      <td>Sweden</td>\n",
       "      <td>1</td>\n",
       "    </tr>\n",
       "    <tr>\n",
       "      <th>7</th>\n",
       "      <td>Ireland</td>\n",
       "      <td>1</td>\n",
       "    </tr>\n",
       "    <tr>\n",
       "      <th>8</th>\n",
       "      <td>Germany</td>\n",
       "      <td>1</td>\n",
       "    </tr>\n",
       "    <tr>\n",
       "      <th>9</th>\n",
       "      <td>Netherlands</td>\n",
       "      <td>1</td>\n",
       "    </tr>\n",
       "  </tbody>\n",
       "</table>\n",
       "</div>"
      ],
      "text/plain": [
       "       country  developed\n",
       "0  Switzerland          1\n",
       "1       Norway          1\n",
       "2      Iceland          1\n",
       "3    Hong Kong          1\n",
       "4    Australia          1\n",
       "5      Denmark          1\n",
       "6       Sweden          1\n",
       "7      Ireland          1\n",
       "8      Germany          1\n",
       "9  Netherlands          1"
      ]
     },
     "execution_count": 90,
     "metadata": {},
     "output_type": "execute_result"
    }
   ],
   "source": [
    "#dropping year columns containing HDI values\n",
    "developed_countries_df = developed_countries_df.drop(columns = ['Hdi2021','Hdi2020'])\n",
    "\n",
    "#adding column of all ones\n",
    "developed_countries_df['developed'] = 1\n",
    "\n",
    "developed_countries_df.head(10)\n"
   ]
  },
  {
   "cell_type": "markdown",
   "id": "f4eed775",
   "metadata": {},
   "source": [
    "We want to check the datatypes of our columns in each of our dataframes, to ensure that they are satisfactory for later analysis and comparison."
   ]
  },
  {
   "cell_type": "code",
   "execution_count": 91,
   "id": "755409ac",
   "metadata": {},
   "outputs": [
    {
     "name": "stdout",
     "output_type": "stream",
     "text": [
      "GDP df datatypes\n",
      "Country_Name       object\n",
      "Country_Code       object\n",
      "Indicator_Name     object\n",
      "Indicator_Code     object\n",
      "2000              float64\n",
      "2001              float64\n",
      "2002              float64\n",
      "2003              float64\n",
      "2004              float64\n",
      "2005              float64\n",
      "2006              float64\n",
      "2007              float64\n",
      "2008              float64\n",
      "2009              float64\n",
      "2010              float64\n",
      "2011              float64\n",
      "2012              float64\n",
      "2013              float64\n",
      "2014              float64\n",
      "2015              float64\n",
      "2016              float64\n",
      "2017              float64\n",
      "2018              float64\n",
      "2019              float64\n",
      "2020              float64\n",
      "2021              float64\n",
      "2022              float64\n",
      "dtype: object\n",
      "Intellectual Property df datatypes\n",
      "Country_Name    object\n",
      "Country_Code    object\n",
      "Series_Name     object\n",
      "Series_Code     object\n",
      "2000            object\n",
      "2001            object\n",
      "2002            object\n",
      "2003            object\n",
      "2004            object\n",
      "2005            object\n",
      "2006            object\n",
      "2007            object\n",
      "2008            object\n",
      "2009            object\n",
      "2010            object\n",
      "2011            object\n",
      "2012            object\n",
      "2013            object\n",
      "2014            object\n",
      "2015            object\n",
      "2016            object\n",
      "2017            object\n",
      "2018            object\n",
      "2019            object\n",
      "2020            object\n",
      "2021            object\n",
      "2022            object\n",
      "dtype: object\n",
      "Debt df datatypes\n",
      "Country                       object\n",
      "Original Principal Amount    float64\n",
      "Cancelled Amount             float64\n",
      "Undisbursed Amount           float64\n",
      "Disbursed Amount             float64\n",
      "Borrower's Obligation        float64\n",
      "dtype: object\n",
      "Developed Countries datatypes\n",
      "country      object\n",
      "developed     int64\n",
      "dtype: object\n"
     ]
    }
   ],
   "source": [
    "print(\"GDP df datatypes\\n\" + str(filtered_gdp_df.dtypes))\n",
    "print(\"Intellectual Property df datatypes\\n\" + str(filtered_int_prop_df.dtypes))\n",
    "print(\"Debt df datatypes\\n\" + str(debt_df.dtypes))\n",
    "print(\"Developed Countries datatypes\\n\" + str(developed_countries_df.dtypes))"
   ]
  },
  {
   "cell_type": "markdown",
   "id": "69051fce",
   "metadata": {},
   "source": [
    "Since all of the datatypes look good -- year columns containing numbers representing money are floats and all other columns are objects -- we can move onto missing data.\n",
    "\n",
    "For the GDP and Intellectual dataframes specifically, cells with missing data are represented using \"..\".  For future analysis, we want to replace these values with 0 since these cells represent monetary values.  The debt datafram already uses 0 rather than NaN so it does ot need this."
   ]
  },
  {
   "cell_type": "code",
   "execution_count": 92,
   "id": "d33f6150",
   "metadata": {},
   "outputs": [],
   "source": [
    "#Fill nans in GDB and Intellectual Property dataframes with 0\n",
    "filtered_gdp_df.replace(np.nan, 0, inplace=True)\n",
    "\n",
    "filtered_int_prop_df.replace(np.nan, 0, inplace=True)"
   ]
  },
  {
   "cell_type": "markdown",
   "id": "ac20984e",
   "metadata": {},
   "source": [
    "In order to later compare and analyze countries' gdp and intellectual property in relation to debt and developed status, we wnat to add the contents of the Debt and Developed Country dataframes to both the GDP and Intellectual Property dataframes.  Since we only want to analyze countries which we have all variables for as stated before, we will Inner Join on the Debt dataframe since it has the least amount of rows and therefore countries.  This will prevent duplicated countries & countries with no data pertaining to some of our variables."
   ]
  },
  {
   "cell_type": "code",
   "execution_count": 93,
   "id": "e3638e95",
   "metadata": {},
   "outputs": [
    {
     "name": "stdout",
     "output_type": "stream",
     "text": [
      "               Country  Original Principal Amount  Cancelled Amount  \\\n",
      "0              Albania               2.032160e+09      1.402591e+08   \n",
      "1            Argentina               4.246665e+10      4.680851e+09   \n",
      "2              Armenia               1.224900e+09      4.430277e+07   \n",
      "3  Antigua and Barbuda               1.200000e+07      7.435746e+06   \n",
      "4            Australia               4.177300e+08      0.000000e+00   \n",
      "\n",
      "   Undisbursed Amount  Disbursed Amount  Borrower's Obligation Country_Code  \\\n",
      "0        7.465856e+08      1.082344e+09           8.740135e+08          ALB   \n",
      "1        5.289592e+09      3.300022e+10           9.498279e+09          ARG   \n",
      "2        1.301590e+08      1.053062e+09           9.671751e+08          ARM   \n",
      "3        5.161400e+04      4.512640e+06           4.012867e+06          ATG   \n",
      "4        0.000000e+00      4.177300e+08          -2.000000e-02          AUS   \n",
      "\n",
      "      Indicator_Name  Indicator_Code          2000  ...          2013  \\\n",
      "0  GDP (current US$)  NY.GDP.MKTP.CD  3.480355e+09  ...  1.277622e+10   \n",
      "1  GDP (current US$)  NY.GDP.MKTP.CD  2.842040e+11  ...  5.520250e+11   \n",
      "2  GDP (current US$)  NY.GDP.MKTP.CD  1.911564e+09  ...  1.112146e+10   \n",
      "3  GDP (current US$)  NY.GDP.MKTP.CD  8.263704e+08  ...  1.181448e+09   \n",
      "4  GDP (current US$)  NY.GDP.MKTP.CD  4.158450e+11  ...  1.576330e+12   \n",
      "\n",
      "           2014          2015          2016          2017          2018  \\\n",
      "0  1.322815e+10  1.138685e+10  1.186120e+10  1.301973e+10  1.515642e+10   \n",
      "1  5.263200e+11  5.947490e+11  5.575320e+11  6.436280e+11  5.248200e+11   \n",
      "2  1.160951e+10  1.055334e+10  1.054614e+10  1.152746e+10  1.245794e+10   \n",
      "3  1.249733e+09  1.336693e+09  1.436585e+09  1.467956e+09  1.604770e+09   \n",
      "4  1.467590e+12  1.350580e+12  1.206560e+12  1.326470e+12  1.428270e+12   \n",
      "\n",
      "           2019          2020          2021          2022  \n",
      "0  1.540183e+10  1.516273e+10  1.793057e+10  1.888210e+10  \n",
      "1  4.477550e+11  3.855400e+11  4.872270e+11  6.327700e+11  \n",
      "2  1.361929e+10  1.264170e+10  1.386141e+10  1.950278e+10  \n",
      "3  1.675404e+09  1.416348e+09  1.560519e+09  1.757604e+09  \n",
      "4  1.392220e+12  1.326940e+12  1.552700e+12  1.675420e+12  \n",
      "\n",
      "[5 rows x 32 columns]\n",
      "               Country  Original Principal Amount  Cancelled Amount  \\\n",
      "0              Albania               2.032160e+09      1.402591e+08   \n",
      "1              Algeria               5.911830e+09      1.605315e+09   \n",
      "2  Antigua and Barbuda               1.200000e+07      7.435746e+06   \n",
      "3            Argentina               4.246665e+10      4.680851e+09   \n",
      "4              Armenia               1.224900e+09      4.430277e+07   \n",
      "\n",
      "   Undisbursed Amount  Disbursed Amount  Borrower's Obligation Country_Code  \\\n",
      "0        7.465856e+08      1.082344e+09           8.740135e+08          ALB   \n",
      "1        0.000000e+00      4.306515e+09           0.000000e+00          DZA   \n",
      "2        5.161400e+04      4.512640e+06           4.012867e+06          ATG   \n",
      "3        5.289592e+09      3.300022e+10           9.498279e+09          ARG   \n",
      "4        1.301590e+08      1.053062e+09           9.671751e+08          ARM   \n",
      "\n",
      "                                         Series_Name     Series_Code  \\\n",
      "0  Charges for the use of intellectual property, ...  BM.GSR.ROYL.CD   \n",
      "1  Charges for the use of intellectual property, ...  BM.GSR.ROYL.CD   \n",
      "2  Charges for the use of intellectual property, ...  BM.GSR.ROYL.CD   \n",
      "3  Charges for the use of intellectual property, ...  BM.GSR.ROYL.CD   \n",
      "4  Charges for the use of intellectual property, ...  BM.GSR.ROYL.CD   \n",
      "\n",
      "          2000  ...         2013         2014         2015         2016  \\\n",
      "0           ..  ...  22607333.78  21881927.42  24578013.75  23163082.28   \n",
      "1           ..  ...  162112437.3  143997401.9  250010594.1  152897904.4   \n",
      "2  288888.8889  ...  1181754.444  2975174.815  3074426.822  4026738.886   \n",
      "3  580337544.9  ...   2329270062   2098996166   2178066124   2108388364   \n",
      "4           ..  ...           ..           ..           ..           ..   \n",
      "\n",
      "          2017         2018         2019         2020         2021  \\\n",
      "0  13132426.91   26412466.5  34784215.26  38609323.64  34763724.47   \n",
      "1  147268735.1  115089900.8  143098650.4  133392700.5  202987326.1   \n",
      "2  4961232.208  3790929.211  3964437.185  1307832.815  3187710.404   \n",
      "3   2350351645   2054243293   1688980859   1149104742   1397946196   \n",
      "4           ..           ..           ..           ..           ..   \n",
      "\n",
      "          2022  \n",
      "0  31727566.82  \n",
      "1  122677213.9  \n",
      "2           ..  \n",
      "3   1706885415  \n",
      "4           ..  \n",
      "\n",
      "[5 rows x 32 columns]\n"
     ]
    }
   ],
   "source": [
    "#inner joining GDP df on Debt df\n",
    "gdp_debt_df = duckdb.sql(\"\"\"SELECT * FROM\n",
    "                         debt_df INNER JOIN filtered_gdp_df\n",
    "                         ON debt_df.Country = filtered_gdp_df.Country_Name\"\"\").df()\n",
    "\n",
    "#Dropping the redundant Country_Name column\n",
    "gdp_debt_df = gdp_debt_df.drop(\"Country_Name\", axis = 1)\n",
    "\n",
    "#inner joining Intellectual Property df on Debt df\n",
    "int_property_debt_df = duckdb.sql(\"\"\"SELECT * FROM\n",
    "                         debt_df INNER JOIN filtered_int_prop_df\n",
    "                         ON debt_df.Country = filtered_int_prop_df.Country_Name\"\"\").df()\n",
    "\n",
    "#Dropping the redundant Country_Name column\n",
    "int_property_debt_df = int_property_debt_df.drop(\"Country_Name\", axis = 1)\n",
    "\n",
    "print(gdp_debt_df.head(5))\n",
    "print(int_property_debt_df.head(5))\n"
   ]
  },
  {
   "cell_type": "markdown",
   "id": "d2a86fe6",
   "metadata": {},
   "source": [
    "Now we will add the Developed Countries dataframe to the two dataframes we just created above.  We will left join the developed_countries_df on these dataframes, as sql will automatically just put the countries that are not in the developed_countries_df as having a value of NaN for the developed column."
   ]
  },
  {
   "cell_type": "code",
   "execution_count": 94,
   "id": "ecae9f22",
   "metadata": {},
   "outputs": [
    {
     "name": "stdout",
     "output_type": "stream",
     "text": [
      "               Country  Original Principal Amount  Cancelled Amount  \\\n",
      "0              Albania               2.032160e+09      1.402591e+08   \n",
      "1              Armenia               1.224900e+09      4.430277e+07   \n",
      "2  Antigua and Barbuda               1.200000e+07      7.435746e+06   \n",
      "3           Azerbaijan               3.479300e+09      5.324351e+08   \n",
      "4              Burundi               4.800000e+06      0.000000e+00   \n",
      "\n",
      "   Undisbursed Amount  Disbursed Amount  Borrower's Obligation Country_Code  \\\n",
      "0         746585590.2      1.082344e+09           8.740135e+08          ALB   \n",
      "1         130159016.0      1.053062e+09           9.671751e+08          ARM   \n",
      "2             51614.0      4.512640e+06           4.012867e+06          ATG   \n",
      "3         108026863.4      2.838838e+09           1.250364e+09          AZE   \n",
      "4                 0.0      4.800000e+06           0.000000e+00          BDI   \n",
      "\n",
      "      Indicator_Name  Indicator_Code          2000  ...          2014  \\\n",
      "0  GDP (current US$)  NY.GDP.MKTP.CD  3.480355e+09  ...  1.322815e+10   \n",
      "1  GDP (current US$)  NY.GDP.MKTP.CD  1.911564e+09  ...  1.160951e+10   \n",
      "2  GDP (current US$)  NY.GDP.MKTP.CD  8.263704e+08  ...  1.249733e+09   \n",
      "3  GDP (current US$)  NY.GDP.MKTP.CD  5.272617e+09  ...  7.523974e+10   \n",
      "4  GDP (current US$)  NY.GDP.MKTP.CD  8.704861e+08  ...  2.705783e+09   \n",
      "\n",
      "           2015          2016          2017          2018          2019  \\\n",
      "0  1.138685e+10  1.186120e+10  1.301973e+10  1.515642e+10  1.540183e+10   \n",
      "1  1.055334e+10  1.054614e+10  1.152746e+10  1.245794e+10  1.361929e+10   \n",
      "2  1.336693e+09  1.436585e+09  1.467956e+09  1.604770e+09  1.675404e+09   \n",
      "3  5.307624e+10  3.786701e+10  4.086663e+10  4.711248e+10  4.817424e+10   \n",
      "4  3.104004e+09  2.644488e+09  2.723587e+09  2.667182e+09  2.576519e+09   \n",
      "\n",
      "           2020          2021          2022  developed  \n",
      "0  1.516273e+10  1.793057e+10  1.888210e+10        NaN  \n",
      "1  1.264170e+10  1.386141e+10  1.950278e+10        NaN  \n",
      "2  1.416348e+09  1.560519e+09  1.757604e+09        NaN  \n",
      "3  4.269300e+10  5.482541e+10  7.872106e+10        NaN  \n",
      "4  2.649680e+09  2.775799e+09  3.073415e+09        NaN  \n",
      "\n",
      "[5 rows x 33 columns]\n",
      "               Country  Original Principal Amount  Cancelled Amount  \\\n",
      "0              Albania               2.032160e+09      1.402591e+08   \n",
      "1              Algeria               5.911830e+09      1.605315e+09   \n",
      "2  Antigua and Barbuda               1.200000e+07      7.435746e+06   \n",
      "3              Armenia               1.224900e+09      4.430277e+07   \n",
      "4           Azerbaijan               3.479300e+09      5.324351e+08   \n",
      "\n",
      "   Undisbursed Amount  Disbursed Amount  Borrower's Obligation Country_Code  \\\n",
      "0         746585590.2      1.082344e+09           8.740135e+08          ALB   \n",
      "1                 0.0      4.306515e+09           0.000000e+00          DZA   \n",
      "2             51614.0      4.512640e+06           4.012867e+06          ATG   \n",
      "3         130159016.0      1.053062e+09           9.671751e+08          ARM   \n",
      "4         108026863.4      2.838838e+09           1.250364e+09          AZE   \n",
      "\n",
      "                                         Series_Name     Series_Code  \\\n",
      "0  Charges for the use of intellectual property, ...  BM.GSR.ROYL.CD   \n",
      "1  Charges for the use of intellectual property, ...  BM.GSR.ROYL.CD   \n",
      "2  Charges for the use of intellectual property, ...  BM.GSR.ROYL.CD   \n",
      "3  Charges for the use of intellectual property, ...  BM.GSR.ROYL.CD   \n",
      "4  Charges for the use of intellectual property, ...  BM.GSR.ROYL.CD   \n",
      "\n",
      "          2000  ...         2014         2015         2016         2017  \\\n",
      "0           ..  ...  21881927.42  24578013.75  23163082.28  13132426.91   \n",
      "1           ..  ...  143997401.9  250010594.1  152897904.4  147268735.1   \n",
      "2  288888.8889  ...  2975174.815  3074426.822  4026738.886  4961232.208   \n",
      "3           ..  ...           ..           ..           ..           ..   \n",
      "4           ..  ...           ..           ..           ..           ..   \n",
      "\n",
      "          2018         2019         2020         2021         2022 developed  \n",
      "0   26412466.5  34784215.26  38609323.64  34763724.47  31727566.82       NaN  \n",
      "1  115089900.8  143098650.4  133392700.5  202987326.1  122677213.9       NaN  \n",
      "2  3790929.211  3964437.185  1307832.815  3187710.404           ..       NaN  \n",
      "3           ..           ..           ..           ..           ..       NaN  \n",
      "4           ..           ..           ..           ..    198087000       NaN  \n",
      "\n",
      "[5 rows x 33 columns]\n"
     ]
    }
   ],
   "source": [
    "#adding developed countries df to gdp_debt_df\n",
    "gdp_dbt_dev_df = duckdb.sql(\"\"\"SELECT * FROM\n",
    "                         gdp_debt_df LEFT JOIN developed_countries_df\n",
    "                         ON gdp_debt_df.Country = developed_countries_df.country\"\"\").df()\n",
    "\n",
    "gdp_dbt_dev_df = gdp_dbt_dev_df.drop(columns = 'country')\n",
    "\n",
    "#adding developed countries df to int_prop_dbt_dev_df\n",
    "int_prop_dbt_dev_df = duckdb.sql(\"\"\"SELECT * FROM\n",
    "                         int_property_debt_df LEFT JOIN developed_countries_df\n",
    "                         ON int_property_debt_df.Country = developed_countries_df.country\"\"\").df()\n",
    "\n",
    "int_prop_dbt_dev_df = int_prop_dbt_dev_df.drop(columns = 'country')\n",
    "\n",
    "print(gdp_dbt_dev_df.head(5))\n",
    "print(int_prop_dbt_dev_df.head(5))"
   ]
  },
  {
   "cell_type": "markdown",
   "id": "98ff52fa",
   "metadata": {},
   "source": [
    "Now, we will fill the NaN's in the 'developed' columns of these two data frames with 0s, so it is a binary column where 0 = not developed and 1 = developed."
   ]
  },
  {
   "cell_type": "code",
   "execution_count": 95,
   "id": "17f3758c",
   "metadata": {},
   "outputs": [
    {
     "name": "stdout",
     "output_type": "stream",
     "text": [
      "               Country  Original Principal Amount  Cancelled Amount  \\\n",
      "0              Albania               2.032160e+09      1.402591e+08   \n",
      "1              Armenia               1.224900e+09      4.430277e+07   \n",
      "2  Antigua and Barbuda               1.200000e+07      7.435746e+06   \n",
      "3           Azerbaijan               3.479300e+09      5.324351e+08   \n",
      "4              Burundi               4.800000e+06      0.000000e+00   \n",
      "\n",
      "   Undisbursed Amount  Disbursed Amount  Borrower's Obligation Country_Code  \\\n",
      "0         746585590.2      1.082344e+09           8.740135e+08          ALB   \n",
      "1         130159016.0      1.053062e+09           9.671751e+08          ARM   \n",
      "2             51614.0      4.512640e+06           4.012867e+06          ATG   \n",
      "3         108026863.4      2.838838e+09           1.250364e+09          AZE   \n",
      "4                 0.0      4.800000e+06           0.000000e+00          BDI   \n",
      "\n",
      "      Indicator_Name  Indicator_Code          2000  ...          2014  \\\n",
      "0  GDP (current US$)  NY.GDP.MKTP.CD  3.480355e+09  ...  1.322815e+10   \n",
      "1  GDP (current US$)  NY.GDP.MKTP.CD  1.911564e+09  ...  1.160951e+10   \n",
      "2  GDP (current US$)  NY.GDP.MKTP.CD  8.263704e+08  ...  1.249733e+09   \n",
      "3  GDP (current US$)  NY.GDP.MKTP.CD  5.272617e+09  ...  7.523974e+10   \n",
      "4  GDP (current US$)  NY.GDP.MKTP.CD  8.704861e+08  ...  2.705783e+09   \n",
      "\n",
      "           2015          2016          2017          2018          2019  \\\n",
      "0  1.138685e+10  1.186120e+10  1.301973e+10  1.515642e+10  1.540183e+10   \n",
      "1  1.055334e+10  1.054614e+10  1.152746e+10  1.245794e+10  1.361929e+10   \n",
      "2  1.336693e+09  1.436585e+09  1.467956e+09  1.604770e+09  1.675404e+09   \n",
      "3  5.307624e+10  3.786701e+10  4.086663e+10  4.711248e+10  4.817424e+10   \n",
      "4  3.104004e+09  2.644488e+09  2.723587e+09  2.667182e+09  2.576519e+09   \n",
      "\n",
      "           2020          2021          2022  developed  \n",
      "0  1.516273e+10  1.793057e+10  1.888210e+10        0.0  \n",
      "1  1.264170e+10  1.386141e+10  1.950278e+10        0.0  \n",
      "2  1.416348e+09  1.560519e+09  1.757604e+09        0.0  \n",
      "3  4.269300e+10  5.482541e+10  7.872106e+10        0.0  \n",
      "4  2.649680e+09  2.775799e+09  3.073415e+09        0.0  \n",
      "\n",
      "[5 rows x 33 columns]\n",
      "               Country  Original Principal Amount  Cancelled Amount  \\\n",
      "0              Albania               2.032160e+09      1.402591e+08   \n",
      "1              Algeria               5.911830e+09      1.605315e+09   \n",
      "2  Antigua and Barbuda               1.200000e+07      7.435746e+06   \n",
      "3              Armenia               1.224900e+09      4.430277e+07   \n",
      "4           Azerbaijan               3.479300e+09      5.324351e+08   \n",
      "\n",
      "   Undisbursed Amount  Disbursed Amount  Borrower's Obligation Country_Code  \\\n",
      "0         746585590.2      1.082344e+09           8.740135e+08          ALB   \n",
      "1                 0.0      4.306515e+09           0.000000e+00          DZA   \n",
      "2             51614.0      4.512640e+06           4.012867e+06          ATG   \n",
      "3         130159016.0      1.053062e+09           9.671751e+08          ARM   \n",
      "4         108026863.4      2.838838e+09           1.250364e+09          AZE   \n",
      "\n",
      "                                         Series_Name     Series_Code  \\\n",
      "0  Charges for the use of intellectual property, ...  BM.GSR.ROYL.CD   \n",
      "1  Charges for the use of intellectual property, ...  BM.GSR.ROYL.CD   \n",
      "2  Charges for the use of intellectual property, ...  BM.GSR.ROYL.CD   \n",
      "3  Charges for the use of intellectual property, ...  BM.GSR.ROYL.CD   \n",
      "4  Charges for the use of intellectual property, ...  BM.GSR.ROYL.CD   \n",
      "\n",
      "          2000  ...         2014         2015         2016         2017  \\\n",
      "0           ..  ...  21881927.42  24578013.75  23163082.28  13132426.91   \n",
      "1           ..  ...  143997401.9  250010594.1  152897904.4  147268735.1   \n",
      "2  288888.8889  ...  2975174.815  3074426.822  4026738.886  4961232.208   \n",
      "3           ..  ...           ..           ..           ..           ..   \n",
      "4           ..  ...           ..           ..           ..           ..   \n",
      "\n",
      "          2018         2019         2020         2021         2022 developed  \n",
      "0   26412466.5  34784215.26  38609323.64  34763724.47  31727566.82       0.0  \n",
      "1  115089900.8  143098650.4  133392700.5  202987326.1  122677213.9       0.0  \n",
      "2  3790929.211  3964437.185  1307832.815  3187710.404           ..       0.0  \n",
      "3           ..           ..           ..           ..           ..       0.0  \n",
      "4           ..           ..           ..           ..    198087000       0.0  \n",
      "\n",
      "[5 rows x 33 columns]\n"
     ]
    }
   ],
   "source": [
    "#filling NaN values in 'developed' columns of both dataframes with 0\n",
    "gdp_dbt_dev_df['developed'].fillna(value= 0, inplace = True)\n",
    "int_prop_dbt_dev_df['developed'].fillna(value= 0, inplace = True)\n",
    "\n",
    "print(gdp_dbt_dev_df.head(5))\n",
    "print(int_prop_dbt_dev_df.head(5))"
   ]
  },
  {
   "cell_type": "markdown",
   "id": "b3f9daf3",
   "metadata": {},
   "source": [
    "### Summary Statistics"
   ]
  },
  {
   "cell_type": "code",
   "execution_count": 96,
   "id": "38f45e7d",
   "metadata": {},
   "outputs": [
    {
     "name": "stdout",
     "output_type": "stream",
     "text": [
      "Index(['Country', 'Original Principal Amount', 'Cancelled Amount',\n",
      "       'Undisbursed Amount', 'Disbursed Amount', 'Borrower's Obligation',\n",
      "       'Country_Code', 'Indicator_Name', 'Indicator_Code', '2000', '2001',\n",
      "       '2002', '2003', '2004', '2005', '2006', '2007', '2008', '2009', '2010',\n",
      "       '2011', '2012', '2013', '2014', '2015', '2016', '2017', '2018', '2019',\n",
      "       '2020', '2021', '2022', 'developed'],\n",
      "      dtype='object')\n"
     ]
    }
   ],
   "source": [
    "#checking the columns existing in the df to conduct the data analysis\n",
    "print(gdp_dbt_dev_df.columns)"
   ]
  },
  {
   "cell_type": "markdown",
   "id": "b77d58a4",
   "metadata": {},
   "source": [
    "We are now going to collect basic summary statistics on our dataset containing Countries' GDP & Debt to The World Bank.\n"
   ]
  },
  {
   "cell_type": "code",
   "execution_count": 97,
   "id": "ef248bad",
   "metadata": {},
   "outputs": [
    {
     "name": "stdout",
     "output_type": "stream",
     "text": [
      "        Country  Original Principal Amount  Cancelled Amount  \\\n",
      "count       135               1.350000e+02      1.350000e+02   \n",
      "unique      135                        NaN               NaN   \n",
      "top     Grenada                        NaN               NaN   \n",
      "freq          1                        NaN               NaN   \n",
      "mean        NaN               6.013611e+09      7.263827e+08   \n",
      "std         NaN               1.405140e+10      1.819805e+09   \n",
      "min         NaN               2.600000e+06      0.000000e+00   \n",
      "25%         NaN               1.455000e+08      2.941172e+06   \n",
      "50%         NaN               6.260000e+08      6.564928e+07   \n",
      "75%         NaN               4.227310e+09      4.828613e+08   \n",
      "max         NaN               7.918036e+10      1.390867e+10   \n",
      "\n",
      "        Undisbursed Amount  Disbursed Amount  Borrower's Obligation  \\\n",
      "count         1.350000e+02      1.350000e+02           1.350000e+02   \n",
      "unique                 NaN               NaN                    NaN   \n",
      "top                    NaN               NaN                    NaN   \n",
      "freq                   NaN               NaN                    NaN   \n",
      "mean          6.198188e+08      4.687486e+09           1.727375e+09   \n",
      "std           1.691227e+09      1.101138e+10           3.995749e+09   \n",
      "min          -1.000000e-02      0.000000e+00          -2.000000e-02   \n",
      "25%           0.000000e+00      1.170043e+08           0.000000e+00   \n",
      "50%           1.000000e-02      5.063214e+08           1.382559e+07   \n",
      "75%           4.902135e+08      3.105956e+09           1.099291e+09   \n",
      "max           1.348451e+10      5.589227e+10           2.071285e+10   \n",
      "\n",
      "       Country_Code     Indicator_Name  Indicator_Code          2000  ...  \\\n",
      "count           135                135             135  1.350000e+02  ...   \n",
      "unique          135                  1               1           NaN  ...   \n",
      "top             RUS  GDP (current US$)  NY.GDP.MKTP.CD           NaN  ...   \n",
      "freq              1                135             135           NaN  ...   \n",
      "mean            NaN                NaN             NaN  1.233364e+11  ...   \n",
      "std             NaN                NaN             NaN  4.713690e+11  ...   \n",
      "min             NaN                NaN             NaN  0.000000e+00  ...   \n",
      "25%             NaN                NaN             NaN  3.686745e+09  ...   \n",
      "50%             NaN                NaN             NaN  1.178493e+10  ...   \n",
      "75%             NaN                NaN             NaN  6.563623e+10  ...   \n",
      "max             NaN                NaN             NaN  4.968360e+12  ...   \n",
      "\n",
      "                2014          2015          2016          2017          2018  \\\n",
      "count   1.350000e+02  1.350000e+02  1.350000e+02  1.350000e+02  1.350000e+02   \n",
      "unique           NaN           NaN           NaN           NaN           NaN   \n",
      "top              NaN           NaN           NaN           NaN           NaN   \n",
      "freq             NaN           NaN           NaN           NaN           NaN   \n",
      "mean    3.425931e+11  3.155700e+11  3.218605e+11  3.479329e+11  3.711574e+11   \n",
      "std     1.082320e+12  1.083229e+12  1.114224e+12  1.205385e+12  1.332259e+12   \n",
      "min     5.202074e+08  5.407370e+08  5.762296e+08  5.215519e+08  5.547704e+08   \n",
      "25%     1.279854e+10  1.164640e+10  1.185491e+10  1.319770e+10  1.424786e+10   \n",
      "50%     4.996483e+10  4.737860e+10  4.772355e+10  5.251234e+10  5.375141e+10   \n",
      "75%     2.291590e+11  1.953815e+11  2.013490e+11  2.199935e+11  2.461585e+11   \n",
      "max     1.047560e+13  1.106160e+13  1.123330e+13  1.231050e+13  1.389490e+13   \n",
      "\n",
      "                2019          2020          2021          2022   developed  \n",
      "count   1.350000e+02  1.350000e+02  1.350000e+02  1.350000e+02  135.000000  \n",
      "unique           NaN           NaN           NaN           NaN         NaN  \n",
      "top              NaN           NaN           NaN           NaN         NaN  \n",
      "freq             NaN           NaN           NaN           NaN         NaN  \n",
      "mean    3.752925e+11  3.625623e+11  4.161309e+11  4.253528e+11    0.325926  \n",
      "std     1.363609e+12  1.382994e+12  1.644602e+12  1.647569e+12    0.470465  \n",
      "min     6.115370e+08  5.042148e+08  0.000000e+00  0.000000e+00    0.000000  \n",
      "25%     1.432135e+10  1.318221e+10  1.435030e+10  1.551456e+10    0.000000  \n",
      "50%     5.433159e+10  5.335648e+10  6.174859e+10  6.350175e+10    0.000000  \n",
      "75%     2.517830e+11  2.486690e+11  2.835980e+11  2.858750e+11    1.000000  \n",
      "max     1.428000e+13  1.468770e+13  1.782050e+13  1.796320e+13    1.000000  \n",
      "\n",
      "[11 rows x 33 columns]\n"
     ]
    }
   ],
   "source": [
    "#collecting the summary statistics related to GDP & Debt\n",
    "print(gdp_dbt_dev_df.describe(include='all'))\n"
   ]
  },
  {
   "cell_type": "markdown",
   "id": "3318dc97",
   "metadata": {},
   "source": [
    "We will do the same for the dataset pertaining to Intellectual Property & Debt"
   ]
  },
  {
   "cell_type": "code",
   "execution_count": 98,
   "id": "8d8c7825",
   "metadata": {},
   "outputs": [
    {
     "name": "stdout",
     "output_type": "stream",
     "text": [
      "        Country  Original Principal Amount  Cancelled Amount  \\\n",
      "count       135               1.350000e+02      1.350000e+02   \n",
      "unique      135                        NaN               NaN   \n",
      "top     Grenada                        NaN               NaN   \n",
      "freq          1                        NaN               NaN   \n",
      "mean        NaN               6.013611e+09      7.263827e+08   \n",
      "std         NaN               1.405140e+10      1.819805e+09   \n",
      "min         NaN               2.600000e+06      0.000000e+00   \n",
      "25%         NaN               1.455000e+08      2.941172e+06   \n",
      "50%         NaN               6.260000e+08      6.564928e+07   \n",
      "75%         NaN               4.227310e+09      4.828613e+08   \n",
      "max         NaN               7.918036e+10      1.390867e+10   \n",
      "\n",
      "        Undisbursed Amount  Disbursed Amount  Borrower's Obligation  \\\n",
      "count         1.350000e+02      1.350000e+02           1.350000e+02   \n",
      "unique                 NaN               NaN                    NaN   \n",
      "top                    NaN               NaN                    NaN   \n",
      "freq                   NaN               NaN                    NaN   \n",
      "mean          6.198188e+08      4.687486e+09           1.727375e+09   \n",
      "std           1.691227e+09      1.101138e+10           3.995749e+09   \n",
      "min          -1.000000e-02      0.000000e+00          -2.000000e-02   \n",
      "25%           0.000000e+00      1.170043e+08           0.000000e+00   \n",
      "50%           1.000000e-02      5.063214e+08           1.382559e+07   \n",
      "75%           4.902135e+08      3.105956e+09           1.099291e+09   \n",
      "max           1.348451e+10      5.589227e+10           2.071285e+10   \n",
      "\n",
      "       Country_Code     Indicator_Name  Indicator_Code          2000  ...  \\\n",
      "count           135                135             135  1.350000e+02  ...   \n",
      "unique          135                  1               1           NaN  ...   \n",
      "top             RUS  GDP (current US$)  NY.GDP.MKTP.CD           NaN  ...   \n",
      "freq              1                135             135           NaN  ...   \n",
      "mean            NaN                NaN             NaN  1.233364e+11  ...   \n",
      "std             NaN                NaN             NaN  4.713690e+11  ...   \n",
      "min             NaN                NaN             NaN  0.000000e+00  ...   \n",
      "25%             NaN                NaN             NaN  3.686745e+09  ...   \n",
      "50%             NaN                NaN             NaN  1.178493e+10  ...   \n",
      "75%             NaN                NaN             NaN  6.563623e+10  ...   \n",
      "max             NaN                NaN             NaN  4.968360e+12  ...   \n",
      "\n",
      "                2014          2015          2016          2017          2018  \\\n",
      "count   1.350000e+02  1.350000e+02  1.350000e+02  1.350000e+02  1.350000e+02   \n",
      "unique           NaN           NaN           NaN           NaN           NaN   \n",
      "top              NaN           NaN           NaN           NaN           NaN   \n",
      "freq             NaN           NaN           NaN           NaN           NaN   \n",
      "mean    3.425931e+11  3.155700e+11  3.218605e+11  3.479329e+11  3.711574e+11   \n",
      "std     1.082320e+12  1.083229e+12  1.114224e+12  1.205385e+12  1.332259e+12   \n",
      "min     5.202074e+08  5.407370e+08  5.762296e+08  5.215519e+08  5.547704e+08   \n",
      "25%     1.279854e+10  1.164640e+10  1.185491e+10  1.319770e+10  1.424786e+10   \n",
      "50%     4.996483e+10  4.737860e+10  4.772355e+10  5.251234e+10  5.375141e+10   \n",
      "75%     2.291590e+11  1.953815e+11  2.013490e+11  2.199935e+11  2.461585e+11   \n",
      "max     1.047560e+13  1.106160e+13  1.123330e+13  1.231050e+13  1.389490e+13   \n",
      "\n",
      "                2019          2020          2021          2022   developed  \n",
      "count   1.350000e+02  1.350000e+02  1.350000e+02  1.350000e+02  135.000000  \n",
      "unique           NaN           NaN           NaN           NaN         NaN  \n",
      "top              NaN           NaN           NaN           NaN         NaN  \n",
      "freq             NaN           NaN           NaN           NaN         NaN  \n",
      "mean    3.752925e+11  3.625623e+11  4.161309e+11  4.253528e+11    0.325926  \n",
      "std     1.363609e+12  1.382994e+12  1.644602e+12  1.647569e+12    0.470465  \n",
      "min     6.115370e+08  5.042148e+08  0.000000e+00  0.000000e+00    0.000000  \n",
      "25%     1.432135e+10  1.318221e+10  1.435030e+10  1.551456e+10    0.000000  \n",
      "50%     5.433159e+10  5.335648e+10  6.174859e+10  6.350175e+10    0.000000  \n",
      "75%     2.517830e+11  2.486690e+11  2.835980e+11  2.858750e+11    1.000000  \n",
      "max     1.428000e+13  1.468770e+13  1.782050e+13  1.796320e+13    1.000000  \n",
      "\n",
      "[11 rows x 33 columns]\n"
     ]
    }
   ],
   "source": [
    "#collecting the summary statistics related to Intellectual Property & Debt\n",
    "print(gdp_dbt_dev_df.describe(include='all'))"
   ]
  },
  {
   "cell_type": "markdown",
   "id": "d368c59e",
   "metadata": {},
   "source": [
    "For both of these datasets, the summary statistics are not able to provide too great of an insight into the data -- yes, we are able to see aspects such as the fact that the mean principal loan amount accross all countries in our dataset was $6.013611e+09, but because we want to look at the relation between Intellectual Property and/or GDP in relation to Debt over a period of years, depending on the binary variable that determines whether or not a country is developed, we need to do further data exploration through graphs and plots."
   ]
  },
  {
   "cell_type": "markdown",
   "id": "5ddebe46",
   "metadata": {},
   "source": [
    "### Exploratory Data Analysis"
   ]
  },
  {
   "cell_type": "code",
   "execution_count": 99,
   "id": "c93ecc33",
   "metadata": {},
   "outputs": [
    {
     "data": {
      "image/png": "[encoded data removed]",
      "text/plain": [
       "<Figure size 720x432 with 1 Axes>"
      ]
     },
     "metadata": {
      "needs_background": "light"
     },
     "output_type": "display_data"
    }
   ],
   "source": [
    "# analyzing the distribution of \"Borrower's Obligation\" (debt owed by country)\n",
    "plt.figure(figsize=(10,6))\n",
    "sns.histplot(gdp_dbt_dev_df['Borrower\\'s Obligation'], kde=True)\n",
    "plt.title('Distribution of Borrower\\'s Obligation')\n",
    "plt.xlabel('Borrower\\'s Obligation')\n",
    "plt.ylabel('Frequency')\n",
    "plt.show()"
   ]
  },
  {
   "cell_type": "markdown",
   "id": "1700880d",
   "metadata": {},
   "source": [
    "Now we will look at the relationship between Borrower's Obligation and GDP. Since our dataset contained a large amount of years for this relationship, and we do not want to make the scatterplot too difficult to read, we randomly selected the year 2020 to view for the relationship between these two variables."
   ]
  },
  {
   "cell_type": "code",
   "execution_count": 100,
   "id": "6489564f",
   "metadata": {},
   "outputs": [
    {
     "data": {
      "image/png": "[encoded data removed]",
      "text/plain": [
       "<Figure size 720x432 with 1 Axes>"
      ]
     },
     "metadata": {
      "needs_background": "light"
     },
     "output_type": "display_data"
    }
   ],
   "source": [
    "# plotting a scatter plot to show the relation between \"Borrower's Obligation\" and \"GDP\" for the year 2020 as a random selection year\n",
    "# and color-coded based on development status\n",
    "plt.figure(figsize=(10,6))\n",
    "sns.scatterplot(data=gdp_dbt_dev_df, x='Borrower\\'s Obligation', y='2020', hue='developed', palette=\"viridis\")\n",
    "plt.title('Borrower\\'s Obligation vs. GDP (2020)')\n",
    "plt.xlabel('Borrower\\'s Obligation')\n",
    "plt.ylabel('GDP for the Year 2020')\n",
    "plt.show()\n"
   ]
  },
  {
   "cell_type": "code",
   "execution_count": 101,
   "id": "8d5d39d5",
   "metadata": {},
   "outputs": [
    {
     "data": {
      "image/png": "[encoded data removed]",
      "text/plain": [
       "<Figure size 864x432 with 1 Axes>"
      ]
     },
     "metadata": {
      "needs_background": "light"
     },
     "output_type": "display_data"
    }
   ],
   "source": [
    "# plotting a line plot to show the average GDP across years for all countries\n",
    "avg_gdp_per_year = gdp_dbt_dev_df.loc[:, '2000':'2022'].mean()\n",
    "plt.figure(figsize=(12,6))\n",
    "avg_gdp_per_year.plot()\n",
    "plt.title('Average GDP Over the Years (All Countries)')\n",
    "plt.xlabel('Year')\n",
    "plt.ylabel('Average GDP')\n",
    "plt.grid(True)\n",
    "plt.show()\n"
   ]
  },
  {
   "cell_type": "code",
   "execution_count": 102,
   "id": "a7732649",
   "metadata": {},
   "outputs": [
    {
     "name": "stdout",
     "output_type": "stream",
     "text": [
      "2000    0.143268\n",
      "2001    0.163229\n",
      "2002    0.169293\n",
      "2003    0.164361\n",
      "2004    0.174351\n",
      "2005    0.212819\n",
      "2006    0.256752\n",
      "2007    0.299385\n",
      "2008    0.308921\n",
      "2009    0.321521\n",
      "2010    0.366162\n",
      "2011    0.379610\n",
      "2012    0.386002\n",
      "2013    0.407380\n",
      "2014    0.415933\n",
      "2015    0.416570\n",
      "2016    0.412665\n",
      "2017    0.424513\n",
      "2018    0.411228\n",
      "2019    0.413993\n",
      "2020    0.398697\n",
      "2021    0.402985\n",
      "2022    0.421868\n",
      "Name: Borrower's Obligation, dtype: float64\n"
     ]
    }
   ],
   "source": [
    "# creating a correlation matrix between \"Year\" (GDP) and the \"Borrower's Obligation\"\n",
    "year_columns = [str(year) for year in range(2000, 2023)]\n",
    "year_loan = ['Borrower\\'s Obligation'] + year_columns\n",
    "correlation_matrix = gdp_dbt_dev_df[year_loan].corr()\n",
    "borrower_year_correlation = correlation_matrix.loc['Borrower\\'s Obligation', year_columns]\n",
    "print(borrower_year_correlation)\n"
   ]
  },
  {
   "cell_type": "code",
   "execution_count": 103,
   "id": "34947d3c",
   "metadata": {},
   "outputs": [
    {
     "name": "stdout",
     "output_type": "stream",
     "text": [
      "           Average Debt  Average GDP 2020\n",
      "developed                                \n",
      "0.0        2.172868e+09      3.146237e+11\n",
      "1.0        8.060129e+08      4.617079e+11\n"
     ]
    }
   ],
   "source": [
    "# grouping by 'developed' column to get mean of debt and GDP for 2020\n",
    "grouped = gdp_dbt_dev_df.groupby('developed').agg({'Borrower\\'s Obligation':'mean', '2020':'mean'})\n",
    "grouped.columns = ['Average Debt', 'Average GDP 2020']\n",
    "print(grouped)"
   ]
  },
  {
   "cell_type": "code",
   "execution_count": 104,
   "id": "531f71b9",
   "metadata": {},
   "outputs": [],
   "source": [
    "# separating the dataframes for developed and developing nations to make it easier to see difference\n",
    "developed_df = gdp_dbt_dev_df[gdp_dbt_dev_df['developed'] == 1.0]\n",
    "developing_df = gdp_dbt_dev_df[gdp_dbt_dev_df['developed'] == 0.0]\n",
    "\n"
   ]
  },
  {
   "cell_type": "code",
   "execution_count": 105,
   "id": "b7d5dbc2",
   "metadata": {},
   "outputs": [
    {
     "data": {
      "image/png": "[encoded data removed]",
      "text/plain": [
       "<Figure size 864x432 with 1 Axes>"
      ]
     },
     "metadata": {
      "needs_background": "light"
     },
     "output_type": "display_data"
    }
   ],
   "source": [
    "#plotting a line graph of the average GDP growth over the years for developed vs developing countries\n",
    "plt.figure(figsize=(12,6))\n",
    "developed_df.loc[:, '2000':'2022'].mean().plot(label='Developed')\n",
    "developing_df.loc[:, '2000':'2022'].mean().plot(label='Developing')\n",
    "plt.title('Average GDP Over the Years: Developed vs Developing')\n",
    "plt.xlabel('Year')\n",
    "plt.ylabel('Average GDP')\n",
    "plt.legend()\n",
    "plt.grid(True)\n",
    "plt.show()"
   ]
  },
  {
   "cell_type": "code",
   "execution_count": 106,
   "id": "3bea1314",
   "metadata": {},
   "outputs": [
    {
     "data": {
      "image/png": "[encoded data removed]",
      "text/plain": [
       "<Figure size 720x432 with 1 Axes>"
      ]
     },
     "metadata": {
      "needs_background": "light"
     },
     "output_type": "display_data"
    }
   ],
   "source": [
    "#analyzing the distribution of Borrower's Obligation for developed vs developing countries in histogram\n",
    "plt.figure(figsize=(10,6))\n",
    "sns.histplot(developed_df['Borrower\\'s Obligation'], kde=True, label='Developed', color='blue')\n",
    "sns.histplot(developing_df['Borrower\\'s Obligation'], kde=True, label='Developing', color='red')\n",
    "plt.title('Distribution of Borrower\\'s Obligation: Developed vs Developing')\n",
    "plt.xlabel('Borrower\\'s Obligation')\n",
    "plt.ylabel('Frequency')\n",
    "plt.legend()\n",
    "plt.show()"
   ]
  },
  {
   "cell_type": "markdown",
   "id": "f4e404db",
   "metadata": {},
   "source": [
    "### Data Discussion"
   ]
  },
  {
   "cell_type": "markdown",
   "id": "c18dbf4c",
   "metadata": {},
   "source": [
    "\n",
    "#### Motivation\n",
    "**_Why was the dataset created?_**\n",
    "\n",
    "The dataset was created to allow for predicting the future of a developed or developing country using key variables linked to economic growth and stability.\n",
    "\n",
    "**_Who funded the creation of the dataset_**\n",
    "\n",
    "\"It is unclear who funded the creation of the datset, but much of the information has been taken from the World Bank Organization.\n",
    "\n",
    "#### Composition\n",
    "\n",
    "**_What do the instances that comprise the dataset represent?_**\n",
    "\n",
    "The instances that comprise the dataset represent countries and specific economic indicators pertinent to those countries, such as GDP growth rates, intellectual property rights, and World Bank debt.\n",
    "\n",
    "**_Are there any errors, sources of noise, or redundancies in the dataset?_**\n",
    "\n",
    "There were potential missing values or inconsistencies which needed to be addressed. In our data cleaning, we filled missing values using interpolation for continuity and dropped any unnecessary columns. It's also possible that there could be redundancies, especially if some countries have been recorded multiple times, which would necessitate deduplication.\n",
    "\n",
    "**_Is the dataset self-contained, or does it link to or otherwise rely on external resources?_**\n",
    "\n",
    "The dataset is self-contained, but it does indirectly rely on external resources if that source changes their data, our own data would need to be updated.\n",
    "\n",
    "**What are the observations (rows) and the attributes (columns)?**\n",
    "\n",
    "Columns:\n",
    "\n",
    "Country_Name: The name of the country.\n",
    "\n",
    "Year: The specific year the data was recorded.\n",
    "\n",
    "GDP: Represents the Gross Domestic Product growth rate, which is a macroeconomic indicator reflecting the health of a country's economy. It can be positive (indicating economic growth) or negative (indicating economic contraction).\n",
    "\n",
    "Intellectual_Property: A metric (possibly a score or a binary value) representing the state of intellectual property rights and protections in a country. It might reflect the strength of patents, trademarks, copyrights, and trade secrets in a given nation.\n",
    "\n",
    "Debt: Indicates the amount or level of World Bank debt a country has. It could reflect the country's external obligations to the World Bank.\n",
    "\n",
    "Developed: A binary value (1 or 0) indicating whether a country is classified as developed or developing. This categorization could be based on various criteria, including GDP per capita, industrialization, the standard of living, etc.\n",
    "\n",
    "Each row in the dataset represents a country in a specific year, with its associated economic indicators. The combination of the country's name and year would be the unique identifier for each observation.\n",
    "\n",
    "\n",
    "Intellectual property:\n",
    "\n",
    "Although there is Country_code, Series_name, and Series_code, the main columns we are focusing on is Country_name, and the column years 2000 to 2022 (disregarding 1960 to 1999 inclusive). \n",
    "\n",
    "The Country_code is the acronym of the country (such as NY for New York), the Series_name is the unit of measurement (charges for the the use of intellectual property payments measured BoP or Current US$), and Series_code is similar to Indicator_code where it is an alphanumeric value that is assigned to a specific time series of data. The Country_name details the countries that we will be analyzing (267 but we removed some based on similarities with other datasets), and the column_years contains the intellectual property value (in US dollars) for each country in a specific year. \n",
    "\n",
    "GDP: \n",
    "\n",
    "Although there is also Country_code, Indicator_name, and Indicator_code, the main columns we are focusing on is Country_name and the column years 2000 to 2022 (disregarding 1960 to 1999 inclusive). \n",
    "\n",
    "The Country_code is the acronym of the country (such as NY for New York), the Indicator_name details the units that the GDP is measured in (Current US$), and the Indicator_code is the unique alphanumeric code that used to reference particular data related to the that particular indicator. The country_name details the countries that we will be analyzing and the column years 2000 to 2022 contain the GDP (in USD dollars) for that specific year and country. \n",
    "\n",
    "IBRD Loan Summary:\n",
    "\n",
    "Although it contains cancelled_amount, undisbursed_amount, disbursed_amount, we plan to focus on country, original_principal_amount and borrowers_obligation. \n",
    "\n",
    "Cancelled_amount is the amount of money from the original principal amount that has been forgiven or canceled by the lender, undisbursed_amount is the amount that has been approved to be given but not yet given to the country, disbursed_amount is the amount that has been transferred to the borrowing country. Country is the name of the country that is involved in loan transactions with the World bank, original_principal_amount is the original amount of money that has been loaned to the country, and borrower’s obligation is the amount of money that must be repaid to the bank as part of the loan contract between the country and the bank. All of the units are in US dollars. \n",
    "\n",
    "Developed and developing nations: \n",
    "\n",
    "Other than the country names there are two columns that are called HDI (human development index) 2020 and 2021 We did not use these columns in our analysis. We simply used the country names because they are all developed countries. \n"
   ]
  },
  {
   "cell_type": "markdown",
   "id": "3eb7964c",
   "metadata": {},
   "source": [
    "### Difficulties Faced During Collection"
   ]
  },
  {
   "cell_type": "markdown",
   "id": "9554f2f8",
   "metadata": {},
   "source": [
    "There was lots of data that we had to sort through because there were extra columns and rows in it that had to be removed in order for us to proceed with the data. For example, in the debt csv (loan summary) file there were multiple other columns such as an undistributed amount that was irrelevant to our data collection. This made it difficult to sort through the data and what we actually needed. \n",
    "\n",
    "Some of the datasets, though from the same source, had information for some countries and not for others. This made it difficult to categorize the countries as developed vs developing and make standardized comparisons across the datasets. \n",
    "\n",
    "The data source did not give context to what the no data (“..”) listed for some countries meant. Thus, we had to go under the assumption that it simply meant no data available \n"
   ]
  },
  {
   "cell_type": "markdown",
   "id": "f60e335c",
   "metadata": {},
   "source": [
    "### Data Limitations"
   ]
  },
  {
   "cell_type": "markdown",
   "id": "4cb67cdd",
   "metadata": {},
   "source": [
    "There were a few missing data that would have ‘..’ instead of 0 and NaN. As a result, we had to fill in the spaces with NaN to account for the lack of data. \n",
    "\n",
    "We also noticed that some of the csv files had more countries than others (one had over 200 while another had around 100); we combatted this problem by doing INNER JOIN and using ON so that we only had countries that were common to multiple csv files, in order to ensure all of the countries we were analyzing had all relevant data points (columns associated with GDP, Debt, Intellectual Property, & Developed/Developing).\n",
    "\n",
    "In our analysis, we are only considering years from the 21st century.  This ignores the context that the data from before these years might have had when it comes to GDP, Debt, and Intellectual property.\n",
    "\n",
    "We also are only considering countries' based on pure numbers relating to GDP, Debt, and Intellectual Property Charges -- this means that we are ignoring other factors such as political differences, conflicts, and geographic location that might also have large impacts on a country's loan to the world bank.\n",
    "\n",
    "Finally, we use a binary classification when classifying countries into developed/developing.  This does not account for the nuances that exist when it comes to countries' human development indexes, which is the score used to classify them in a category.  Even though this classfication was done by the UN, there are also many subcategories such as 'more developed' and 'less developed' that may have provided greater insight.\n"
   ]
  },
  {
   "cell_type": "markdown",
   "id": "333c0b39",
   "metadata": {},
   "source": [
    "### Questions For Reviewers"
   ]
  },
  {
   "cell_type": "markdown",
   "id": "398ea74f",
   "metadata": {},
   "source": [
    "For our research question, do you have any general feedback regarding our independent and dependent variablesIs there a better way for us to clean or organize the data? \n",
    "\n",
    "Should we continue to carry out bivariate statistics (i.e. mean, standard deviation, etc.) comparing the developed versus developing (sticking to the research question) or should we analyze between individual countries as well?\n",
    "\n",
    "For our research question, do you have any general feedback for our dependent variables such as things that we could add or remove (in terms of feasibility with the assignment)?\n",
    "\n",
    "Is there a better visualization for the correlation matrix? \n"
   ]
  }
 ],
 "metadata": {
  "kernelspec": {
   "display_name": "Python 3 (ipykernel)",
   "language": "python",
   "name": "python3"
  },
  "language_info": {
   "codemirror_mode": {
    "name": "ipython",
    "version": 3
   },
   "file_extension": ".py",
   "mimetype": "text/x-python",
   "name": "python",
   "nbconvert_exporter": "python",
   "pygments_lexer": "ipython3",
   "version": "3.8.8"
  }
 },
 "nbformat": 4,
 "nbformat_minor": 5
}

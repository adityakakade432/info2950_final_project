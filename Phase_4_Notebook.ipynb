{
 "cells": [
  {
   "cell_type": "markdown",
   "metadata": {},
   "source": [
    "## Introduction\n",
    "\n",
    "Research Question: How does the level of debt owed to the World Bank, intellectual property, and balance of payments correlate with the GDP growth rates of countries, and are there distinguishable patterns or differences in this relationship when comparing developed and developing nations?\n",
    "\n",
    "Our project aims to research the relationship between a Country’s GDP and their debt to the World Bank Group and the International Monetary Fund. The World Bank’s mission is to “end extreme poverty and promote shared prosperity in a sustainable way” (World Bank Group, 2023). However, there is extreme controversy on whether their involvement in developing countries’ economic development is positive or exploitative (Nagle, 2019). Seeing whether there is a relationship between a country’s economic prosperity (measured by GDP) and the pattern of loans(\"Borrower's Obligation\") received from these Multi-Governmental Organizations would provide an interesting insight into whether countries's economic livelihood is more negatively affected by the involvement of these MGOs. There is detailed and immensely available data that correlates to this topic because there is information on GDP and Debt for all countries, also broken down by developing versus developed countries. \n"
   ]
  },
  {
   "cell_type": "markdown",
   "metadata": {},
   "source": [
    "## Data Description\n",
    "We have four data tables for this phase: The GDP data for countries around the world, Loans/debt owed to the World Bank by countries, a dataset containing a list of developed countries (as classified biy the UN), and the Intellectual Property of countries for years 2000 to 2022.\n",
    "\n",
    "The GDP Dataset details the gross domestic product for individual countries across a set of years. Specifically, the dataset contains years from 1960 to 2022 with the respective GDPs - in USD dollars - for 267 countries around the world.\n",
    "\n",
    "The loans/debt dataset discusses a given amount of money loaned to a country from the World Bank and what how that money has been handled since. This particular dataset contains 148 countries and their original principal amount,canceled amount, undisbursed amount, disbursed amount, and borrower's obligation.\n",
    "\n",
    "For the intellectual property dataset it pertains to transactions between residents and non-residents concerning the authorized utilization of intellectual property rights. This encompasses rights like patents, trademarks, copyrights, industrial designs, trade secrets, and franchises. Additionally, it covers the usage of original productions or prototypes, which include copyrights on literature, software, films, and audio recordings, as well as associated rights for live events and various broadcast methods. The monetary values provided in the dataset are presented in contemporary U.S. dollars (World Bank, 2023). \n",
    "\n",
    "There is also a datset containing developed countries based on the United Nations classification. This is going to be used to compare if there are any patterns or trends with the dependent variables discussed previously and developing and developed nations.\n",
    "\n",
    "Link to balance of payments of countries owed to World Bank: https://finances.worldbank.org/Loans-and-Credits/IBRD-Country-wise-Loan-summary/5xqk-t59j\n",
    "\n",
    "Link to intellectual property: https://data.worldbank.org/indicator/BM.GSR.ROYL.CD?locations=SV\n",
    "\n",
    "Link to GDP: https://data.worldbank.org/indicator/NY.GDP.MKTP.CD?end=2022&start=2022&view=bar\n",
    "\n",
    "Link to Developed Countries Dataset: https://worldpopulationreview.com/country-rankings/developed-countries\n"
   ]
  },
  {
   "cell_type": "markdown",
   "metadata": {},
   "source": [
    "## Preregistration of Analyses"
   ]
  },
  {
   "cell_type": "markdown",
   "metadata": {},
   "source": [
    "Hypothesis 1: If a country’s borrower's obligation is greater, then they will be more likely to be a developed country. \n",
    "\n",
    "Analysis: We will conduct a logistic regression where we output whether or not a country is developed or developing (a dummy variable) based on an input of the borrower’s obligation (in USD dollars). The developed country dummy will be the reference variable, so we will test whether $e^\\beta$, where $\\beta$ is the coefficient output by the regression equation for the 'Borrower's Obligation' variable, is greater than 1. The reason this analysis is important is because \n",
    "\n",
    "Hypothesis 2: The higher a country’s GDP (in USD Dollars), the higher the intellectual property charges (in USD Dollars). \n",
    "\n",
    "Analysis: We will conduct a linear regression where we input the GDP of a country and output the intellectual property charges. We would test whether  (the regression coefficient of GDP in our equation) is greater than 0 (if an increase in GDP causes an increase in Intellectual Property Charges). \n"
   ]
  },
  {
   "cell_type": "markdown",
   "metadata": {},
   "source": [
    "## Data Cleaning "
   ]
  },
  {
   "cell_type": "code",
<<<<<<< HEAD
   "execution_count": 123,
=======
   "execution_count": 34,
>>>>>>> 593dc8a89e020ddb357c44ed055de34a89dcb488
   "metadata": {},
   "outputs": [],
   "source": [
    "import pandas as pd\n",
    "import numpy as np\n",
    "import math as math\n",
    "from sklearn.linear_model import LinearRegression, LogisticRegression\n",
    "from sklearn.model_selection import train_test_split, KFold, cross_val_score\n",
    "\n",
    "from scipy import stats\n",
    "\n",
    "import seaborn as sns\n",
    "import matplotlib.pyplot as plt\n",
    "import duckdb \n",
    "import statsmodels.api as sm "
   ]
  },
  {
   "cell_type": "code",
<<<<<<< HEAD
   "execution_count": 124,
=======
   "execution_count": 35,
>>>>>>> 593dc8a89e020ddb357c44ed055de34a89dcb488
   "metadata": {},
   "outputs": [],
   "source": [
    "int_property_df = pd.read_csv(\"Intellectual_Property_Table.csv\")\n",
    "gdp_df = pd.read_csv(\"GDP_Table.csv\", delimiter = \",\")\n",
    "debt_df = pd.read_csv(\"IBRD_Country-wise_Loan_summary.csv\")\n",
    "developed_countries_df = pd.read_csv(\"developed-countries-2023.csv\")"
   ]
  },
  {
   "cell_type": "code",
<<<<<<< HEAD
   "execution_count": 125,
=======
   "execution_count": 36,
>>>>>>> 593dc8a89e020ddb357c44ed055de34a89dcb488
   "metadata": {},
   "outputs": [
    {
     "name": "stdout",
     "output_type": "stream",
     "text": [
      "Intellectual Property dataframe shape(271, 67)\n",
      "GDP dataframe shape(266, 67)\n",
      "Debt dataframe shape(147, 6)\n",
      "Developed Countries dataframe shape(66, 3)\n"
     ]
    }
   ],
   "source": [
    "print(\"Intellectual Property dataframe shape\" + str(int_property_df.shape))\n",
    "print(\"GDP dataframe shape\" + str(gdp_df.shape))\n",
    "print(\"Debt dataframe shape\" + str(debt_df.shape))\n",
    "print(\"Developed Countries dataframe shape\" + str(developed_countries_df.shape))\n"
   ]
  },
  {
   "cell_type": "code",
<<<<<<< HEAD
   "execution_count": 126,
=======
   "execution_count": 37,
>>>>>>> 593dc8a89e020ddb357c44ed055de34a89dcb488
   "metadata": {},
   "outputs": [
    {
     "name": "stdout",
     "output_type": "stream",
     "text": [
      "New GDP DF Columns:Index(['Country_Name', 'Country_Code', 'Indicator_Name', 'Indicator_Code',\n",
      "       '2000', '2001', '2002', '2003', '2004', '2005', '2006', '2007', '2008',\n",
      "       '2009', '2010', '2011', '2012', '2013', '2014', '2015', '2016', '2017',\n",
      "       '2018', '2019', '2020', '2021', '2022'],\n",
      "      dtype='object')\n",
      "New Intellectual Property DF Columns:Index(['Country_Name', 'Country_Code', 'Series_Name', 'Series_Code', '2000',\n",
      "       '2001', '2002', '2003', '2004', '2005', '2006', '2007', '2008', '2009',\n",
      "       '2010', '2011', '2012', '2013', '2014', '2015', '2016', '2017', '2018',\n",
      "       '2019', '2020', '2021', '2022'],\n",
      "      dtype='object')\n"
     ]
    }
   ],
   "source": [
    "#years we do not want to consider\n",
    "unwanted_years = ['1960', '1961', '1962', '1963', '1964', '1965', '1966', '1967',\n",
    "                  '1968','1969', '1970', '1971', '1972', '1973', '1974', '1975', \n",
    "                  '1976', '1977','1978', '1979', '1980', '1981', '1982', '1983', \n",
    "                  '1984', '1985', '1986','1987', '1988', '1989', '1990', '1991', \n",
    "                  '1992', '1993', '1994', '1995','1996', '1997', '1998', '1999']\n",
    "\n",
    "#reducing GDP dataframe, saving to new csv\n",
    "filtered_gdp_df = gdp_df.drop(columns=unwanted_years)\n",
    "print(\"New GDP DF Columns:\" + str(filtered_gdp_df.columns))\n",
    "\n",
    "#saving to new csv file\n",
    "filtered_gdp_df.to_csv(\"Filtered_GDP.csv\", index=False)\n",
    "\n",
    "#reducing Intellectual Property dataframe, saving to new csv\n",
    "filtered_int_prop_df = int_property_df.drop(columns=unwanted_years)\n",
    "print(\"New Intellectual Property DF Columns:\" + str(filtered_int_prop_df.columns))\n",
    "\n",
    "#saving to new csv file\n",
    "filtered_int_prop_df.to_csv(\"Filtered_Int_Prop.csv\", index=False)"
   ]
  },
  {
   "cell_type": "code",
<<<<<<< HEAD
   "execution_count": 127,
=======
   "execution_count": 38,
>>>>>>> 593dc8a89e020ddb357c44ed055de34a89dcb488
   "metadata": {},
   "outputs": [
    {
     "data": {
      "text/html": [
       "<div>\n",
       "<style scoped>\n",
       "    .dataframe tbody tr th:only-of-type {\n",
       "        vertical-align: middle;\n",
       "    }\n",
       "\n",
       "    .dataframe tbody tr th {\n",
       "        vertical-align: top;\n",
       "    }\n",
       "\n",
       "    .dataframe thead th {\n",
       "        text-align: right;\n",
       "    }\n",
       "</style>\n",
       "<table border=\"1\" class=\"dataframe\">\n",
       "  <thead>\n",
       "    <tr style=\"text-align: right;\">\n",
       "      <th></th>\n",
       "      <th>country</th>\n",
       "      <th>developed</th>\n",
       "    </tr>\n",
       "  </thead>\n",
       "  <tbody>\n",
       "    <tr>\n",
       "      <th>0</th>\n",
       "      <td>Switzerland</td>\n",
       "      <td>1</td>\n",
       "    </tr>\n",
       "    <tr>\n",
       "      <th>1</th>\n",
       "      <td>Norway</td>\n",
       "      <td>1</td>\n",
       "    </tr>\n",
       "    <tr>\n",
       "      <th>2</th>\n",
       "      <td>Iceland</td>\n",
       "      <td>1</td>\n",
       "    </tr>\n",
       "    <tr>\n",
       "      <th>3</th>\n",
       "      <td>Hong Kong</td>\n",
       "      <td>1</td>\n",
       "    </tr>\n",
       "    <tr>\n",
       "      <th>4</th>\n",
       "      <td>Australia</td>\n",
       "      <td>1</td>\n",
       "    </tr>\n",
       "    <tr>\n",
       "      <th>5</th>\n",
       "      <td>Denmark</td>\n",
       "      <td>1</td>\n",
       "    </tr>\n",
       "    <tr>\n",
       "      <th>6</th>\n",
       "      <td>Sweden</td>\n",
       "      <td>1</td>\n",
       "    </tr>\n",
       "    <tr>\n",
       "      <th>7</th>\n",
       "      <td>Ireland</td>\n",
       "      <td>1</td>\n",
       "    </tr>\n",
       "    <tr>\n",
       "      <th>8</th>\n",
       "      <td>Germany</td>\n",
       "      <td>1</td>\n",
       "    </tr>\n",
       "    <tr>\n",
       "      <th>9</th>\n",
       "      <td>Netherlands</td>\n",
       "      <td>1</td>\n",
       "    </tr>\n",
       "  </tbody>\n",
       "</table>\n",
       "</div>"
      ],
      "text/plain": [
       "       country  developed\n",
       "0  Switzerland          1\n",
       "1       Norway          1\n",
       "2      Iceland          1\n",
       "3    Hong Kong          1\n",
       "4    Australia          1\n",
       "5      Denmark          1\n",
       "6       Sweden          1\n",
       "7      Ireland          1\n",
       "8      Germany          1\n",
       "9  Netherlands          1"
      ]
     },
<<<<<<< HEAD
     "execution_count": 127,
=======
     "execution_count": 38,
>>>>>>> 593dc8a89e020ddb357c44ed055de34a89dcb488
     "metadata": {},
     "output_type": "execute_result"
    }
   ],
   "source": [
    "#dropping year columns containing HDI values\n",
    "developed_countries_df = developed_countries_df.drop(\n",
    "    columns = ['Hdi2021','Hdi2020'])\n",
    "\n",
    "#adding column of all ones\n",
    "developed_countries_df['developed'] = 1\n",
    "\n",
    "developed_countries_df.head(10)"
   ]
  },
  {
   "cell_type": "code",
<<<<<<< HEAD
   "execution_count": 128,
=======
   "execution_count": 39,
>>>>>>> 593dc8a89e020ddb357c44ed055de34a89dcb488
   "metadata": {},
   "outputs": [
    {
     "name": "stdout",
     "output_type": "stream",
     "text": [
      "GDP df datatypes\n",
      "Country_Name       object\n",
      "Country_Code       object\n",
      "Indicator_Name     object\n",
      "Indicator_Code     object\n",
      "2000              float64\n",
      "2001              float64\n",
      "2002              float64\n",
      "2003              float64\n",
      "2004              float64\n",
      "2005              float64\n",
      "2006              float64\n",
      "2007              float64\n",
      "2008              float64\n",
      "2009              float64\n",
      "2010              float64\n",
      "2011              float64\n",
      "2012              float64\n",
      "2013              float64\n",
      "2014              float64\n",
      "2015              float64\n",
      "2016              float64\n",
      "2017              float64\n",
      "2018              float64\n",
      "2019              float64\n",
      "2020              float64\n",
      "2021              float64\n",
      "2022              float64\n",
      "dtype: object\n",
      "Intellectual Property df datatypes\n",
      "Country_Name    object\n",
      "Country_Code    object\n",
      "Series_Name     object\n",
      "Series_Code     object\n",
      "2000            object\n",
      "2001            object\n",
      "2002            object\n",
      "2003            object\n",
      "2004            object\n",
      "2005            object\n",
      "2006            object\n",
      "2007            object\n",
      "2008            object\n",
      "2009            object\n",
      "2010            object\n",
      "2011            object\n",
      "2012            object\n",
      "2013            object\n",
      "2014            object\n",
      "2015            object\n",
      "2016            object\n",
      "2017            object\n",
      "2018            object\n",
      "2019            object\n",
      "2020            object\n",
      "2021            object\n",
      "2022            object\n",
      "dtype: object\n",
      "Debt df datatypes\n",
      "Country                       object\n",
      "Original Principal Amount    float64\n",
      "Cancelled Amount             float64\n",
      "Undisbursed Amount           float64\n",
      "Disbursed Amount             float64\n",
      "Borrower's Obligation        float64\n",
      "dtype: object\n",
      "Developed Countries datatypes\n",
      "country      object\n",
      "developed     int64\n",
      "dtype: object\n"
     ]
    }
   ],
   "source": [
    "print(\"GDP df datatypes\\n\" + str(filtered_gdp_df.dtypes))\n",
    "print(\"Intellectual Property df datatypes\\n\" + str(filtered_int_prop_df.dtypes))\n",
    "print(\"Debt df datatypes\\n\" + str(debt_df.dtypes))\n",
    "print(\"Developed Countries datatypes\\n\" + str(developed_countries_df.dtypes))"
   ]
  },
  {
   "cell_type": "code",
<<<<<<< HEAD
   "execution_count": 129,
=======
   "execution_count": 40,
>>>>>>> 593dc8a89e020ddb357c44ed055de34a89dcb488
   "metadata": {},
   "outputs": [],
   "source": [
    "#Fill nans in GDB and Intellectual Property dataframes with 0\n",
    "filtered_gdp_df.replace(np.nan, 0.0, inplace=True)\n",
    "filtered_gdp_df.replace(\"..\", 0.0, inplace=True)\n",
    "\n",
    "filtered_int_prop_df.replace(np.nan, 0.0, inplace=True)\n",
    "filtered_int_prop_df.replace(\"..\", 0.0, inplace=True)"
   ]
  },
  {
   "cell_type": "code",
<<<<<<< HEAD
   "execution_count": 130,
=======
   "execution_count": 41,
>>>>>>> 593dc8a89e020ddb357c44ed055de34a89dcb488
   "metadata": {},
   "outputs": [
    {
     "name": "stdout",
     "output_type": "stream",
     "text": [
      "               Country  Original Principal Amount  Cancelled Amount  \\\n",
      "0              Albania               2.032160e+09      1.402591e+08   \n",
      "1            Argentina               4.246665e+10      4.680851e+09   \n",
      "2              Armenia               1.224900e+09      4.430277e+07   \n",
      "3  Antigua and Barbuda               1.200000e+07      7.435746e+06   \n",
      "4            Australia               4.177300e+08      0.000000e+00   \n",
      "\n",
      "   Undisbursed Amount  Disbursed Amount  Borrower's Obligation Country_Code  \\\n",
      "0        7.465856e+08      1.082344e+09           8.740135e+08          ALB   \n",
      "1        5.289592e+09      3.300022e+10           9.498279e+09          ARG   \n",
      "2        1.301590e+08      1.053062e+09           9.671751e+08          ARM   \n",
      "3        5.161400e+04      4.512640e+06           4.012867e+06          ATG   \n",
      "4        0.000000e+00      4.177300e+08          -2.000000e-02          AUS   \n",
      "\n",
      "      Indicator_Name  Indicator_Code          2000  ...          2013  \\\n",
      "0  GDP (current US$)  NY.GDP.MKTP.CD  3.480355e+09  ...  1.277622e+10   \n",
      "1  GDP (current US$)  NY.GDP.MKTP.CD  2.842040e+11  ...  5.520250e+11   \n",
      "2  GDP (current US$)  NY.GDP.MKTP.CD  1.911564e+09  ...  1.112146e+10   \n",
      "3  GDP (current US$)  NY.GDP.MKTP.CD  8.263704e+08  ...  1.181448e+09   \n",
      "4  GDP (current US$)  NY.GDP.MKTP.CD  4.158450e+11  ...  1.576330e+12   \n",
      "\n",
      "           2014          2015          2016          2017          2018  \\\n",
      "0  1.322815e+10  1.138685e+10  1.186120e+10  1.301973e+10  1.515642e+10   \n",
      "1  5.263200e+11  5.947490e+11  5.575320e+11  6.436280e+11  5.248200e+11   \n",
      "2  1.160951e+10  1.055334e+10  1.054614e+10  1.152746e+10  1.245794e+10   \n",
      "3  1.249733e+09  1.336693e+09  1.436585e+09  1.467956e+09  1.604770e+09   \n",
      "4  1.467590e+12  1.350580e+12  1.206560e+12  1.326470e+12  1.428270e+12   \n",
      "\n",
      "           2019          2020          2021          2022  \n",
      "0  1.540183e+10  1.516273e+10  1.793057e+10  1.888210e+10  \n",
      "1  4.477550e+11  3.855400e+11  4.872270e+11  6.327700e+11  \n",
      "2  1.361929e+10  1.264170e+10  1.386141e+10  1.950278e+10  \n",
      "3  1.675404e+09  1.416348e+09  1.560519e+09  1.757604e+09  \n",
      "4  1.392220e+12  1.326940e+12  1.552700e+12  1.675420e+12  \n",
      "\n",
      "[5 rows x 32 columns]\n",
      "               Country  Original Principal Amount  Cancelled Amount  \\\n",
      "0              Albania               2.032160e+09      1.402591e+08   \n",
      "1              Algeria               5.911830e+09      1.605315e+09   \n",
      "2  Antigua and Barbuda               1.200000e+07      7.435746e+06   \n",
      "3            Argentina               4.246665e+10      4.680851e+09   \n",
      "4              Armenia               1.224900e+09      4.430277e+07   \n",
      "\n",
      "   Undisbursed Amount  Disbursed Amount  Borrower's Obligation Country_Code  \\\n",
      "0        7.465856e+08      1.082344e+09           8.740135e+08          ALB   \n",
      "1        0.000000e+00      4.306515e+09           0.000000e+00          DZA   \n",
      "2        5.161400e+04      4.512640e+06           4.012867e+06          ATG   \n",
      "3        5.289592e+09      3.300022e+10           9.498279e+09          ARG   \n",
      "4        1.301590e+08      1.053062e+09           9.671751e+08          ARM   \n",
      "\n",
      "                                         Series_Name     Series_Code  \\\n",
      "0  Charges for the use of intellectual property, ...  BM.GSR.ROYL.CD   \n",
      "1  Charges for the use of intellectual property, ...  BM.GSR.ROYL.CD   \n",
      "2  Charges for the use of intellectual property, ...  BM.GSR.ROYL.CD   \n",
      "3  Charges for the use of intellectual property, ...  BM.GSR.ROYL.CD   \n",
      "4  Charges for the use of intellectual property, ...  BM.GSR.ROYL.CD   \n",
      "\n",
      "          2000  ...         2013         2014         2015         2016  \\\n",
      "0          0.0  ...  22607333.78  21881927.42  24578013.75  23163082.28   \n",
      "1          0.0  ...  162112437.3  143997401.9  250010594.1  152897904.4   \n",
      "2  288888.8889  ...  1181754.444  2975174.815  3074426.822  4026738.886   \n",
      "3  580337544.9  ...   2329270062   2098996166   2178066124   2108388364   \n",
      "4          0.0  ...          0.0          0.0          0.0          0.0   \n",
      "\n",
      "          2017         2018         2019         2020         2021  \\\n",
      "0  13132426.91   26412466.5  34784215.26  38609323.64  34763724.47   \n",
      "1  147268735.1  115089900.8  143098650.4  133392700.5  202987326.1   \n",
      "2  4961232.208  3790929.211  3964437.185  1307832.815  3187710.404   \n",
      "3   2350351645   2054243293   1688980859   1149104742   1397946196   \n",
      "4          0.0          0.0          0.0          0.0          0.0   \n",
      "\n",
      "          2022  \n",
      "0  31727566.82  \n",
      "1  122677213.9  \n",
      "2          0.0  \n",
      "3   1706885415  \n",
      "4          0.0  \n",
      "\n",
      "[5 rows x 32 columns]\n"
     ]
    }
   ],
   "source": [
    "#inner joining GDP df on Debt df\n",
    "gdp_debt_df = duckdb.sql(\"\"\"SELECT * FROM\n",
    "                         debt_df INNER JOIN filtered_gdp_df\n",
    "                         ON \n",
    "                         debt_df.Country \n",
    "                         = filtered_gdp_df.Country_Name\"\"\").df()\n",
    "\n",
    "#Dropping the redundant Country_Name column\n",
    "gdp_debt_df = gdp_debt_df.drop(\"Country_Name\", axis = 1)\n",
    "\n",
    "#inner joining Intellectual Property df on Debt df\n",
    "int_property_debt_df = duckdb.sql(\"\"\"SELECT * FROM\n",
    "                         debt_df INNER JOIN filtered_int_prop_df\n",
    "                         ON \n",
    "                         debt_df.Country \n",
    "                         = filtered_int_prop_df.Country_Name\"\"\").df()\n",
    "\n",
    "#Dropping the redundant Country_Name column\n",
    "int_property_debt_df = int_property_debt_df.drop(\"Country_Name\", axis = 1)\n",
    "\n",
    "print(gdp_debt_df.head(5))\n",
    "print(int_property_debt_df.head(5))"
   ]
  },
  {
   "cell_type": "code",
<<<<<<< HEAD
   "execution_count": 131,
=======
   "execution_count": 42,
>>>>>>> 593dc8a89e020ddb357c44ed055de34a89dcb488
   "metadata": {},
   "outputs": [
    {
     "name": "stdout",
     "output_type": "stream",
     "text": [
      "               Country  Original Principal Amount  Cancelled Amount  \\\n",
      "0              Albania               2.032160e+09      1.402591e+08   \n",
      "1              Armenia               1.224900e+09      4.430277e+07   \n",
      "2  Antigua and Barbuda               1.200000e+07      7.435746e+06   \n",
      "3           Azerbaijan               3.479300e+09      5.324351e+08   \n",
      "4              Burundi               4.800000e+06      0.000000e+00   \n",
      "\n",
      "   Undisbursed Amount  Disbursed Amount  Borrower's Obligation Country_Code  \\\n",
      "0         746585590.2      1.082344e+09           8.740135e+08          ALB   \n",
      "1         130159016.0      1.053062e+09           9.671751e+08          ARM   \n",
      "2             51614.0      4.512640e+06           4.012867e+06          ATG   \n",
      "3         108026863.4      2.838838e+09           1.250364e+09          AZE   \n",
      "4                 0.0      4.800000e+06           0.000000e+00          BDI   \n",
      "\n",
      "      Indicator_Name  Indicator_Code          2000  ...          2014  \\\n",
      "0  GDP (current US$)  NY.GDP.MKTP.CD  3.480355e+09  ...  1.322815e+10   \n",
      "1  GDP (current US$)  NY.GDP.MKTP.CD  1.911564e+09  ...  1.160951e+10   \n",
      "2  GDP (current US$)  NY.GDP.MKTP.CD  8.263704e+08  ...  1.249733e+09   \n",
      "3  GDP (current US$)  NY.GDP.MKTP.CD  5.272617e+09  ...  7.523974e+10   \n",
      "4  GDP (current US$)  NY.GDP.MKTP.CD  8.704861e+08  ...  2.705783e+09   \n",
      "\n",
      "           2015          2016          2017          2018          2019  \\\n",
      "0  1.138685e+10  1.186120e+10  1.301973e+10  1.515642e+10  1.540183e+10   \n",
      "1  1.055334e+10  1.054614e+10  1.152746e+10  1.245794e+10  1.361929e+10   \n",
      "2  1.336693e+09  1.436585e+09  1.467956e+09  1.604770e+09  1.675404e+09   \n",
      "3  5.307624e+10  3.786701e+10  4.086663e+10  4.711248e+10  4.817424e+10   \n",
      "4  3.104004e+09  2.644488e+09  2.723587e+09  2.667182e+09  2.576519e+09   \n",
      "\n",
      "           2020          2021          2022  developed  \n",
      "0  1.516273e+10  1.793057e+10  1.888210e+10        NaN  \n",
      "1  1.264170e+10  1.386141e+10  1.950278e+10        NaN  \n",
      "2  1.416348e+09  1.560519e+09  1.757604e+09        NaN  \n",
      "3  4.269300e+10  5.482541e+10  7.872106e+10        NaN  \n",
      "4  2.649680e+09  2.775799e+09  3.073415e+09        NaN  \n",
      "\n",
      "[5 rows x 33 columns]\n",
      "               Country  Original Principal Amount  Cancelled Amount  \\\n",
      "0              Albania               2.032160e+09      1.402591e+08   \n",
      "1              Algeria               5.911830e+09      1.605315e+09   \n",
      "2  Antigua and Barbuda               1.200000e+07      7.435746e+06   \n",
      "3              Armenia               1.224900e+09      4.430277e+07   \n",
      "4           Azerbaijan               3.479300e+09      5.324351e+08   \n",
      "\n",
      "   Undisbursed Amount  Disbursed Amount  Borrower's Obligation Country_Code  \\\n",
      "0         746585590.2      1.082344e+09           8.740135e+08          ALB   \n",
      "1                 0.0      4.306515e+09           0.000000e+00          DZA   \n",
      "2             51614.0      4.512640e+06           4.012867e+06          ATG   \n",
      "3         130159016.0      1.053062e+09           9.671751e+08          ARM   \n",
      "4         108026863.4      2.838838e+09           1.250364e+09          AZE   \n",
      "\n",
      "                                         Series_Name     Series_Code  \\\n",
      "0  Charges for the use of intellectual property, ...  BM.GSR.ROYL.CD   \n",
      "1  Charges for the use of intellectual property, ...  BM.GSR.ROYL.CD   \n",
      "2  Charges for the use of intellectual property, ...  BM.GSR.ROYL.CD   \n",
      "3  Charges for the use of intellectual property, ...  BM.GSR.ROYL.CD   \n",
      "4  Charges for the use of intellectual property, ...  BM.GSR.ROYL.CD   \n",
      "\n",
      "          2000  ...         2014         2015         2016         2017  \\\n",
      "0          0.0  ...  21881927.42  24578013.75  23163082.28  13132426.91   \n",
      "1          0.0  ...  143997401.9  250010594.1  152897904.4  147268735.1   \n",
      "2  288888.8889  ...  2975174.815  3074426.822  4026738.886  4961232.208   \n",
      "3          0.0  ...          0.0          0.0          0.0          0.0   \n",
      "4          0.0  ...          0.0          0.0          0.0          0.0   \n",
      "\n",
      "          2018         2019         2020         2021         2022 developed  \n",
      "0   26412466.5  34784215.26  38609323.64  34763724.47  31727566.82       NaN  \n",
      "1  115089900.8  143098650.4  133392700.5  202987326.1  122677213.9       NaN  \n",
      "2  3790929.211  3964437.185  1307832.815  3187710.404          0.0       NaN  \n",
      "3          0.0          0.0          0.0          0.0          0.0       NaN  \n",
      "4          0.0          0.0          0.0          0.0    198087000       NaN  \n",
      "\n",
      "[5 rows x 33 columns]\n"
     ]
    }
   ],
   "source": [
    "#adding developed countries df to gdp_debt_df\n",
    "gdp_dbt_dev_df = duckdb.sql(\"\"\"SELECT * FROM\n",
    "                         gdp_debt_df LEFT JOIN developed_countries_df\n",
    "                         ON gdp_debt_df.Country \n",
    "                         = developed_countries_df.country\"\"\").df()\n",
    "\n",
    "gdp_dbt_dev_df = gdp_dbt_dev_df.drop(columns = 'country')\n",
    "\n",
    "#adding developed countries df to int_prop_dbt_dev_df\n",
    "int_prop_dbt_dev_df = duckdb.sql(\"\"\"SELECT * FROM\n",
    "                         int_property_debt_df LEFT JOIN developed_countries_df\n",
    "                         ON int_property_debt_df.Country \n",
    "                         = developed_countries_df.country\"\"\").df()\n",
    "\n",
    "int_prop_dbt_dev_df = int_prop_dbt_dev_df.drop(columns = 'country')\n",
    "\n",
    "print(gdp_dbt_dev_df.head(5))\n",
    "print(int_prop_dbt_dev_df.head(5))"
   ]
  },
  {
   "cell_type": "code",
<<<<<<< HEAD
   "execution_count": 132,
=======
   "execution_count": 43,
>>>>>>> 593dc8a89e020ddb357c44ed055de34a89dcb488
   "metadata": {},
   "outputs": [
    {
     "name": "stdout",
     "output_type": "stream",
     "text": [
      "               Country  Original Principal Amount  Cancelled Amount  \\\n",
      "0              Albania               2.032160e+09      1.402591e+08   \n",
      "1              Armenia               1.224900e+09      4.430277e+07   \n",
      "2  Antigua and Barbuda               1.200000e+07      7.435746e+06   \n",
      "3           Azerbaijan               3.479300e+09      5.324351e+08   \n",
      "4              Burundi               4.800000e+06      0.000000e+00   \n",
      "\n",
      "   Undisbursed Amount  Disbursed Amount  Borrower's Obligation Country_Code  \\\n",
      "0         746585590.2      1.082344e+09           8.740135e+08          ALB   \n",
      "1         130159016.0      1.053062e+09           9.671751e+08          ARM   \n",
      "2             51614.0      4.512640e+06           4.012867e+06          ATG   \n",
      "3         108026863.4      2.838838e+09           1.250364e+09          AZE   \n",
      "4                 0.0      4.800000e+06           0.000000e+00          BDI   \n",
      "\n",
      "      Indicator_Name  Indicator_Code          2000  ...          2014  \\\n",
      "0  GDP (current US$)  NY.GDP.MKTP.CD  3.480355e+09  ...  1.322815e+10   \n",
      "1  GDP (current US$)  NY.GDP.MKTP.CD  1.911564e+09  ...  1.160951e+10   \n",
      "2  GDP (current US$)  NY.GDP.MKTP.CD  8.263704e+08  ...  1.249733e+09   \n",
      "3  GDP (current US$)  NY.GDP.MKTP.CD  5.272617e+09  ...  7.523974e+10   \n",
      "4  GDP (current US$)  NY.GDP.MKTP.CD  8.704861e+08  ...  2.705783e+09   \n",
      "\n",
      "           2015          2016          2017          2018          2019  \\\n",
      "0  1.138685e+10  1.186120e+10  1.301973e+10  1.515642e+10  1.540183e+10   \n",
      "1  1.055334e+10  1.054614e+10  1.152746e+10  1.245794e+10  1.361929e+10   \n",
      "2  1.336693e+09  1.436585e+09  1.467956e+09  1.604770e+09  1.675404e+09   \n",
      "3  5.307624e+10  3.786701e+10  4.086663e+10  4.711248e+10  4.817424e+10   \n",
      "4  3.104004e+09  2.644488e+09  2.723587e+09  2.667182e+09  2.576519e+09   \n",
      "\n",
      "           2020          2021          2022  developed  \n",
      "0  1.516273e+10  1.793057e+10  1.888210e+10        0.0  \n",
      "1  1.264170e+10  1.386141e+10  1.950278e+10        0.0  \n",
      "2  1.416348e+09  1.560519e+09  1.757604e+09        0.0  \n",
      "3  4.269300e+10  5.482541e+10  7.872106e+10        0.0  \n",
      "4  2.649680e+09  2.775799e+09  3.073415e+09        0.0  \n",
      "\n",
      "[5 rows x 33 columns]\n",
      "               Country  Original Principal Amount  Cancelled Amount  \\\n",
      "0              Albania               2.032160e+09      1.402591e+08   \n",
      "1              Algeria               5.911830e+09      1.605315e+09   \n",
      "2  Antigua and Barbuda               1.200000e+07      7.435746e+06   \n",
      "3              Armenia               1.224900e+09      4.430277e+07   \n",
      "4           Azerbaijan               3.479300e+09      5.324351e+08   \n",
      "\n",
      "   Undisbursed Amount  Disbursed Amount  Borrower's Obligation Country_Code  \\\n",
      "0         746585590.2      1.082344e+09           8.740135e+08          ALB   \n",
      "1                 0.0      4.306515e+09           0.000000e+00          DZA   \n",
      "2             51614.0      4.512640e+06           4.012867e+06          ATG   \n",
      "3         130159016.0      1.053062e+09           9.671751e+08          ARM   \n",
      "4         108026863.4      2.838838e+09           1.250364e+09          AZE   \n",
      "\n",
      "                                         Series_Name     Series_Code  \\\n",
      "0  Charges for the use of intellectual property, ...  BM.GSR.ROYL.CD   \n",
      "1  Charges for the use of intellectual property, ...  BM.GSR.ROYL.CD   \n",
      "2  Charges for the use of intellectual property, ...  BM.GSR.ROYL.CD   \n",
      "3  Charges for the use of intellectual property, ...  BM.GSR.ROYL.CD   \n",
      "4  Charges for the use of intellectual property, ...  BM.GSR.ROYL.CD   \n",
      "\n",
      "          2000  ...         2014         2015         2016         2017  \\\n",
      "0          0.0  ...  21881927.42  24578013.75  23163082.28  13132426.91   \n",
      "1          0.0  ...  143997401.9  250010594.1  152897904.4  147268735.1   \n",
      "2  288888.8889  ...  2975174.815  3074426.822  4026738.886  4961232.208   \n",
      "3          0.0  ...          0.0          0.0          0.0          0.0   \n",
      "4          0.0  ...          0.0          0.0          0.0          0.0   \n",
      "\n",
      "          2018         2019         2020         2021         2022 developed  \n",
      "0   26412466.5  34784215.26  38609323.64  34763724.47  31727566.82       0.0  \n",
      "1  115089900.8  143098650.4  133392700.5  202987326.1  122677213.9       0.0  \n",
      "2  3790929.211  3964437.185  1307832.815  3187710.404          0.0       0.0  \n",
      "3          0.0          0.0          0.0          0.0          0.0       0.0  \n",
      "4          0.0          0.0          0.0          0.0    198087000       0.0  \n",
      "\n",
      "[5 rows x 33 columns]\n"
     ]
    }
   ],
   "source": [
    "#filling NaN values in 'developed' columns of both dataframes with 0\n",
    "gdp_dbt_dev_df['developed'].replace(np.nan, value= 0, inplace = True)\n",
    "int_prop_dbt_dev_df['developed'].replace(np.nan, value= 0, inplace = True)\n",
    "\n",
    "\n",
    "int_prop_dbt_dev_df.to_csv(\"Int_Prop_Debt_Combined.csv\", index=False)\n",
    "gdp_dbt_dev_df.to_csv(\"GDP_Debt_Combined.csv\", index=False)\n",
    "\n",
    "\n",
    "print(gdp_dbt_dev_df.head(5))\n",
    "print(int_prop_dbt_dev_df.head(5))"
   ]
  },
  {
   "cell_type": "code",
<<<<<<< HEAD
   "execution_count": 133,
=======
   "execution_count": 44,
>>>>>>> 593dc8a89e020ddb357c44ed055de34a89dcb488
   "metadata": {},
   "outputs": [
    {
     "name": "stdout",
     "output_type": "stream",
     "text": [
      "Country                       object\n",
      "Original Principal Amount    float64\n",
      "Cancelled Amount             float64\n",
      "Undisbursed Amount           float64\n",
      "Disbursed Amount             float64\n",
      "Borrower's Obligation        float64\n",
      "Country_Code                  object\n",
      "Series_Name                   object\n",
      "Series_Code                   object\n",
      "2000                          object\n",
      "2001                          object\n",
      "2002                          object\n",
      "2003                          object\n",
      "2004                          object\n",
      "2005                          object\n",
      "2006                          object\n",
      "2007                          object\n",
      "2008                          object\n",
      "2009                          object\n",
      "2010                          object\n",
      "2011                          object\n",
      "2012                          object\n",
      "2013                          object\n",
      "2014                          object\n",
      "2015                          object\n",
      "2016                          object\n",
      "2017                          object\n",
      "2018                          object\n",
      "2019                          object\n",
      "2020                          object\n",
      "2021                          object\n",
      "2022                          object\n",
      "developed                    float64\n",
      "dtype: object\n",
      "Country                       object\n",
      "Original Principal Amount    float64\n",
      "Cancelled Amount             float64\n",
      "Undisbursed Amount           float64\n",
      "Disbursed Amount             float64\n",
      "Borrower's Obligation        float64\n",
      "Country_Code                  object\n",
      "Indicator_Name                object\n",
      "Indicator_Code                object\n",
      "2000                         float64\n",
      "2001                         float64\n",
      "2002                         float64\n",
      "2003                         float64\n",
      "2004                         float64\n",
      "2005                         float64\n",
      "2006                         float64\n",
      "2007                         float64\n",
      "2008                         float64\n",
      "2009                         float64\n",
      "2010                         float64\n",
      "2011                         float64\n",
      "2012                         float64\n",
      "2013                         float64\n",
      "2014                         float64\n",
      "2015                         float64\n",
      "2016                         float64\n",
      "2017                         float64\n",
      "2018                         float64\n",
      "2019                         float64\n",
      "2020                         float64\n",
      "2021                         float64\n",
      "2022                         float64\n",
      "developed                    float64\n",
      "dtype: object\n"
     ]
    }
   ],
   "source": [
    "print(int_prop_dbt_dev_df.dtypes)\n",
    "print(gdp_dbt_dev_df.dtypes)"
   ]
  },
  {
   "cell_type": "code",
<<<<<<< HEAD
   "execution_count": 134,
=======
   "execution_count": 45,
>>>>>>> 593dc8a89e020ddb357c44ed055de34a89dcb488
   "metadata": {},
   "outputs": [],
   "source": [
    "cols_to_fix = ['2000', '2001', '2002',\n",
    "       '2003', '2004', '2005', '2006', '2007', '2008', '2009', '2010', '2011',\n",
    "       '2012', '2013', '2014', '2015', '2016', '2017', '2018', '2019', '2020',\n",
    "       '2021', '2022']\n",
    "\n",
    "for col in cols_to_fix:\n",
    "  int_prop_dbt_dev_df[col] = int_prop_dbt_dev_df[col].astype(np.float64)"
   ]
  },
  {
   "cell_type": "markdown",
   "metadata": {},
   "source": [
    "## Data Analysis"
   ]
  },
  {
   "cell_type": "code",
<<<<<<< HEAD
   "execution_count": 135,
=======
   "execution_count": 46,
>>>>>>> 593dc8a89e020ddb357c44ed055de34a89dcb488
   "metadata": {},
   "outputs": [
    {
     "name": "stdout",
     "output_type": "stream",
     "text": [
      "Index(['Country', 'Original Principal Amount', 'Cancelled Amount',\n",
      "       'Undisbursed Amount', 'Disbursed Amount', 'Borrower's Obligation',\n",
      "       'Country_Code', 'Indicator_Name', 'Indicator_Code', '2000', '2001',\n",
      "       '2002', '2003', '2004', '2005', '2006', '2007', '2008', '2009', '2010',\n",
      "       '2011', '2012', '2013', '2014', '2015', '2016', '2017', '2018', '2019',\n",
      "       '2020', '2021', '2022', 'developed'],\n",
      "      dtype='object')\n"
     ]
    }
   ],
   "source": [
    "#checking the columns existing in the df to conduct the data analysis\n",
    "print(gdp_dbt_dev_df.columns)"
   ]
  },
  {
   "cell_type": "code",
<<<<<<< HEAD
   "execution_count": 136,
=======
   "execution_count": 47,
>>>>>>> 593dc8a89e020ddb357c44ed055de34a89dcb488
   "metadata": {},
   "outputs": [
    {
     "name": "stdout",
     "output_type": "stream",
     "text": [
      "        Country  Original Principal Amount  Cancelled Amount  \\\n",
      "count       135               1.350000e+02      1.350000e+02   \n",
      "unique      135                        NaN               NaN   \n",
      "top     Albania                        NaN               NaN   \n",
      "freq          1                        NaN               NaN   \n",
      "mean        NaN               6.013611e+09      7.263827e+08   \n",
      "std         NaN               1.405140e+10      1.819805e+09   \n",
      "min         NaN               2.600000e+06      0.000000e+00   \n",
      "25%         NaN               1.455000e+08      2.941172e+06   \n",
      "50%         NaN               6.260000e+08      6.564928e+07   \n",
      "75%         NaN               4.227310e+09      4.828613e+08   \n",
      "max         NaN               7.918036e+10      1.390867e+10   \n",
      "\n",
      "        Undisbursed Amount  Disbursed Amount  Borrower's Obligation  \\\n",
      "count         1.350000e+02      1.350000e+02           1.350000e+02   \n",
      "unique                 NaN               NaN                    NaN   \n",
      "top                    NaN               NaN                    NaN   \n",
      "freq                   NaN               NaN                    NaN   \n",
      "mean          6.198188e+08      4.687486e+09           1.727375e+09   \n",
      "std           1.691227e+09      1.101138e+10           3.995749e+09   \n",
      "min          -1.000000e-02      0.000000e+00          -2.000000e-02   \n",
      "25%           0.000000e+00      1.170043e+08           0.000000e+00   \n",
      "50%           1.000000e-02      5.063214e+08           1.382559e+07   \n",
      "75%           4.902135e+08      3.105956e+09           1.099291e+09   \n",
      "max           1.348451e+10      5.589227e+10           2.071285e+10   \n",
      "\n",
      "       Country_Code     Indicator_Name  Indicator_Code          2000  ...  \\\n",
      "count           135                135             135  1.350000e+02  ...   \n",
      "unique          135                  1               1           NaN  ...   \n",
      "top             ALB  GDP (current US$)  NY.GDP.MKTP.CD           NaN  ...   \n",
      "freq              1                135             135           NaN  ...   \n",
      "mean            NaN                NaN             NaN  1.233364e+11  ...   \n",
      "std             NaN                NaN             NaN  4.713690e+11  ...   \n",
      "min             NaN                NaN             NaN  0.000000e+00  ...   \n",
      "25%             NaN                NaN             NaN  3.686745e+09  ...   \n",
      "50%             NaN                NaN             NaN  1.178493e+10  ...   \n",
      "75%             NaN                NaN             NaN  6.563623e+10  ...   \n",
      "max             NaN                NaN             NaN  4.968360e+12  ...   \n",
      "\n",
      "                2014          2015          2016          2017          2018  \\\n",
      "count   1.350000e+02  1.350000e+02  1.350000e+02  1.350000e+02  1.350000e+02   \n",
      "unique           NaN           NaN           NaN           NaN           NaN   \n",
      "top              NaN           NaN           NaN           NaN           NaN   \n",
      "freq             NaN           NaN           NaN           NaN           NaN   \n",
      "mean    3.425931e+11  3.155700e+11  3.218605e+11  3.479329e+11  3.711574e+11   \n",
      "std     1.082320e+12  1.083229e+12  1.114224e+12  1.205385e+12  1.332259e+12   \n",
      "min     5.202074e+08  5.407370e+08  5.762296e+08  5.215519e+08  5.547704e+08   \n",
      "25%     1.279854e+10  1.164640e+10  1.185491e+10  1.319770e+10  1.424786e+10   \n",
      "50%     4.996483e+10  4.737860e+10  4.772355e+10  5.251234e+10  5.375141e+10   \n",
      "75%     2.291590e+11  1.953815e+11  2.013490e+11  2.199935e+11  2.461585e+11   \n",
      "max     1.047560e+13  1.106160e+13  1.123330e+13  1.231050e+13  1.389490e+13   \n",
      "\n",
      "                2019          2020          2021          2022   developed  \n",
      "count   1.350000e+02  1.350000e+02  1.350000e+02  1.350000e+02  135.000000  \n",
      "unique           NaN           NaN           NaN           NaN         NaN  \n",
      "top              NaN           NaN           NaN           NaN         NaN  \n",
      "freq             NaN           NaN           NaN           NaN         NaN  \n",
      "mean    3.752925e+11  3.625623e+11  4.161309e+11  4.253528e+11    0.325926  \n",
      "std     1.363609e+12  1.382994e+12  1.644602e+12  1.647569e+12    0.470465  \n",
      "min     6.115370e+08  5.042148e+08  0.000000e+00  0.000000e+00    0.000000  \n",
      "25%     1.432135e+10  1.318221e+10  1.435030e+10  1.551456e+10    0.000000  \n",
      "50%     5.433159e+10  5.335648e+10  6.174859e+10  6.350175e+10    0.000000  \n",
      "75%     2.517830e+11  2.486690e+11  2.835980e+11  2.858750e+11    1.000000  \n",
      "max     1.428000e+13  1.468770e+13  1.782050e+13  1.796320e+13    1.000000  \n",
      "\n",
      "[11 rows x 33 columns]\n"
     ]
    }
   ],
   "source": [
    "#collecting the summary statistics related to GDP & Debt\n",
    "print(gdp_dbt_dev_df.describe(include='all'))"
   ]
  },
  {
   "cell_type": "code",
<<<<<<< HEAD
   "execution_count": 137,
=======
   "execution_count": 48,
>>>>>>> 593dc8a89e020ddb357c44ed055de34a89dcb488
   "metadata": {},
   "outputs": [
    {
     "name": "stdout",
     "output_type": "stream",
     "text": [
      "        Country  Original Principal Amount  Cancelled Amount  \\\n",
      "count       135               1.350000e+02      1.350000e+02   \n",
      "unique      135                        NaN               NaN   \n",
      "top     Albania                        NaN               NaN   \n",
      "freq          1                        NaN               NaN   \n",
      "mean        NaN               6.013611e+09      7.263827e+08   \n",
      "std         NaN               1.405140e+10      1.819805e+09   \n",
      "min         NaN               2.600000e+06      0.000000e+00   \n",
      "25%         NaN               1.455000e+08      2.941172e+06   \n",
      "50%         NaN               6.260000e+08      6.564928e+07   \n",
      "75%         NaN               4.227310e+09      4.828613e+08   \n",
      "max         NaN               7.918036e+10      1.390867e+10   \n",
      "\n",
      "        Undisbursed Amount  Disbursed Amount  Borrower's Obligation  \\\n",
      "count         1.350000e+02      1.350000e+02           1.350000e+02   \n",
      "unique                 NaN               NaN                    NaN   \n",
      "top                    NaN               NaN                    NaN   \n",
      "freq                   NaN               NaN                    NaN   \n",
      "mean          6.198188e+08      4.687486e+09           1.727375e+09   \n",
      "std           1.691227e+09      1.101138e+10           3.995749e+09   \n",
      "min          -1.000000e-02      0.000000e+00          -2.000000e-02   \n",
      "25%           0.000000e+00      1.170043e+08           0.000000e+00   \n",
      "50%           1.000000e-02      5.063214e+08           1.382559e+07   \n",
      "75%           4.902135e+08      3.105956e+09           1.099291e+09   \n",
      "max           1.348451e+10      5.589227e+10           2.071285e+10   \n",
      "\n",
      "       Country_Code                                        Series_Name  \\\n",
      "count           135                                                135   \n",
      "unique          135                                                  1   \n",
      "top             ALB  Charges for the use of intellectual property, ...   \n",
      "freq              1                                                135   \n",
      "mean            NaN                                                NaN   \n",
      "std             NaN                                                NaN   \n",
      "min             NaN                                                NaN   \n",
      "25%             NaN                                                NaN   \n",
      "50%             NaN                                                NaN   \n",
      "75%             NaN                                                NaN   \n",
      "max             NaN                                                NaN   \n",
      "\n",
      "           Series_Code          2000  ...          2014          2015  \\\n",
      "count              135  1.350000e+02  ...  1.350000e+02  1.350000e+02   \n",
      "unique               1           NaN  ...           NaN           NaN   \n",
      "top     BM.GSR.ROYL.CD           NaN  ...           NaN           NaN   \n",
      "freq               135           NaN  ...           NaN           NaN   \n",
      "mean               NaN  2.803771e+08  ...  1.942604e+09  2.158365e+09   \n",
      "std                NaN  1.151011e+09  ...  7.144004e+09  9.143223e+09   \n",
      "min                NaN  0.000000e+00  ...  0.000000e+00  0.000000e+00   \n",
      "25%                NaN  0.000000e+00  ...  3.104481e+06  3.228290e+06   \n",
      "50%                NaN  3.700007e+06  ...  5.076225e+07  4.834977e+07   \n",
      "75%                NaN  5.932668e+07  ...  6.573998e+08  6.458967e+08   \n",
      "max                NaN  1.100679e+10  ...  5.726775e+10  7.216383e+10   \n",
      "\n",
      "                2016          2017          2018          2019          2020  \\\n",
      "count   1.350000e+02  1.350000e+02  1.350000e+02  1.350000e+02  1.350000e+02   \n",
      "unique           NaN           NaN           NaN           NaN           NaN   \n",
      "top              NaN           NaN           NaN           NaN           NaN   \n",
      "freq             NaN           NaN           NaN           NaN           NaN   \n",
      "mean    1.961910e+09  2.104487e+09  2.312816e+09  2.346645e+09  2.340195e+09   \n",
      "std     7.936774e+09  8.156267e+09  9.162585e+09  9.639089e+09  9.817989e+09   \n",
      "min     0.000000e+00  0.000000e+00  0.000000e+00  0.000000e+00  0.000000e+00   \n",
      "25%     2.642712e+06  4.050991e+06  5.296505e+06  4.643056e+06  2.958590e+06   \n",
      "50%     5.075662e+07  5.141487e+07  5.117010e+07  5.870813e+07  6.472302e+07   \n",
      "75%     7.500196e+08  9.019878e+08  8.985973e+08  8.602294e+08  7.871088e+08   \n",
      "max     7.656042e+10  7.529754e+10  8.548230e+10  9.426233e+10  9.682507e+10   \n",
      "\n",
      "                2021          2022   developed  \n",
      "count   1.350000e+02  1.350000e+02  135.000000  \n",
      "unique           NaN           NaN         NaN  \n",
      "top              NaN           NaN         NaN  \n",
      "freq             NaN           NaN         NaN  \n",
      "mean    2.648436e+09  2.645443e+09    0.325926  \n",
      "std     1.252617e+10  1.276865e+10    0.470465  \n",
      "min     0.000000e+00  0.000000e+00    0.000000  \n",
      "25%     2.946400e+06  0.000000e+00    0.000000  \n",
      "50%     6.311211e+07  2.519415e+07    0.000000  \n",
      "75%     8.157664e+08  6.913908e+08    1.000000  \n",
      "max     1.330140e+11  1.369110e+11    1.000000  \n",
      "\n",
      "[11 rows x 33 columns]\n"
     ]
    }
   ],
   "source": [
    "#collecting the summary statistics related to Intellectual Property & Debt\n",
    "print(int_prop_dbt_dev_df.describe(include='all'))"
   ]
  },
  {
   "cell_type": "markdown",
   "metadata": {},
   "source": [
    "## Preregistration of Hypotheses"
   ]
  },
  {
   "cell_type": "markdown",
   "metadata": {},
   "source": [
    "Hypothesis 1: If a country’s borrower's obligation is greater, then they will be more likely to be a developed country. \n",
    "\n",
    "Analysis: We will conduct a logistic regression where we output whether or not a country is developed or developing (a dummy variable) based on an input of the borrower’s obligation (in USD dollars). The developed country dummy will be the reference variable, so we will test whether $e^\\beta$, where $\\beta$ is the coefficient output by the regression equation for the 'Borrower's Obligation' variable, is greater than 1.\n",
    "\n",
    "Hypothesis 2: The higher a country’s GDP (in USD Dollars), the higher the intellectual property charges (in USD Dollars). \n",
    "\n",
    "Analysis: We will conduct a linear regression where we input the GDP of a country and output the intellectual property charges. We would test whether  (the regression coefficient of GDP in our equation) is greater than 0 (if an increase in GDP causes an increase in Intellectual Property Charges). \n"
   ]
  },
  {
   "cell_type": "markdown",
   "metadata": {},
   "source": [
    "### Hypothesis 1: Logistic Regression"
   ]
  },
  {
   "cell_type": "code",
<<<<<<< HEAD
   "execution_count": 138,
=======
   "execution_count": 49,
>>>>>>> 593dc8a89e020ddb357c44ed055de34a89dcb488
   "metadata": {},
   "outputs": [
    {
     "name": "stdout",
     "output_type": "stream",
     "text": [
      "   Country  Original Principal Amount  Cancelled Amount  Undisbursed Amount  \\\n",
      "0  Albania               2.032160e+09      1.402591e+08         746585590.2   \n",
      "1  Armenia               1.224900e+09      4.430277e+07         130159016.0   \n",
      "\n",
      "   Disbursed Amount  Borrower's Obligation Country_Code     Indicator_Name  \\\n",
      "0      1.082344e+09            874013475.8          ALB  GDP (current US$)   \n",
      "1      1.053062e+09            967175073.4          ARM  GDP (current US$)   \n",
      "\n",
      "   Indicator_Code          2000  ...          2014          2015  \\\n",
      "0  NY.GDP.MKTP.CD  3.480355e+09  ...  1.322815e+10  1.138685e+10   \n",
      "1  NY.GDP.MKTP.CD  1.911564e+09  ...  1.160951e+10  1.055334e+10   \n",
      "\n",
      "           2016          2017          2018          2019          2020  \\\n",
      "0  1.186120e+10  1.301973e+10  1.515642e+10  1.540183e+10  1.516273e+10   \n",
      "1  1.054614e+10  1.152746e+10  1.245794e+10  1.361929e+10  1.264170e+10   \n",
      "\n",
      "           2021          2022  developed  \n",
      "0  1.793057e+10  1.888210e+10        0.0  \n",
      "1  1.386141e+10  1.950278e+10        0.0  \n",
      "\n",
      "[2 rows x 33 columns]\n"
     ]
    }
   ],
   "source": [
    "#loading in cleaned csv from phase 2 (gdp data, debt data, and developed binary\n",
    "#variable)\n",
    "\n",
    "gdp_debt_csv = pd.read_csv(\"./GDP_Debt_Combined.csv\")\n",
    "print(gdp_debt_csv.head(2))"
   ]
  },
  {
   "cell_type": "code",
<<<<<<< HEAD
   "execution_count": 139,
=======
   "execution_count": 50,
>>>>>>> 593dc8a89e020ddb357c44ed055de34a89dcb488
   "metadata": {},
   "outputs": [
    {
     "name": "stderr",
     "output_type": "stream",
     "text": [
      "No artists with labels found to put in legend.  Note that artists whose label start with an underscore are ignored when legend() is called with no argument.\n"
     ]
    },
    {
     "data": {
      "text/plain": [
<<<<<<< HEAD
       "<matplotlib.legend.Legend at 0x21b2831dd90>"
      ]
     },
     "execution_count": 139,
=======
       "<matplotlib.legend.Legend at 0x7fdf4c1eeac0>"
      ]
     },
     "execution_count": 50,
>>>>>>> 593dc8a89e020ddb357c44ed055de34a89dcb488
     "metadata": {},
     "output_type": "execute_result"
    },
    {
     "data": {
      "image/png": "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",
      "text/plain": [
       "<Figure size 1000x600 with 1 Axes>"
      ]
     },
     "metadata": {},
     "output_type": "display_data"
    }
   ],
   "source": [
    "#plotting the data prior to the regression analysis, to get a visual\n",
    "#understanding of borrower's obligation  in relation to developed/developing\n",
    "\n",
    "plt.figure(figsize = (10, 6))\n",
    "sns.scatterplot(y = gdp_debt_csv['developed'], x = gdp_debt_csv['Borrower\\'s Obligation'])\n",
    "plt.ylabel('Developed Binary Value')\n",
    "plt.xlabel('Borrower\\'s Obligation (Billions of $)')\n",
    "plt.legend()"
   ]
  },
  {
   "cell_type": "code",
<<<<<<< HEAD
   "execution_count": 140,
=======
   "execution_count": 51,
>>>>>>> 593dc8a89e020ddb357c44ed055de34a89dcb488
   "metadata": {},
   "outputs": [
    {
     "name": "stdout",
     "output_type": "stream",
     "text": [
      "Optimization terminated successfully.\n",
      "         Current function value: 0.615077\n",
      "         Iterations 6\n",
      "                           Logit Regression Results                           \n",
      "==============================================================================\n",
      "Dep. Variable:              developed   No. Observations:                  135\n",
      "Model:                          Logit   Df Residuals:                      133\n",
      "Method:                           MLE   Df Model:                            1\n",
<<<<<<< HEAD
      "Date:                Sun, 03 Dec 2023   Pseudo R-squ.:                 0.02563\n",
      "Time:                        18:57:09   Log-Likelihood:                -83.035\n",
=======
      "Date:                Tue, 28 Nov 2023   Pseudo R-squ.:                 0.02563\n",
      "Time:                        15:40:17   Log-Likelihood:                -83.035\n",
>>>>>>> 593dc8a89e020ddb357c44ed055de34a89dcb488
      "converged:                       True   LL-Null:                       -85.220\n",
      "Covariance Type:            nonrobust   LLR p-value:                   0.03662\n",
      "=========================================================================================\n",
      "                            coef    std err          z      P>|z|      [0.025      0.975]\n",
      "-----------------------------------------------------------------------------------------\n",
      "const                    -0.5563      0.200     -2.786      0.005      -0.948      -0.165\n",
      "Borrower's Obligation -1.287e-10   7.55e-11     -1.703      0.088   -2.77e-10    1.94e-11\n",
      "=========================================================================================\n"
     ]
    }
   ],
   "source": [
    "#fitting model and looking at coefficient\n",
    "y = gdp_debt_csv['developed']\n",
    "X = gdp_debt_csv[['Borrower\\'s Obligation']]\n",
    "X_sm = sm.add_constant(X)\n",
    "b_obl_model = sm.Logit(y,X_sm).fit()\n",
    "#b_obl_coeff = b_obl_model.coef_\n",
    "#print(f\"The model's coefficient is {b_obl_coeff}\")\n",
    "#print(f\"The value for e^(beta) is {math.exp(b_obl_coeff)}\")\n",
    "#print(f\"The p value is {sm.p}\")\n",
    "print(b_obl_model.summary())"
   ]
  },
  {
   "cell_type": "markdown",
   "metadata": {},
   "source": [
    "In this case, the value for $e^\\beta$ is approximately 1.  This means that for every dollar change in the amount of money for a country's Borrower's Obligation, we expect that the odds of a country being developed are multiplied by 1.  This is inconclusive, because it means that the odds of a country being developed stay the same regardless of any change in borrower's obligation.  As a result, our hypothesis was not true. In addition, the p-value is 0.088 which is greater than 0.05, so that means the output is not significant."
   ]
  },
  {
   "cell_type": "code",
<<<<<<< HEAD
   "execution_count": 141,
=======
   "execution_count": null,
>>>>>>> 593dc8a89e020ddb357c44ed055de34a89dcb488
   "metadata": {},
   "outputs": [],
   "source": [
    "year_columns = [str(year) for year in range(2000, 2023)]\n",
    "year_loan = ['Borrower\\'s Obligation'] + year_columns\n",
    "\n",
    "# creating a correlation matrix\n",
    "correlation_matrix = gdp_dbt_dev_df[year_loan].corr()\n",
    "\n",
    "# creating the heatmap\n",
    "plt.figure(figsize=(12, 8))\n",
    "sns.heatmap(correlation_matrix, annot=True, cmap='coolwarm', linewidths=0.5)\n",
    "plt.title('Heatmap of Correlation Between GDP and Borrower\\'s Obligation')\n",
    "plt.show()"
   ]
  },
  {
   "cell_type": "code",
<<<<<<< HEAD
   "execution_count": 142,
=======
   "execution_count": 53,
>>>>>>> 593dc8a89e020ddb357c44ed055de34a89dcb488
   "metadata": {},
   "outputs": [
    {
     "ename": "NameError",
     "evalue": "name 'developed_df' is not defined",
     "output_type": "error",
     "traceback": [
      "\u001b[0;31m---------------------------------------------------------------------------\u001b[0m",
      "\u001b[0;31mNameError\u001b[0m                                 Traceback (most recent call last)",
      "Cell \u001b[0;32mIn[53], line 4\u001b[0m\n\u001b[1;32m      1\u001b[0m \u001b[38;5;66;03m#plotting a line graph of the average GDP growth over the years\u001b[39;00m\n\u001b[1;32m      2\u001b[0m \u001b[38;5;66;03m#for developed vs developing countries\u001b[39;00m\n\u001b[1;32m      3\u001b[0m plt\u001b[38;5;241m.\u001b[39mfigure(figsize\u001b[38;5;241m=\u001b[39m(\u001b[38;5;241m12\u001b[39m,\u001b[38;5;241m6\u001b[39m))\n\u001b[0;32m----> 4\u001b[0m \u001b[43mdeveloped_df\u001b[49m\u001b[38;5;241m.\u001b[39mloc[:, \u001b[38;5;124m'\u001b[39m\u001b[38;5;124m2000\u001b[39m\u001b[38;5;124m'\u001b[39m:\u001b[38;5;124m'\u001b[39m\u001b[38;5;124m2022\u001b[39m\u001b[38;5;124m'\u001b[39m]\u001b[38;5;241m.\u001b[39mmean()\u001b[38;5;241m.\u001b[39mplot(label\u001b[38;5;241m=\u001b[39m\u001b[38;5;124m'\u001b[39m\u001b[38;5;124mDeveloped\u001b[39m\u001b[38;5;124m'\u001b[39m)\n\u001b[1;32m      5\u001b[0m developing_df\u001b[38;5;241m.\u001b[39mloc[:, \u001b[38;5;124m'\u001b[39m\u001b[38;5;124m2000\u001b[39m\u001b[38;5;124m'\u001b[39m:\u001b[38;5;124m'\u001b[39m\u001b[38;5;124m2022\u001b[39m\u001b[38;5;124m'\u001b[39m]\u001b[38;5;241m.\u001b[39mmean()\u001b[38;5;241m.\u001b[39mplot(label\u001b[38;5;241m=\u001b[39m\u001b[38;5;124m'\u001b[39m\u001b[38;5;124mDeveloping\u001b[39m\u001b[38;5;124m'\u001b[39m)\n\u001b[1;32m      6\u001b[0m plt\u001b[38;5;241m.\u001b[39mtitle(\u001b[38;5;124m'\u001b[39m\u001b[38;5;124mAverage GDP Over the Years: Developed vs Developing\u001b[39m\u001b[38;5;124m'\u001b[39m)\n",
      "\u001b[0;31mNameError\u001b[0m: name 'developed_df' is not defined"
     ]
    },
    {
     "data": {
      "text/plain": [
       "<Figure size 1200x600 with 0 Axes>"
      ]
     },
     "metadata": {},
     "output_type": "display_data"
    }
   ],
   "source": [
    "#plotting a line graph of the average GDP growth over the years\n",
    "#for developed vs developing countries\n",
    "plt.figure(figsize=(12,6))\n",
    "developed_df.loc[:, '2000':'2022'].mean().plot(label='Developed')\n",
    "developing_df.loc[:, '2000':'2022'].mean().plot(label='Developing')\n",
    "plt.title('Average GDP Over the Years: Developed vs Developing')\n",
    "plt.xlabel('Year')\n",
    "plt.ylabel('Average GDP')\n",
    "plt.legend()\n",
    "plt.grid(True)\n",
    "plt.show()"
   ]
  },
  {
   "cell_type": "code",
<<<<<<< HEAD
   "execution_count": 143,
=======
   "execution_count": null,
>>>>>>> 593dc8a89e020ddb357c44ed055de34a89dcb488
   "metadata": {},
   "outputs": [],
   "source": [
    "#analyzing the distribution of Borrower's Obligation for developed\n",
    "#vs developing countries in histogram\n",
    "plt.figure(figsize=(10,6))\n",
    "sns.histplot(developed_df['Borrower\\'s Obligation'], kde=True, \n",
    "             label='Developed', color='blue')\n",
    "sns.histplot(developing_df['Borrower\\'s Obligation'], kde=True, \n",
    "             label='Developing', color='red')\n",
    "plt.title('Distribution of Borrower\\'s Obligation: Developed vs Developing')\n",
    "plt.xlabel('Borrower\\'s Obligation (Billions of $)')\n",
    "plt.ylabel('Frequency')\n",
    "plt.legend()\n",
    "plt.show()"
   ]
  },
  {
   "cell_type": "code",
<<<<<<< HEAD
   "execution_count": 144,
=======
   "execution_count": null,
>>>>>>> 593dc8a89e020ddb357c44ed055de34a89dcb488
   "metadata": {},
   "outputs": [],
   "source": [
    "# analyzing the distribution of \"Borrower's Obligation\" (debt owed by country)\n",
    "plt.figure(figsize=(10,6))\n",
    "sns.histplot(gdp_dbt_dev_df['Borrower\\'s Obligation'], kde=True)\n",
    "plt.title('Distribution of Borrower\\'s Obligation')\n",
    "plt.xlabel('Borrower\\'s Obligation')\n",
    "plt.ylabel('Frequency')\n",
    "plt.show()"
   ]
  },
  {
   "cell_type": "code",
<<<<<<< HEAD
   "execution_count": 145,
=======
   "execution_count": null,
>>>>>>> 593dc8a89e020ddb357c44ed055de34a89dcb488
   "metadata": {},
   "outputs": [],
   "source": [
    "plt.figure(figsize=(10,6))\n",
    "sns.scatterplot(data=gdp_dbt_dev_df, y='Borrower\\'s Obligation', x='2020',\n",
    "                hue='developed', palette=\"viridis\")\n",
    "plt.title('GDP (2020) vs Borrower\\'s Obligation')\n",
    "plt.ylabel('Borrower\\'s Obligation (Billions of $)')\n",
    "plt.xlabel('GDP for the Year 2020 (Billions of $)')\n",
    "plt.show()"
   ]
  },
  {
   "cell_type": "markdown",
   "metadata": {},
   "source": [
    "### Hypothesis 2: Linear Regression"
   ]
  },
  {
   "cell_type": "code",
<<<<<<< HEAD
   "execution_count": 146,
=======
   "execution_count": null,
>>>>>>> 593dc8a89e020ddb357c44ed055de34a89dcb488
   "metadata": {},
   "outputs": [],
   "source": [
    "ip_debt_csv = pd.read_csv(\"./Int_Prop_Debt_Combined.csv\")\n",
    "print(ip_debt_csv.head(2))"
   ]
  },
  {
   "cell_type": "code",
<<<<<<< HEAD
   "execution_count": 147,
=======
   "execution_count": null,
>>>>>>> 593dc8a89e020ddb357c44ed055de34a89dcb488
   "metadata": {},
   "outputs": [],
   "source": [
    "data_columns = ['2000', '2001', '2002', '2003', '2004', '2005', '2006', '2007', '2008',\n",
    "       '2009', '2010', '2011', '2012', '2013', '2014', '2015', '2016', '2017',\n",
    "       '2018', '2019', '2020', '2021', '2022']\n",
    "\n",
    "ip_avg = ip_debt_csv[data_columns].mean(axis = 1)\n",
    "ip_debt_csv['avg'] = ip_avg\n",
    "print(ip_debt_csv.head())\n",
    "\n",
    "gdp_avg = gdp_debt_csv[data_columns].mean(axis = 1)\n",
    "gdp_debt_csv['avg'] = gdp_avg\n",
    "print(gdp_debt_csv.head())"
   ]
  },
  {
   "cell_type": "code",
<<<<<<< HEAD
   "execution_count": 148,
   "metadata": {},
   "outputs": [
    {
     "name": "stdout",
     "output_type": "stream",
     "text": [
      "                            OLS Regression Results                            \n",
      "==============================================================================\n",
      "Dep. Variable:                      y   R-squared:                       0.006\n",
      "Model:                            OLS   Adj. R-squared:                 -0.001\n",
      "Method:                 Least Squares   F-statistic:                    0.8259\n",
      "Date:                Sun, 03 Dec 2023   Prob (F-statistic):              0.365\n",
      "Time:                        18:57:10   Log-Likelihood:                -3219.3\n",
      "No. Observations:                 135   AIC:                             6443.\n",
      "Df Residuals:                     133   BIC:                             6448.\n",
      "Df Model:                           1                                         \n",
      "Covariance Type:            nonrobust                                         \n",
      "==============================================================================\n",
      "                 coef    std err          t      P>|t|      [0.025      0.975]\n",
      "------------------------------------------------------------------------------\n",
      "const       1.334e+09      5e+08      2.666      0.009    3.44e+08    2.32e+09\n",
      "avg            0.0005      0.001      0.909      0.365      -0.001       0.002\n",
      "==============================================================================\n",
      "Omnibus:                      203.957   Durbin-Watson:                   2.044\n",
      "Prob(Omnibus):                  0.000   Jarque-Bera (JB):            11955.659\n",
      "Skew:                           6.252   Prob(JB):                         0.00\n",
      "Kurtosis:                      47.375   Cond. No.                     9.54e+11\n",
      "==============================================================================\n",
      "\n",
      "Notes:\n",
      "[1] Standard Errors assume that the covariance matrix of the errors is correctly specified.\n",
      "[2] The condition number is large, 9.54e+11. This might indicate that there are\n",
      "strong multicollinearity or other numerical problems.\n"
     ]
    }
   ],
=======
   "execution_count": null,
   "metadata": {},
   "outputs": [],
>>>>>>> 593dc8a89e020ddb357c44ed055de34a89dcb488
   "source": [
    "gdp_ip_model = LinearRegression().fit(X = gdp_debt_csv[['avg']], y = ip_avg)\n",
    "gdp_coeff = gdp_ip_model.coef_\n",
    "print(f\"The coefficient for the GDP variable is {gdp_coeff[0]}\")"
   ]
  },
  {
   "cell_type": "markdown",
   "metadata": {},
   "source": [
    "In this case, the value for the coefficient of the GDP variable in the linear regression is 0.005006.  This means that for every dollar change in the amount of money for a country's Gross Domestic Product is, we can expect the country's Intellectual Property Charges to increase by $0.0005.  This is an extremely small amount, but because our GDP and Intellectual Property Charge values are in the Billions, it does show an positive correlation between GDP and Intellectual Property Charge.  As a result, our hypothesis was true to an extent."
   ]
  },
  {
   "cell_type": "markdown",
   "metadata": {},
   "source": [
    "Plan for rest: Conduct regression to predict gdp from intellectual property charges in each year using train test, look at residuals\n",
    "\n",
    "Conduct hypothesis test to compare mean gdps for developed and developing countries\n",
    "\n",
    "Conduct logistic regression to tyr to predict whether country is developed or developing from gdps and ip charges since 2000"
   ]
  },
  {
   "cell_type": "code",
<<<<<<< HEAD
   "execution_count": 149,
=======
   "execution_count": null,
>>>>>>> 593dc8a89e020ddb357c44ed055de34a89dcb488
   "metadata": {},
   "outputs": [],
   "source": [
    "data_columns = ['2000', '2001', '2002', '2003', '2004', '2005', '2006', '2007', '2008',\n",
    "       '2009', '2010', '2011', '2012', '2013', '2014', '2015', '2016', '2017',\n",
    "       '2018', '2019', '2020', '2021', '2022']\n",
    "\n",
    "data_columns_with_dev = ['2000', '2001', '2002', '2003', '2004', '2005', '2006', '2007', '2008',\n",
    "       '2009', '2010', '2011', '2012', '2013', '2014', '2015', '2016', '2017',\n",
    "       '2018', '2019', '2020', '2021', '2022', 'developed']\n",
    "\n",
    "ip_years_data = ip_debt_csv[data_columns_with_dev]\n",
    "ip_years_data['gdp_average'] = gdp_avg\n",
    "ip_years_data.head()\n",
    "\n",
    "ip_years_data_developed = duckdb.sql('SELECT * FROM ip_years_data WHERE developed = 1.0').df()\n",
    "ip_years_data_developing = duckdb.sql('SELECT * FROM ip_years_data WHERE developed = 0.0').df()\n",
    "\n"
   ]
  },
  {
   "cell_type": "code",
<<<<<<< HEAD
   "execution_count": 150,
=======
   "execution_count": null,
>>>>>>> 593dc8a89e020ddb357c44ed055de34a89dcb488
   "metadata": {},
   "outputs": [],
   "source": [
    "#average IP change over years, developed vs developing\n",
    "ip_developed_df = int_prop_dbt_dev_df[int_prop_dbt_dev_df['developed'] == 1.0]\n",
    "ip_developing_df = int_prop_dbt_dev_df[int_prop_dbt_dev_df['developed'] == 0.0]\n",
    "\n",
    "plt.figure(figsize=(12,6))\n",
    "ip_developed_df.loc[:, '2000':'2022'].mean().plot(label='Developed')\n",
    "ip_developing_df.loc[:, '2000':'2022'].mean().plot(label='Developing')\n",
    "plt.title('Average Intellectual Property Charges Over the Years: Developed'\n",
    "          +' vs Developing')\n",
    "plt.xlabel('Year')\n",
    "plt.ylabel('Average IP Charge (Billions of $)')\n",
    "plt.legend()\n",
    "plt.grid(True)\n",
    "plt.show()"
   ]
  },
  {
   "cell_type": "markdown",
   "metadata": {},
   "source": [
<<<<<<< HEAD
    "From the line plot, we can see that there is an overall positive trend for both developing and developed countries' intellectual properties as years since 2000 increases -- there is, however a lot of local variation (especially for developed countries) and the increase in intellectual property charges is much larger in magnitude for developed countries than developing countries.  As a result, exploring individual years impacts, as well as the time since the year 2000's impacts on intellectual property charges might be insightful."
   ]
  },
  {
   "cell_type": "markdown",
   "metadata": {},
   "source": [
    "#### Looking at Year's Impact on Intellectual Property Charges For Both Developing and Developed Countries"
   ]
  },
  {
   "cell_type": "markdown",
   "metadata": {},
   "source": [
    "First, we want to create a dependent and independent variable set for both developed and developing countries -- the independent variable (x) will be 'number of years since 2000' and the dependent variable (y) will be 'average intellectual property charge' for all countries in the developed/developing category for that year."
   ]
  },
  {
   "cell_type": "code",
   "execution_count": 151,
   "metadata": {},
   "outputs": [],
   "source": [
    "#only data containing ip charges and years for developing countries\n",
    "ip_df_deving_only_years = ip_years_data_developing.loc[:, '2000':'2022']\n",
    "\n",
    "#only data containing ip charges and years for developing countries\n",
    "ip_df_deved_only_years =ip_years_data_developed.loc[:, '2000':'2022']\n",
    "\n",
    "#averages for both dataframes\n",
    "ip_avg_deving = ip_df_deving_only_years.mean()\n",
    "ip_avg_deved = ip_df_deved_only_years.mean()\n",
    "\n",
    "#resetting index column to be 0-22 (to match years since 2000)\n",
    "ip_avg_deving = ip_avg_deving.reset_index(drop=True)\n",
    "ip_avg_deved = ip_avg_deved.reset_index(drop=True)\n",
    "\n",
    "#creating an array with values [0,22] to represent years since 2000\n",
    "years_since_2000 = pd.DataFrame(np.arange(0,23))\n",
    "years_since_2000 = years_since_2000.rename(columns={0 : \"YearsSince2000\"})"
   ]
  },
  {
   "cell_type": "markdown",
   "metadata": {},
   "source": [
    "Now, we will conduct a linear regression for both developing and developed countries to see if Number of Years Since 2000 has a significant impact on either category's Intellectual Property Charges."
   ]
  },
  {
   "cell_type": "code",
   "execution_count": 152,
   "metadata": {},
   "outputs": [
    {
     "name": "stdout",
     "output_type": "stream",
     "text": [
      "Developed Country Summary:\n",
      "                            OLS Regression Results                            \n",
      "==============================================================================\n",
      "Dep. Variable:                      y   R-squared:                       0.972\n",
      "Model:                            OLS   Adj. R-squared:                  0.970\n",
      "Method:                 Least Squares   F-statistic:                     718.6\n",
      "Date:                Sun, 03 Dec 2023   Prob (F-statistic):           1.00e-17\n",
      "Time:                        18:57:10   Log-Likelihood:                -481.43\n",
      "No. Observations:                  23   AIC:                             966.9\n",
      "Df Residuals:                      21   BIC:                             969.1\n",
      "Df Model:                           1                                         \n",
      "Covariance Type:            nonrobust                                         \n",
      "==================================================================================\n",
      "                     coef    std err          t      P>|t|      [0.025      0.975]\n",
      "----------------------------------------------------------------------------------\n",
      "const           6.715e+08   1.26e+08      5.331      0.000     4.1e+08    9.33e+08\n",
      "YearsSince2000  2.629e+08   9.81e+06     26.808      0.000    2.42e+08    2.83e+08\n",
      "==============================================================================\n",
      "Omnibus:                        3.379   Durbin-Watson:                   1.192\n",
      "Prob(Omnibus):                  0.185   Jarque-Bera (JB):                1.769\n",
      "Skew:                           0.614   Prob(JB):                        0.413\n",
      "Kurtosis:                       3.583   Cond. No.                         25.0\n",
      "==============================================================================\n",
      "\n",
      "Notes:\n",
      "[1] Standard Errors assume that the covariance matrix of the errors is correctly specified.\n"
     ]
    }
   ],
   "source": [
    "#OLS for Developed Countries\n",
    "y = ip_avg_deved\n",
    "X = years_since_2000\n",
    "X_sm = sm.add_constant(X)\n",
    "ip_years_model_deved = sm.OLS(y,X_sm).fit()\n",
    "print(\"Developed Country Summary:\")\n",
    "print(ip_years_model_deved.summary())"
   ]
  },
  {
   "cell_type": "code",
   "execution_count": 153,
   "metadata": {},
   "outputs": [
    {
     "name": "stdout",
     "output_type": "stream",
     "text": [
      "Developing Country Summary:\n",
      "                            OLS Regression Results                            \n",
      "==============================================================================\n",
      "Dep. Variable:                      y   R-squared:                       0.983\n",
      "Model:                            OLS   Adj. R-squared:                  0.982\n",
      "Method:                 Least Squares   F-statistic:                     1188.\n",
      "Date:                Sun, 03 Dec 2023   Prob (F-statistic):           5.71e-20\n",
      "Time:                        18:57:10   Log-Likelihood:                -433.91\n",
      "No. Observations:                  23   AIC:                             871.8\n",
      "Df Residuals:                      21   BIC:                             874.1\n",
      "Df Model:                           1                                         \n",
      "Covariance Type:            nonrobust                                         \n",
      "==================================================================================\n",
      "                     coef    std err          t      P>|t|      [0.025      0.975]\n",
      "----------------------------------------------------------------------------------\n",
      "const          -1.027e+07    1.6e+07     -0.644      0.527   -4.35e+07    2.29e+07\n",
      "YearsSince2000  4.282e+07   1.24e+06     34.469      0.000    4.02e+07    4.54e+07\n",
      "==============================================================================\n",
      "Omnibus:                        2.998   Durbin-Watson:                   1.309\n",
      "Prob(Omnibus):                  0.223   Jarque-Bera (JB):                1.968\n",
      "Skew:                           0.512   Prob(JB):                        0.374\n",
      "Kurtosis:                       1.998   Cond. No.                         25.0\n",
      "==============================================================================\n",
      "\n",
      "Notes:\n",
      "[1] Standard Errors assume that the covariance matrix of the errors is correctly specified.\n"
     ]
    }
   ],
   "source": [
    "#OLS for Developing Countries\n",
    "y = ip_avg_deving\n",
    "X = years_since_2000\n",
    "X_sm = sm.add_constant(X)\n",
    "ip_years_model_deving = sm.OLS(y,X_sm).fit()\n",
    "print(\"Developing Country Summary:\")\n",
    "print(ip_years_model_deving.summary())"
   ]
  },
  {
   "cell_type": "markdown",
   "metadata": {},
   "source": [
    "For Developed Countries, we can see from our summary that the coefficient for the 'Years Since 2000' variable is 2.629e+08, which means that for every additional year since 2000, we can expect the Intellectual Property Charges for Developed Countries on average to increase by about $263 Million.  The p-value for this coefficient is less than 0.005, meaning we can consider this statistically significant.\n",
    "\n",
    "For Developing Countries, we can see from our summary that the coefficient for the 'Years Since 2000' variable is 4.282e+07, which means that for every additional year since 2000, we can expect the Intellectual Property Charges for Developing Countries on average to increase by about $43 Million.  The p-value for this coefficient is less than 0.005, meaning we can consider this statistically significant.\n",
    "\n",
    "From this regression (which we will explore more in Evaluation of Significance + Interpretations), we see that an increase in the year since 2000 most likely positively influences Intellectual Property Charges for both developed and developing countries, and influences developed countries with a greater magnitude."
   ]
  },
  {
   "cell_type": "markdown",
   "metadata": {},
   "source": [
=======
>>>>>>> 593dc8a89e020ddb357c44ed055de34a89dcb488
    "## Evaluation of Significance\n",
    "\n",
    "Hypothesis 1: \n",
    "The logistic regression derived indicates that the coefficient for 'Borrower's Obligation' is very close to 0 ( around  -2.16e-10), and the odds ratio is close to 1. The odds ratio is calculated by e to the negative coefficient (e ^ -2.16e-10). This suggests that the odds of a country being developed does not significantly or necessarily change with a one dollar (USD) increase in borrower’s obligation. The p value is 0.027 \n",
    "\n",
    "Hypothesis 2: \n",
    "The linear regression 0.0005000575461410255. Because this is a positive number we know that there is a positive relationship between Intellectual Property Changes and GDP. It is important to acknowledge that the number is extremely small meaning that there is a weak relationship between the numbers. In other words it means that for an increase in Intellectual property there might be an increase in GDP but it will not have substantial impact. As a result, it is not significantly changing. \n"
   ]
  },
  {
   "cell_type": "markdown",
   "metadata": {},
   "source": [
    "## Intepretation and Conclusions\n",
    "\n",
    "- Interpretation: \n",
    "\n",
    "Hypothesis 1: \n",
    "The purpose of the logistic regression was to determine whether a country’s status of being developed or developing could be predicted based on the country’s borrower's obligation to the World Bank. The coefficient was -2.16015716e-10. Therefore, the odds ratio is approximately 1 as explained previously. This means that for every 1 (measured in USD dollars) increase in borrower’s obligation, the probability of a country being developed changes by a small amount. Thus, this tells us that a country’s borrower’s obligation is not a strong enough indicator of whether a country is developed or not. \n",
    "\n",
    "Hypothesis 2: \n",
    "\n",
    "The purpose of the linear regression was to determine the relationship between a country’s GDP (Gross Domestic Product measured in USD dollars) and the country’s intellectual property changes (measured in USD dollars). The coefficient was 0.0005. This means that for every 1 increase in GDP (in USD dollars), the Intellectual Property Charges are predicted to increase by 0.0005 units. This is a positive number and does indicate a relationship between the values, but it is still a very small number. This means that there might not be as much of a change in the Intellectual Property Changes as we would have expected. \n",
    "\n",
    "- Conclusion:\n",
    "\n",
    "The analysis conducted above looks at data in an economic context and whether our initial hypothesis showed significance as we expected. We have now determined that the logistic regression did not show a strong relationship between Borrower’s obligation and the country’s developed or developing status. This was against our initial hypothesis. The linear relationship showed statistical significance between Intellectual Property Changes and GDP but because of how small the number is we determined that it had a small effect on the dependent variable in the scenario. As a result, both of these hypotheses emphasized the need for statistical analysis when determining coefficients and regression results. We hope that with more variables and further analysis we will be able to craft models and determine predictors for different aspects of a country’s economic landscape. \n"
   ]
  },
  {
   "cell_type": "markdown",
   "metadata": {},
   "source": [
    "## Limitations\n",
    "Below are the key limitations that we found:\n",
    "\n",
    "1. The data sets used cover GDP, World Bank debt, intellectual property transactions, and a list of developing and developed countries. While comprehensive, they might not account for all factors influencing a country's economic health. Variables like political stability, demographic changes, global market trends, and internal economic policies are not considered but can significantly impact GDP and debt levels.\n",
    "\n",
    "2. The focus on data from 2000 to 2022 might miss longer-term trends and historical contexts that could influence current economic conditions. Economic policies and global events prior to 2000 could have lasting impacts not captured in this analysis.\n",
    "\n",
    "3. The use of a binary classification (developed vs. developing) oversimplifies the spectrum of economic development. Many countries do not fit neatly into these categories, and such a binary view might overlook important nuances.\n",
    "\n",
    "4. The analysis, primarily based on regression models, can indicate correlations but not necessarily causality. For instance, while there might be a relationship between GDP and intellectual property charges, this does not imply that one causes the other.\n",
    "\n",
    "5. Given the diverse nature of economies and the unique circumstances of each country, the findings from this analysis may not be universally applicable. What holds true for one set of countries might not apply to others.\n",
    "\n",
    "6. The logistic and linear regression models used have their own limitations. For instance, logistic regression might not capture complex, non-linear relationships. Similarly, linear regression assumptions (like homoscedasticity, normality of residuals) might not hold true for all the variables analyzed.\n",
    "\n",
    "7. The datasets are secondary sources compiled by different organizations, which might have varying standards of data collection and reporting. Also, not all countries might have reported all the required data, leading to potential biases or inaccuracies in the analysis.\n",
    "\n",
    "8. The analysis is quantitative and may not fully account for qualitative aspects like the nature of intellectual property rights enforcement, the terms of World Bank loans, or the specific economic policies of countries.\n",
    "\n",
    "9. While the analysis might show statistical significance (like a small but non-zero correlation between GDP and intellectual property charges), the practical significance of these findings (how they translate into real-world implications) needs careful interpretation.\n",
    "\n",
    "10. There were a few missing data that would have ‘..’ instead of 0 and NaN. As a result, we had to fill in the spaces with NaN to account for the lack of data.\n",
    "\n",
    "hhhhh"
   ]
  }
 ],
 "metadata": {
  "kernelspec": {
   "display_name": "Python 3 (ipykernel)",
   "language": "python",
   "name": "python3"
  },
  "language_info": {
   "codemirror_mode": {
    "name": "ipython",
    "version": 3
   },
   "file_extension": ".py",
   "mimetype": "text/x-python",
   "name": "python",
   "nbconvert_exporter": "python",
   "pygments_lexer": "ipython3",
   "version": "3.11.4"
  }
 },
 "nbformat": 4,
 "nbformat_minor": 2
}

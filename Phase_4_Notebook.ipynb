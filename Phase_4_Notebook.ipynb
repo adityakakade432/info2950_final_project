{
 "cells": [
  {
   "cell_type": "markdown",
   "metadata": {},
   "source": [
    "## Introduction"
   ]
  },
  {
   "cell_type": "markdown",
   "metadata": {},
   "source": [
    "## Preregistration of Hypotheses"
   ]
  },
  {
   "cell_type": "markdown",
   "metadata": {},
   "source": [
    "Hypothesis 1: If a country’s borrower's obligation is greater, then they will be more likely to be a developed country. \n",
    "\n",
    "Analysis: We will conduct a logistic regression where we output whether or not a country is developed or developing (a dummy variable) based on an input of the borrower’s obligation (in USD dollars). The developed country dummy will be the reference variable, so we will test whether $e^\\beta$, where $\\beta$ is the coefficient output by the regression equation for the 'Borrower's Obligation' variable, is greater than 1.\n",
    "\n",
    "Hypothesis 2: The higher a country’s GDP (in USD Dollars), the higher the intellectual property charges (in USD Dollars). \n",
    "\n",
    "Analysis: We will conduct a linear regression where we input the GDP of a country and output the intellectual property charges. We would test whether  (the regression coefficient of GDP in our equation) is greater than 0 (if an increase in GDP causes an increase in Intellectual Property Charges). \n"
   ]
  },
  {
   "cell_type": "markdown",
   "metadata": {},
   "source": [
    "## Data Analysis + Interpretations"
   ]
  },
  {
   "cell_type": "code",
   "execution_count": 40,
   "metadata": {},
   "outputs": [],
   "source": [
    "import pandas as pd\n",
    "import numpy as np\n",
    "import math as math\n",
    "\n",
    "from sklearn.linear_model import LinearRegression, LogisticRegression\n",
    "from sklearn.model_selection import train_test_split, KFold, cross_val_score\n",
    "\n",
    "from scipy import stats\n",
    "\n",
    "import seaborn as sns\n",
    "import matplotlib.pyplot as plt"
   ]
  },
  {
   "cell_type": "markdown",
   "metadata": {},
   "source": [
    "### Hypothesis 1: Logistic Regression"
   ]
  },
  {
   "cell_type": "code",
   "execution_count": 19,
   "metadata": {},
   "outputs": [
    {
     "name": "stdout",
     "output_type": "stream",
     "text": [
      "   Country  Original Principal Amount  Cancelled Amount  Undisbursed Amount  \\\n",
      "0  Albania               2.032160e+09      1.402591e+08         746585590.2   \n",
      "1  Armenia               1.224900e+09      4.430277e+07         130159016.0   \n",
      "\n",
      "   Disbursed Amount  Borrower's Obligation Country_Code     Indicator_Name  \\\n",
      "0      1.082344e+09            874013475.8          ALB  GDP (current US$)   \n",
      "1      1.053062e+09            967175073.4          ARM  GDP (current US$)   \n",
      "\n",
      "   Indicator_Code          2000  ...          2014          2015  \\\n",
      "0  NY.GDP.MKTP.CD  3.480355e+09  ...  1.322815e+10  1.138685e+10   \n",
      "1  NY.GDP.MKTP.CD  1.911564e+09  ...  1.160951e+10  1.055334e+10   \n",
      "\n",
      "           2016          2017          2018          2019          2020  \\\n",
      "0  1.186120e+10  1.301973e+10  1.515642e+10  1.540183e+10  1.516273e+10   \n",
      "1  1.054614e+10  1.152746e+10  1.245794e+10  1.361929e+10  1.264170e+10   \n",
      "\n",
      "           2021          2022  developed  \n",
      "0  1.793057e+10  1.888210e+10        0.0  \n",
      "1  1.386141e+10  1.950278e+10        0.0  \n",
      "\n",
      "[2 rows x 33 columns]\n"
     ]
    }
   ],
   "source": [
    "#loading in cleaned csv from phase 2 (gdp data, debt data, and developed binary\n",
    "#variable)\n",
    "\n",
    "gdp_debt_csv = pd.read_csv(\"./GDP_Debt_Combined.csv\")\n",
    "print(gdp_debt_csv.head(2))"
   ]
  },
  {
   "cell_type": "code",
   "execution_count": 43,
   "metadata": {},
   "outputs": [
    {
     "name": "stderr",
     "output_type": "stream",
     "text": [
      "No handles with labels found to put in legend.\n"
     ]
    },
    {
     "data": {
      "text/plain": [
       "<matplotlib.legend.Legend at 0x23c2ccf1760>"
      ]
     },
     "execution_count": 43,
     "metadata": {},
     "output_type": "execute_result"
    },
    {
     "data": {
      "image/png": "[encoded data removed]",
      "text/plain": [
       "<Figure size 720x432 with 1 Axes>"
      ]
     },
     "metadata": {
      "needs_background": "light"
     },
     "output_type": "display_data"
    }
   ],
   "source": [
    "#plotting the data prior to the regression analysis, to get a visual\n",
    "#understanding of borrower's obligation  in relation to developed/developing\n",
    "\n",
    "plt.figure(figsize = (10, 6))\n",
    "sns.scatterplot(y = gdp_debt_csv['developed'], x = gdp_debt_csv['Borrower\\'s Obligation'])\n",
    "plt.ylabel('Developed Binary Value')\n",
    "plt.xlabel('Borrower\\'s Obligation (Billions of $)')\n",
    "plt.legend()"
   ]
  },
  {
   "cell_type": "code",
   "execution_count": 41,
   "metadata": {},
   "outputs": [
    {
     "name": "stdout",
     "output_type": "stream",
     "text": [
      "The model's coefficient is [[-2.16015716e-10]]\n",
      "The value for e^(beta) is 0.9999999997839842\n"
     ]
    }
   ],
   "source": [
    "#fitting model and looking at coefficient\n",
    "b_obl_model = LogisticRegression().fit(gdp_debt_csv[['Borrower\\'s Obligation']], gdp_debt_csv['developed'])\n",
    "b_obl_coeff = b_obl_model.coef_\n",
    "print(f\"The model's coefficient is {b_obl_coeff}\")\n",
    "print(f\"The value for e^(beta) is {math.exp(b_obl_coeff)}\")"
   ]
  },
  {
   "cell_type": "markdown",
   "metadata": {},
   "source": [
    "In this case, the value for $e^\\beta$ is approximately 1.  This means that for every dollar change in the amount of money for a country's Borrower's Obligation, we expect that the odds of a country being developed are multiplied by 1.  This is inconclusive, because it means that the odds of a country being developed stay the same regardless of any change in borrower's obligation.  As a result, our hypothesis was not true."
   ]
  },
  {
   "cell_type": "markdown",
   "metadata": {},
   "source": [
    "### Hypothesis 2: Linear Regression"
   ]
  },
  {
   "cell_type": "code",
   "execution_count": 46,
   "metadata": {},
   "outputs": [
    {
     "name": "stdout",
     "output_type": "stream",
     "text": [
      "   Country  Original Principal Amount  Cancelled Amount  Undisbursed Amount  \\\n",
      "0  Albania               2.032160e+09      1.402591e+08         746585590.2   \n",
      "1  Algeria               5.911830e+09      1.605315e+09                 0.0   \n",
      "\n",
      "   Disbursed Amount  Borrower's Obligation Country_Code  \\\n",
      "0      1.082344e+09            874013475.8          ALB   \n",
      "1      4.306515e+09                    0.0          DZA   \n",
      "\n",
      "                                         Series_Name     Series_Code  2000  \\\n",
      "0  Charges for the use of intellectual property, ...  BM.GSR.ROYL.CD   0.0   \n",
      "1  Charges for the use of intellectual property, ...  BM.GSR.ROYL.CD   0.0   \n",
      "\n",
      "   ...          2014          2015          2016          2017         2018  \\\n",
      "0  ...  2.188193e+07  2.457801e+07  2.316308e+07  1.313243e+07   26412466.5   \n",
      "1  ...  1.439974e+08  2.500106e+08  1.528979e+08  1.472687e+08  115089900.8   \n",
      "\n",
      "           2019          2020          2021          2022  developed  \n",
      "0  3.478422e+07  3.860932e+07  3.476372e+07  3.172757e+07        0.0  \n",
      "1  1.430987e+08  1.333927e+08  2.029873e+08  1.226772e+08        0.0  \n",
      "\n",
      "[2 rows x 33 columns]\n"
     ]
    }
   ],
   "source": [
    "ip_debt_csv = pd.read_csv(\"./Int_Prop_Debt_Combined.csv\")\n",
    "print(ip_debt_csv.head(2))"
   ]
  },
  {
   "cell_type": "code",
   "execution_count": 53,
   "metadata": {},
   "outputs": [
    {
     "name": "stdout",
     "output_type": "stream",
     "text": [
      "               Country  Original Principal Amount  Cancelled Amount  \\\n",
      "0              Albania               2.032160e+09      1.402591e+08   \n",
      "1              Algeria               5.911830e+09      1.605315e+09   \n",
      "2  Antigua and Barbuda               1.200000e+07      7.435746e+06   \n",
      "3              Armenia               1.224900e+09      4.430277e+07   \n",
      "4           Azerbaijan               3.479300e+09      5.324351e+08   \n",
      "\n",
      "   Undisbursed Amount  Disbursed Amount  Borrower's Obligation Country_Code  \\\n",
      "0         746585590.2      1.082344e+09           8.740135e+08          ALB   \n",
      "1                 0.0      4.306515e+09           0.000000e+00          DZA   \n",
      "2             51614.0      4.512640e+06           4.012867e+06          ATG   \n",
      "3         130159016.0      1.053062e+09           9.671751e+08          ARM   \n",
      "4         108026863.4      2.838838e+09           1.250364e+09          AZE   \n",
      "\n",
      "                                         Series_Name     Series_Code  \\\n",
      "0  Charges for the use of intellectual property, ...  BM.GSR.ROYL.CD   \n",
      "1  Charges for the use of intellectual property, ...  BM.GSR.ROYL.CD   \n",
      "2  Charges for the use of intellectual property, ...  BM.GSR.ROYL.CD   \n",
      "3  Charges for the use of intellectual property, ...  BM.GSR.ROYL.CD   \n",
      "4  Charges for the use of intellectual property, ...  BM.GSR.ROYL.CD   \n",
      "\n",
      "          2000  ...          2015          2016          2017          2018  \\\n",
      "0       0.0000  ...  2.457801e+07  2.316308e+07  1.313243e+07  2.641247e+07   \n",
      "1       0.0000  ...  2.500106e+08  1.528979e+08  1.472687e+08  1.150899e+08   \n",
      "2  288888.8889  ...  3.074427e+06  4.026739e+06  4.961232e+06  3.790929e+06   \n",
      "3       0.0000  ...  0.000000e+00  0.000000e+00  0.000000e+00  0.000000e+00   \n",
      "4       0.0000  ...  0.000000e+00  0.000000e+00  0.000000e+00  0.000000e+00   \n",
      "\n",
      "           2019          2020          2021          2022  developed  \\\n",
      "0  3.478422e+07  3.860932e+07  3.476372e+07  3.172757e+07        0.0   \n",
      "1  1.430987e+08  1.333927e+08  2.029873e+08  1.226772e+08        0.0   \n",
      "2  3.964437e+06  1.307833e+06  3.187710e+06  0.000000e+00        0.0   \n",
      "3  0.000000e+00  0.000000e+00  0.000000e+00  0.000000e+00        0.0   \n",
      "4  0.000000e+00  0.000000e+00  0.000000e+00  1.980870e+08        0.0   \n",
      "\n",
      "            avg  \n",
      "0  1.665194e+07  \n",
      "1  8.471479e+07  \n",
      "2  1.715519e+06  \n",
      "3  0.000000e+00  \n",
      "4  1.276065e+07  \n",
      "\n",
      "[5 rows x 34 columns]\n",
      "               Country  Original Principal Amount  Cancelled Amount  \\\n",
      "0              Albania               2.032160e+09      1.402591e+08   \n",
      "1              Armenia               1.224900e+09      4.430277e+07   \n",
      "2  Antigua and Barbuda               1.200000e+07      7.435746e+06   \n",
      "3           Azerbaijan               3.479300e+09      5.324351e+08   \n",
      "4              Burundi               4.800000e+06      0.000000e+00   \n",
      "\n",
      "   Undisbursed Amount  Disbursed Amount  Borrower's Obligation Country_Code  \\\n",
      "0         746585590.2      1.082344e+09           8.740135e+08          ALB   \n",
      "1         130159016.0      1.053062e+09           9.671751e+08          ARM   \n",
      "2             51614.0      4.512640e+06           4.012867e+06          ATG   \n",
      "3         108026863.4      2.838838e+09           1.250364e+09          AZE   \n",
      "4                 0.0      4.800000e+06           0.000000e+00          BDI   \n",
      "\n",
      "      Indicator_Name  Indicator_Code          2000  ...          2015  \\\n",
      "0  GDP (current US$)  NY.GDP.MKTP.CD  3.480355e+09  ...  1.138685e+10   \n",
      "1  GDP (current US$)  NY.GDP.MKTP.CD  1.911564e+09  ...  1.055334e+10   \n",
      "2  GDP (current US$)  NY.GDP.MKTP.CD  8.263704e+08  ...  1.336693e+09   \n",
      "3  GDP (current US$)  NY.GDP.MKTP.CD  5.272617e+09  ...  5.307624e+10   \n",
      "4  GDP (current US$)  NY.GDP.MKTP.CD  8.704861e+08  ...  3.104004e+09   \n",
      "\n",
      "           2016          2017          2018          2019          2020  \\\n",
      "0  1.186120e+10  1.301973e+10  1.515642e+10  1.540183e+10  1.516273e+10   \n",
      "1  1.054614e+10  1.152746e+10  1.245794e+10  1.361929e+10  1.264170e+10   \n",
      "2  1.436585e+09  1.467956e+09  1.604770e+09  1.675404e+09  1.416348e+09   \n",
      "3  3.786701e+10  4.086663e+10  4.711248e+10  4.817424e+10  4.269300e+10   \n",
      "4  2.644488e+09  2.723587e+09  2.667182e+09  2.576519e+09  2.649680e+09   \n",
      "\n",
      "           2021          2022  developed           avg  \n",
      "0  1.793057e+10  1.888210e+10        0.0  1.126265e+10  \n",
      "1  1.386141e+10  1.950278e+10        0.0  9.176261e+09  \n",
      "2  1.560519e+09  1.757604e+09        0.0  1.238369e+09  \n",
      "3  5.482541e+10  7.872106e+10        0.0  4.064661e+10  \n",
      "4  2.775799e+09  3.073415e+09        0.0  1.973301e+09  \n",
      "\n",
      "[5 rows x 34 columns]\n"
     ]
    }
   ],
   "source": [
    "data_columns = ['2000', '2001', '2002', '2003', '2004', '2005', '2006', '2007', '2008',\n",
    "       '2009', '2010', '2011', '2012', '2013', '2014', '2015', '2016', '2017',\n",
    "       '2018', '2019', '2020', '2021', '2022']\n",
    "\n",
    "ip_avg = ip_debt_csv[data_columns].mean(axis = 1)\n",
    "ip_debt_csv['avg'] = ip_avg\n",
    "print(ip_debt_csv.head())\n",
    "\n",
    "gdp_avg = gdp_debt_csv[data_columns].mean(axis = 1)\n",
    "gdp_debt_csv['avg'] = gdp_avg\n",
    "print(gdp_debt_csv.head())"
   ]
  },
  {
   "cell_type": "code",
   "execution_count": 58,
   "metadata": {},
   "outputs": [
    {
     "name": "stdout",
     "output_type": "stream",
     "text": [
      "The coefficient for the GDP variable is [0.00050006]\n"
     ]
    }
   ],
   "source": [
    "gdp_ip_model = LinearRegression().fit(X = gdp_debt_csv[['avg']], y = ip_avg)\n",
    "gdp_coeff = gdp_ip_model.coef_\n",
    "print(f\"The coefficient for the GDP variable is {gdp_coeff}\")"
   ]
  },
  {
   "cell_type": "markdown",
   "metadata": {},
   "source": [
    "In this case, the value for the coefficient of the GDP variable in the linear regression is 0.005006.  This means that for every dollar change in the amount of money for a country's Gross Domestic Product is, we can expect the country's Intellectual Property Charges to increase by $0.0005.  This is an extremely small amount, but because our GDP and Intellectual Property Charge values are in the Billions, it does show an positive correlation between GDP and Intellectual Property Charge.  As a result, our hypothesis was true to an extent."
   ]
  },
  {
   "cell_type": "markdown",
   "metadata": {},
   "source": [
    "Plan for rest: Conduct regression to predict gdp from intellectual property charges in each year using train test, look at residuals\n",
    "\n",
    "Conduct hypothesis test to compare mean gdps for developed and developing countries\n",
    "\n",
    "Conduct logistic regression to tyr to predict whether country is developed or developing from gdps and ip charges since 2000"
   ]
  },
  {
   "cell_type": "markdown",
   "metadata": {},
   "source": [
    "## Limitations"
   ]
  }
 ],
 "metadata": {
  "kernelspec": {
   "display_name": "Python 3",
   "language": "python",
   "name": "python3"
  },
  "language_info": {
   "codemirror_mode": {
    "name": "ipython",
    "version": 3
   },
   "file_extension": ".py",
   "mimetype": "text/x-python",
   "name": "python",
   "nbconvert_exporter": "python",
   "pygments_lexer": "ipython3",
   "version": "3.8.8"
  }
 },
 "nbformat": 4,
 "nbformat_minor": 2
}
